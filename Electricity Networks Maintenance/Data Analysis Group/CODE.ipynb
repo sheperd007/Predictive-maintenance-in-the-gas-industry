{
 "cells": [
  {
   "cell_type": "code",
   "execution_count": 1,
   "metadata": {},
   "outputs": [],
   "source": [
    "import numpy as np\n",
    "import pandas as pd"
   ]
  },
  {
   "cell_type": "code",
   "execution_count": 2,
   "metadata": {},
   "outputs": [],
   "source": [
    "import matplotlib.pyplot as plt\n",
    "import seaborn as sns"
   ]
  },
  {
   "cell_type": "code",
   "execution_count": 3,
   "metadata": {},
   "outputs": [
    {
     "data": {
      "text/html": [
       "<div>\n",
       "<style scoped>\n",
       "    .dataframe tbody tr th:only-of-type {\n",
       "        vertical-align: middle;\n",
       "    }\n",
       "\n",
       "    .dataframe tbody tr th {\n",
       "        vertical-align: top;\n",
       "    }\n",
       "\n",
       "    .dataframe thead th {\n",
       "        text-align: right;\n",
       "    }\n",
       "</style>\n",
       "<table border=\"1\" class=\"dataframe\">\n",
       "  <thead>\n",
       "    <tr style=\"text-align: right;\">\n",
       "      <th></th>\n",
       "      <th>BN</th>\n",
       "      <th>TOF</th>\n",
       "      <th>AF</th>\n",
       "      <th>DS</th>\n",
       "      <th>feeder</th>\n",
       "      <th>RC</th>\n",
       "      <th>TOP</th>\n",
       "      <th>Relay</th>\n",
       "      <th>COB</th>\n",
       "      <th>PD</th>\n",
       "      <th>COP</th>\n",
       "      <th>DFB</th>\n",
       "      <th>CFB</th>\n",
       "      <th>DOFDB</th>\n",
       "      <th>PS</th>\n",
       "      <th>STOLP</th>\n",
       "      <th>EENS</th>\n",
       "    </tr>\n",
       "  </thead>\n",
       "  <tbody>\n",
       "    <tr>\n",
       "      <th>0</th>\n",
       "      <td>88644</td>\n",
       "      <td>A</td>\n",
       "      <td>A</td>\n",
       "      <td>A</td>\n",
       "      <td>A</td>\n",
       "      <td>0.177419</td>\n",
       "      <td>A</td>\n",
       "      <td>A</td>\n",
       "      <td>A</td>\n",
       "      <td>NaN</td>\n",
       "      <td>NaN</td>\n",
       "      <td>1398/01/01 06:54</td>\n",
       "      <td>1398/01/01 06:59</td>\n",
       "      <td>5</td>\n",
       "      <td>NaN</td>\n",
       "      <td>NaN</td>\n",
       "      <td>0.010946</td>\n",
       "    </tr>\n",
       "    <tr>\n",
       "      <th>1</th>\n",
       "      <td>88645</td>\n",
       "      <td>A</td>\n",
       "      <td>B</td>\n",
       "      <td>B</td>\n",
       "      <td>B</td>\n",
       "      <td>0.145161</td>\n",
       "      <td>A</td>\n",
       "      <td>A</td>\n",
       "      <td>B</td>\n",
       "      <td>B</td>\n",
       "      <td>B</td>\n",
       "      <td>1398/01/01 07:15</td>\n",
       "      <td>1398/01/01 07:17</td>\n",
       "      <td>2</td>\n",
       "      <td>NaN</td>\n",
       "      <td>NaN</td>\n",
       "      <td>0.003127</td>\n",
       "    </tr>\n",
       "    <tr>\n",
       "      <th>2</th>\n",
       "      <td>88648</td>\n",
       "      <td>A</td>\n",
       "      <td>A</td>\n",
       "      <td>C</td>\n",
       "      <td>C</td>\n",
       "      <td>0.032258</td>\n",
       "      <td>A</td>\n",
       "      <td>A</td>\n",
       "      <td>C</td>\n",
       "      <td>NaN</td>\n",
       "      <td>NaN</td>\n",
       "      <td>1398/01/01 12:03</td>\n",
       "      <td>1398/01/01 12:45</td>\n",
       "      <td>42</td>\n",
       "      <td>NaN</td>\n",
       "      <td>NaN</td>\n",
       "      <td>0.016419</td>\n",
       "    </tr>\n",
       "  </tbody>\n",
       "</table>\n",
       "</div>"
      ],
      "text/plain": [
       "      BN TOF AF DS feeder        RC TOP Relay COB   PD  COP               DFB  \\\n",
       "0  88644   A  A  A      A  0.177419   A     A   A  NaN  NaN  1398/01/01 06:54   \n",
       "1  88645   A  B  B      B  0.145161   A     A   B    B    B  1398/01/01 07:15   \n",
       "2  88648   A  A  C      C  0.032258   A     A   C  NaN  NaN  1398/01/01 12:03   \n",
       "\n",
       "                CFB  DOFDB   PS  STOLP      EENS  \n",
       "0  1398/01/01 06:59      5  NaN    NaN  0.010946  \n",
       "1  1398/01/01 07:17      2  NaN    NaN  0.003127  \n",
       "2  1398/01/01 12:45     42  NaN    NaN  0.016419  "
      ]
     },
     "execution_count": 3,
     "metadata": {},
     "output_type": "execute_result"
    }
   ],
   "source": [
    "df=pd.read_excel('E:/داده کاوی گاز/output.Xlsx')\n",
    "df.head(3)"
   ]
  },
  {
   "cell_type": "code",
   "execution_count": 5,
   "metadata": {},
   "outputs": [
    {
     "name": "stdout",
     "output_type": "stream",
     "text": [
      "<class 'pandas.core.frame.DataFrame'>\n",
      "RangeIndex: 1649 entries, 0 to 1648\n",
      "Data columns (total 17 columns):\n",
      " #   Column  Non-Null Count  Dtype  \n",
      "---  ------  --------------  -----  \n",
      " 0   BN      1649 non-null   int64  \n",
      " 1   TOF     1649 non-null   object \n",
      " 2   AF      1649 non-null   object \n",
      " 3   DS      1649 non-null   object \n",
      " 4   feeder  1649 non-null   object \n",
      " 5   RC      1649 non-null   float64\n",
      " 6   TOP     1649 non-null   object \n",
      " 7   Relay   1649 non-null   object \n",
      " 8   COB     1649 non-null   object \n",
      " 9   PD      858 non-null    object \n",
      " 10  COP     807 non-null    object \n",
      " 11  DFB     1649 non-null   object \n",
      " 12  CFB     1646 non-null   object \n",
      " 13  DOFDB   1649 non-null   int64  \n",
      " 14  PS      812 non-null    object \n",
      " 15  STOLP   813 non-null    float64\n",
      " 16  EENS    1649 non-null   float64\n",
      "dtypes: float64(3), int64(2), object(12)\n",
      "memory usage: 219.1+ KB\n"
     ]
    }
   ],
   "source": [
    "df.info()"
   ]
  },
  {
   "cell_type": "code",
   "execution_count": 6,
   "metadata": {},
   "outputs": [
    {
     "data": {
      "text/plain": [
       "Index(['BN', 'TOF', 'AF', 'DS', 'feeder', 'RC', 'TOP', 'Relay', 'COB', 'PD',\n",
       "       'COP', 'DFB', 'CFB', 'DOFDB', 'PS', 'STOLP', 'EENS'],\n",
       "      dtype='object')"
      ]
     },
     "execution_count": 6,
     "metadata": {},
     "output_type": "execute_result"
    }
   ],
   "source": [
    "df.columns"
   ]
  },
  {
   "cell_type": "code",
   "execution_count": 4,
   "metadata": {},
   "outputs": [],
   "source": [
    "data=df.drop(['PD','COP','PS', 'STOLP'],axis=1)"
   ]
  },
  {
   "cell_type": "code",
   "execution_count": 5,
   "metadata": {},
   "outputs": [],
   "source": [
    "data.dropna(axis=0,inplace=True)"
   ]
  },
  {
   "cell_type": "code",
   "execution_count": 6,
   "metadata": {},
   "outputs": [
    {
     "name": "stdout",
     "output_type": "stream",
     "text": [
      "<class 'pandas.core.frame.DataFrame'>\n",
      "Int64Index: 1646 entries, 0 to 1648\n",
      "Data columns (total 13 columns):\n",
      " #   Column  Non-Null Count  Dtype  \n",
      "---  ------  --------------  -----  \n",
      " 0   BN      1646 non-null   int64  \n",
      " 1   TOF     1646 non-null   object \n",
      " 2   AF      1646 non-null   object \n",
      " 3   DS      1646 non-null   object \n",
      " 4   feeder  1646 non-null   object \n",
      " 5   RC      1646 non-null   float64\n",
      " 6   TOP     1646 non-null   object \n",
      " 7   Relay   1646 non-null   object \n",
      " 8   COB     1646 non-null   object \n",
      " 9   DFB     1646 non-null   object \n",
      " 10  CFB     1646 non-null   object \n",
      " 11  DOFDB   1646 non-null   int64  \n",
      " 12  EENS    1646 non-null   float64\n",
      "dtypes: float64(2), int64(2), object(9)\n",
      "memory usage: 180.0+ KB\n"
     ]
    }
   ],
   "source": [
    "data.info()"
   ]
  },
  {
   "cell_type": "code",
   "execution_count": 7,
   "metadata": {},
   "outputs": [],
   "source": [
    "x=data.drop('EENS',axis=1)\n",
    "y=data['EENS']"
   ]
  },
  {
   "cell_type": "code",
   "execution_count": 8,
   "metadata": {},
   "outputs": [],
   "source": [
    "from category_encoders import TargetEncoder"
   ]
  },
  {
   "cell_type": "code",
   "execution_count": 9,
   "metadata": {},
   "outputs": [],
   "source": [
    "encoder=TargetEncoder()\n",
    "encoder.fit(x,y)\n",
    "xclean=encoder.transform(x)"
   ]
  },
  {
   "cell_type": "code",
   "execution_count": 10,
   "metadata": {},
   "outputs": [
    {
     "name": "stdout",
     "output_type": "stream",
     "text": [
      "<class 'pandas.core.frame.DataFrame'>\n",
      "Int64Index: 1646 entries, 0 to 1648\n",
      "Data columns (total 12 columns):\n",
      " #   Column  Non-Null Count  Dtype  \n",
      "---  ------  --------------  -----  \n",
      " 0   BN      1646 non-null   int64  \n",
      " 1   TOF     1646 non-null   float64\n",
      " 2   AF      1646 non-null   float64\n",
      " 3   DS      1646 non-null   float64\n",
      " 4   feeder  1646 non-null   float64\n",
      " 5   RC      1646 non-null   float64\n",
      " 6   TOP     1646 non-null   float64\n",
      " 7   Relay   1646 non-null   float64\n",
      " 8   COB     1646 non-null   float64\n",
      " 9   DFB     1646 non-null   float64\n",
      " 10  CFB     1646 non-null   float64\n",
      " 11  DOFDB   1646 non-null   int64  \n",
      "dtypes: float64(10), int64(2)\n",
      "memory usage: 167.2 KB\n"
     ]
    }
   ],
   "source": [
    "xclean.info()"
   ]
  },
  {
   "cell_type": "code",
   "execution_count": 11,
   "metadata": {},
   "outputs": [],
   "source": [
    "from sklearn.preprocessing import minmax_scale"
   ]
  },
  {
   "cell_type": "code",
   "execution_count": 12,
   "metadata": {},
   "outputs": [],
   "source": [
    "X=pd.DataFrame(minmax_scale(xclean),columns=xclean.columns)\n"
   ]
  },
  {
   "cell_type": "code",
   "execution_count": 13,
   "metadata": {},
   "outputs": [],
   "source": [
    "X.drop('BN',axis=1,inplace=True)"
   ]
  },
  {
   "cell_type": "code",
   "execution_count": 21,
   "metadata": {},
   "outputs": [],
   "source": [
    "from sklearn.tree import DecisionTreeRegressor\n",
    "from sklearn.ensemble import RandomForestRegressor\n",
    "from sklearn.svm import SVR\n",
    "from sklearn.model_selection import train_test_split\n",
    "from sklearn.metrics import mean_squared_error,r2_score\n",
    "from sklearn.metrics import mean_absolute_error"
   ]
  },
  {
   "cell_type": "code",
   "execution_count": 15,
   "metadata": {},
   "outputs": [],
   "source": [
    "xtrain,xtest,ytrain,ytest=train_test_split(X,y,test_size=0.2,random_state=9)"
   ]
  },
  {
   "cell_type": "code",
   "execution_count": 16,
   "metadata": {},
   "outputs": [
    {
     "name": "stdout",
     "output_type": "stream",
     "text": [
      "R2 train 0.847356091304627\n",
      "R2 test 0.5051002360863435\n"
     ]
    }
   ],
   "source": [
    "reg=DecisionTreeRegressor(max_depth=6,random_state=9)\n",
    "reg.fit(xtrain,ytrain)\n",
    "print('R2 train',reg.score(xtrain,ytrain))\n",
    "print('R2 test',reg.score(xtest,ytest))"
   ]
  },
  {
   "cell_type": "code",
   "execution_count": 17,
   "metadata": {},
   "outputs": [
    {
     "name": "stdout",
     "output_type": "stream",
     "text": [
      "MSE 0.002007760863204178\n",
      "MAE 0.025570393922324682\n"
     ]
    }
   ],
   "source": [
    "y1=reg.predict(xtest)\n",
    "print('MSE',mean_squared_error(ytest,y1))\n",
    "print('MAE',mean_absolute_error(ytest,y1))"
   ]
  },
  {
   "cell_type": "code",
   "execution_count": 49,
   "metadata": {},
   "outputs": [
    {
     "data": {
      "text/plain": [
       "Text(0, 0.5, 'Predicted EENS')"
      ]
     },
     "execution_count": 49,
     "metadata": {},
     "output_type": "execute_result"
    },
    {
     "data": {
      "image/png": "[encoded data removed]",
      "text/plain": [
       "<Figure size 432x360 with 1 Axes>"
      ]
     },
     "metadata": {
      "needs_background": "light"
     },
     "output_type": "display_data"
    }
   ],
   "source": [
    "plt.figure(figsize=(6,5))\n",
    "sns.regplot(x=ytest,y=y1)\n",
    "plt.xlabel('Actual EENS')\n",
    "plt.ylabel('Predicted EENS')"
   ]
  },
  {
   "cell_type": "code",
   "execution_count": 36,
   "metadata": {},
   "outputs": [
    {
     "name": "stdout",
     "output_type": "stream",
     "text": [
      "R2 train 0.31985996460569865\n",
      "R2 test 0.2305025027367279\n"
     ]
    }
   ],
   "source": [
    "reg1=SVR(C=15,gamma=0.01)\n",
    "reg1.fit(xtrain,ytrain)\n",
    "print('R2 train',reg1.score(xtrain,ytrain))\n",
    "print('R2 test',reg1.score(xtest,ytest))"
   ]
  },
  {
   "cell_type": "code",
   "execution_count": 37,
   "metadata": {},
   "outputs": [
    {
     "name": "stdout",
     "output_type": "stream",
     "text": [
      "MSE 0.003121777523434639\n",
      "MAE 0.04283123381948897\n"
     ]
    }
   ],
   "source": [
    "y2=reg1.predict(xtest)\n",
    "print('MSE',mean_squared_error(ytest,y2))\n",
    "print('MAE',mean_absolute_error(ytest,y2))"
   ]
  },
  {
   "cell_type": "code",
   "execution_count": 48,
   "metadata": {},
   "outputs": [
    {
     "data": {
      "text/plain": [
       "Text(0, 0.5, 'Predicted EENS')"
      ]
     },
     "execution_count": 48,
     "metadata": {},
     "output_type": "execute_result"
    },
    {
     "data": {
      "image/png": "[encoded data removed]",
      "text/plain": [
       "<Figure size 432x360 with 1 Axes>"
      ]
     },
     "metadata": {
      "needs_background": "light"
     },
     "output_type": "display_data"
    }
   ],
   "source": [
    "plt.figure(figsize=(6,5))\n",
    "sns.regplot(x=ytest,y=y2)\n",
    "plt.xlabel('Actual EENS')\n",
    "plt.ylabel('Predicted EENS')"
   ]
  },
  {
   "cell_type": "code",
   "execution_count": 40,
   "metadata": {},
   "outputs": [
    {
     "name": "stdout",
     "output_type": "stream",
     "text": [
      "R2 train 0.8264749819095002\n",
      "R2 test 0.675951286005924\n"
     ]
    }
   ],
   "source": [
    "reg2=RandomForestRegressor(max_depth=6,random_state=9,oob_score=True)\n",
    "reg2.fit(xtrain,ytrain)\n",
    "print('R2 train',reg2.score(xtrain,ytrain))\n",
    "print('R2 test',reg2.score(xtest,ytest))\n"
   ]
  },
  {
   "cell_type": "code",
   "execution_count": 41,
   "metadata": {},
   "outputs": [
    {
     "name": "stdout",
     "output_type": "stream",
     "text": [
      "MSE 0.0013146345445468025\n",
      "MAE 0.021064252745327243\n"
     ]
    }
   ],
   "source": [
    "y3=reg2.predict(xtest)\n",
    "print('MSE',mean_squared_error(ytest,y3))\n",
    "print('MAE',mean_absolute_error(ytest,y3))"
   ]
  },
  {
   "cell_type": "code",
   "execution_count": 45,
   "metadata": {},
   "outputs": [
    {
     "data": {
      "text/plain": [
       "Text(0, 0.5, 'Predicted EENS')"
      ]
     },
     "execution_count": 45,
     "metadata": {},
     "output_type": "execute_result"
    },
    {
     "data": {
      "image/png": "[encoded data removed]",
      "text/plain": [
       "<Figure size 432x360 with 1 Axes>"
      ]
     },
     "metadata": {
      "needs_background": "light"
     },
     "output_type": "display_data"
    }
   ],
   "source": [
    "plt.figure(figsize=(6,5))\n",
    "sns.regplot(x=ytest,y=y3)\n",
    "plt.xlabel('Actual EENS')\n",
    "plt.ylabel('Predicted EENS')"
   ]
  },
  {
   "cell_type": "code",
   "execution_count": 46,
   "metadata": {},
   "outputs": [
    {
     "data": {
      "text/html": [
       "<div>\n",
       "<style scoped>\n",
       "    .dataframe tbody tr th:only-of-type {\n",
       "        vertical-align: middle;\n",
       "    }\n",
       "\n",
       "    .dataframe tbody tr th {\n",
       "        vertical-align: top;\n",
       "    }\n",
       "\n",
       "    .dataframe thead th {\n",
       "        text-align: right;\n",
       "    }\n",
       "</style>\n",
       "<table border=\"1\" class=\"dataframe\">\n",
       "  <thead>\n",
       "    <tr style=\"text-align: right;\">\n",
       "      <th></th>\n",
       "      <th>Feature_Importance</th>\n",
       "    </tr>\n",
       "  </thead>\n",
       "  <tbody>\n",
       "    <tr>\n",
       "      <th>RC</th>\n",
       "      <td>0.397117</td>\n",
       "    </tr>\n",
       "    <tr>\n",
       "      <th>DOFDB</th>\n",
       "      <td>0.375873</td>\n",
       "    </tr>\n",
       "    <tr>\n",
       "      <th>COB</th>\n",
       "      <td>0.063162</td>\n",
       "    </tr>\n",
       "    <tr>\n",
       "      <th>AF</th>\n",
       "      <td>0.049603</td>\n",
       "    </tr>\n",
       "    <tr>\n",
       "      <th>feeder</th>\n",
       "      <td>0.049232</td>\n",
       "    </tr>\n",
       "    <tr>\n",
       "      <th>DS</th>\n",
       "      <td>0.031668</td>\n",
       "    </tr>\n",
       "    <tr>\n",
       "      <th>DFB</th>\n",
       "      <td>0.018314</td>\n",
       "    </tr>\n",
       "    <tr>\n",
       "      <th>Relay</th>\n",
       "      <td>0.014904</td>\n",
       "    </tr>\n",
       "    <tr>\n",
       "      <th>CFB</th>\n",
       "      <td>0.000128</td>\n",
       "    </tr>\n",
       "    <tr>\n",
       "      <th>TOF</th>\n",
       "      <td>0.000000</td>\n",
       "    </tr>\n",
       "    <tr>\n",
       "      <th>TOP</th>\n",
       "      <td>0.000000</td>\n",
       "    </tr>\n",
       "  </tbody>\n",
       "</table>\n",
       "</div>"
      ],
      "text/plain": [
       "        Feature_Importance\n",
       "RC                0.397117\n",
       "DOFDB             0.375873\n",
       "COB               0.063162\n",
       "AF                0.049603\n",
       "feeder            0.049232\n",
       "DS                0.031668\n",
       "DFB               0.018314\n",
       "Relay             0.014904\n",
       "CFB               0.000128\n",
       "TOF               0.000000\n",
       "TOP               0.000000"
      ]
     },
     "execution_count": 46,
     "metadata": {},
     "output_type": "execute_result"
    }
   ],
   "source": [
    "dfimportance =pd.DataFrame(reg2.feature_importances_, columns=['Feature_Importance'],\n",
    "                              index=xtrain.columns)\n",
    "dfimportance.sort_values(by='Feature_Importance',ascending=False,inplace=True)\n",
    "dfimportance"
   ]
  },
  {
   "cell_type": "code",
   "execution_count": 47,
   "metadata": {},
   "outputs": [
    {
     "data": {
      "image/png": "[encoded data removed]",
      "text/plain": [
       "<Figure size 432x288 with 1 Axes>"
      ]
     },
     "metadata": {
      "needs_background": "light"
     },
     "output_type": "display_data"
    }
   ],
   "source": [
    "sns.barplot(y=dfimportance.index,x=dfimportance['Feature_Importance'])\n",
    "plt.show()"
   ]
  },
  {
   "cell_type": "code",
   "execution_count": null,
   "metadata": {},
   "outputs": [],
   "source": []
  },
  {
   "cell_type": "code",
   "execution_count": null,
   "metadata": {},
   "outputs": [],
   "source": []
  },
  {
   "cell_type": "code",
   "execution_count": null,
   "metadata": {},
   "outputs": [],
   "source": []
  },
  {
   "cell_type": "code",
   "execution_count": null,
   "metadata": {},
   "outputs": [],
   "source": []
  }
 ],
 "metadata": {
  "kernelspec": {
   "display_name": "Python 3",
   "language": "python",
   "name": "python3"
  },
  "language_info": {
   "codemirror_mode": {
    "name": "ipython",
    "version": 3
   },
   "file_extension": ".py",
   "mimetype": "text/x-python",
   "name": "python",
   "nbconvert_exporter": "python",
   "pygments_lexer": "ipython3",
   "version": "3.8.3"
  }
 },
 "nbformat": 4,
 "nbformat_minor": 4
}
