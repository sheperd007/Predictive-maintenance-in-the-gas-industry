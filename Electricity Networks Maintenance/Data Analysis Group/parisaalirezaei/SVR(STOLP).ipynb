{
 "cells": [
  {
   "cell_type": "markdown",
   "metadata": {},
   "source": [
    "# data import (STOLP,different features)"
   ]
  },
  {
   "cell_type": "code",
   "execution_count": 1,
   "metadata": {},
   "outputs": [
    {
     "name": "stdout",
     "output_type": "stream",
     "text": [
      "         BN TOF AF  DS feeder        RC TOP Relay COB   PD  COP  \\\n",
      "0     88644   A  A   A      A  0.177419   A     A   A  NaN  NaN   \n",
      "1     88645   A  B   B      B  0.145161   A     A   B    B    B   \n",
      "2     88648   A  A   C      C  0.032258   A     A   C  NaN  NaN   \n",
      "3     88657   A  A   A      D  0.048387   A     A   D    C    C   \n",
      "4     88664   A  C   D      A  0.161290   A     B   E    D    D   \n",
      "...     ...  .. ..  ..    ...       ...  ..   ...  ..  ...  ...   \n",
      "1644  96326   A  L  BB      G  0.096774   A     A   F    C    C   \n",
      "1645  96335   A  C   E      C  0.193548   A     A   I  NaN  NaN   \n",
      "1646  96346   A  H   M      E  0.274194   A     A   R  NaN  NaN   \n",
      "1647  96347   A  H   X      C  0.258065   A     A   X  NaN  NaN   \n",
      "1648  96349   A  D  PP      H  0.064516   A     A   D    C    C   \n",
      "\n",
      "                   DFB               CFB  DOFDB                PS  STOLP  \\\n",
      "0     1398/01/01 06:54  1398/01/01 06:59      5               NaN    NaN   \n",
      "1     1398/01/01 07:15  1398/01/01 07:17      2               NaN    NaN   \n",
      "2     1398/01/01 12:03  1398/01/01 12:45     42               NaN    NaN   \n",
      "3     1398/01/02 01:20  1398/01/02 02:25     65  1398/01/02 08:15  415.0   \n",
      "4     1398/01/02 16:26  1398/01/02 16:50     24  1398/01/02 22:00  334.0   \n",
      "...                ...               ...    ...               ...    ...   \n",
      "1644  1398/12/29 10:21  1398/12/29 10:30      9  1398/12/29 10:40   19.0   \n",
      "1645  1398/12/29 13:23  1398/12/29 14:15     52  1398/12/29 13:34   11.0   \n",
      "1646  1398/12/29 18:28  1398/12/29 19:07     39  1398/12/29 19:52   84.0   \n",
      "1647  1398/12/29 19:08  1398/12/29 19:10      2               NaN    NaN   \n",
      "1648  1398/12/29 22:20  1398/12/29 22:26      6  1398/12/29 22:41   21.0   \n",
      "\n",
      "          EENS  \n",
      "0     0.010946  \n",
      "1     0.003127  \n",
      "2     0.016419  \n",
      "3     0.039093  \n",
      "4     0.075059  \n",
      "...        ...  \n",
      "1644  0.017201  \n",
      "1645  0.025020  \n",
      "1646  0.193120  \n",
      "1647  0.006255  \n",
      "1648  0.013292  \n",
      "\n",
      "[1649 rows x 17 columns]\n"
     ]
    },
    {
     "data": {
      "text/plain": [
       "BN          int64\n",
       "TOF        object\n",
       "AF         object\n",
       "DS         object\n",
       "feeder     object\n",
       "RC        float64\n",
       "TOP        object\n",
       "Relay      object\n",
       "COB        object\n",
       "PD         object\n",
       "COP        object\n",
       "DFB        object\n",
       "CFB        object\n",
       "DOFDB       int64\n",
       "PS         object\n",
       "STOLP     float64\n",
       "EENS      float64\n",
       "dtype: object"
      ]
     },
     "execution_count": 1,
     "metadata": {},
     "output_type": "execute_result"
    }
   ],
   "source": [
    "import pandas as pd\n",
    "data = pd.read_csv(r'C:\\Users\\asus\\Desktop\\output.csv')\n",
    "print (data) \n",
    "data.dtypes"
   ]
  },
  {
   "cell_type": "markdown",
   "metadata": {},
   "source": [
    "# seperate DATE and TIME"
   ]
  },
  {
   "cell_type": "code",
   "execution_count": 2,
   "metadata": {},
   "outputs": [
    {
     "name": "stdout",
     "output_type": "stream",
     "text": [
      "         BN TOF AF  DS feeder        RC TOP Relay COB   PD  ...  \\\n",
      "0     88644   A  A   A      A  0.177419   A     A   A  NaN  ...   \n",
      "1     88645   A  B   B      B  0.145161   A     A   B    B  ...   \n",
      "2     88648   A  A   C      C  0.032258   A     A   C  NaN  ...   \n",
      "3     88657   A  A   A      D  0.048387   A     A   D    C  ...   \n",
      "4     88664   A  C   D      A  0.161290   A     B   E    D  ...   \n",
      "...     ...  .. ..  ..    ...       ...  ..   ...  ..  ...  ...   \n",
      "1644  96326   A  L  BB      G  0.096774   A     A   F    C  ...   \n",
      "1645  96335   A  C   E      C  0.193548   A     A   I  NaN  ...   \n",
      "1646  96346   A  H   M      E  0.274194   A     A   R  NaN  ...   \n",
      "1647  96347   A  H   X      C  0.258065   A     A   X  NaN  ...   \n",
      "1648  96349   A  D  PP      H  0.064516   A     A   D    C  ...   \n",
      "\n",
      "                   DFB               CFB DOFDB                PS  STOLP  \\\n",
      "0     1398/01/01 06:54  1398/01/01 06:59     5               NaN    NaN   \n",
      "1     1398/01/01 07:15  1398/01/01 07:17     2               NaN    NaN   \n",
      "2     1398/01/01 12:03  1398/01/01 12:45    42               NaN    NaN   \n",
      "3     1398/01/02 01:20  1398/01/02 02:25    65  1398/01/02 08:15  415.0   \n",
      "4     1398/01/02 16:26  1398/01/02 16:50    24  1398/01/02 22:00  334.0   \n",
      "...                ...               ...   ...               ...    ...   \n",
      "1644  1398/12/29 10:21  1398/12/29 10:30     9  1398/12/29 10:40   19.0   \n",
      "1645  1398/12/29 13:23  1398/12/29 14:15    52  1398/12/29 13:34   11.0   \n",
      "1646  1398/12/29 18:28  1398/12/29 19:07    39  1398/12/29 19:52   84.0   \n",
      "1647  1398/12/29 19:08  1398/12/29 19:10     2               NaN    NaN   \n",
      "1648  1398/12/29 22:20  1398/12/29 22:26     6  1398/12/29 22:41   21.0   \n",
      "\n",
      "          EENS  date begin time begin    date end time end  \n",
      "0     0.010946  1398/01/01      06:54  1398/01/01    06:59  \n",
      "1     0.003127  1398/01/01      07:15  1398/01/01    07:17  \n",
      "2     0.016419  1398/01/01      12:03  1398/01/01    12:45  \n",
      "3     0.039093  1398/01/02      01:20  1398/01/02    02:25  \n",
      "4     0.075059  1398/01/02      16:26  1398/01/02    16:50  \n",
      "...        ...         ...        ...         ...      ...  \n",
      "1644  0.017201  1398/12/29      10:21  1398/12/29    10:30  \n",
      "1645  0.025020  1398/12/29      13:23  1398/12/29    14:15  \n",
      "1646  0.193120  1398/12/29      18:28  1398/12/29    19:07  \n",
      "1647  0.006255  1398/12/29      19:08  1398/12/29    19:10  \n",
      "1648  0.013292  1398/12/29      22:20  1398/12/29    22:26  \n",
      "\n",
      "[1649 rows x 21 columns]\n"
     ]
    }
   ],
   "source": [
    "data[['date begin','time begin']] = data.DFB.str.split(\" \",expand=True,)\n",
    "data[['date end','time end']] = data.CFB.str.split(\" \",expand=True,)\n",
    "print(data)\n"
   ]
  },
  {
   "cell_type": "code",
   "execution_count": 3,
   "metadata": {},
   "outputs": [
    {
     "data": {
      "text/html": [
       "<div>\n",
       "<style scoped>\n",
       "    .dataframe tbody tr th:only-of-type {\n",
       "        vertical-align: middle;\n",
       "    }\n",
       "\n",
       "    .dataframe tbody tr th {\n",
       "        vertical-align: top;\n",
       "    }\n",
       "\n",
       "    .dataframe thead th {\n",
       "        text-align: right;\n",
       "    }\n",
       "</style>\n",
       "<table border=\"1\" class=\"dataframe\">\n",
       "  <thead>\n",
       "    <tr style=\"text-align: right;\">\n",
       "      <th></th>\n",
       "      <th>BN</th>\n",
       "      <th>TOF</th>\n",
       "      <th>AF</th>\n",
       "      <th>DS</th>\n",
       "      <th>feeder</th>\n",
       "      <th>RC</th>\n",
       "      <th>TOP</th>\n",
       "      <th>Relay</th>\n",
       "      <th>COB</th>\n",
       "      <th>PD</th>\n",
       "      <th>...</th>\n",
       "      <th>PS</th>\n",
       "      <th>STOLP</th>\n",
       "      <th>EENS</th>\n",
       "      <th>date begin</th>\n",
       "      <th>time begin</th>\n",
       "      <th>date end</th>\n",
       "      <th>time end</th>\n",
       "      <th>year</th>\n",
       "      <th>month</th>\n",
       "      <th>day</th>\n",
       "    </tr>\n",
       "  </thead>\n",
       "  <tbody>\n",
       "    <tr>\n",
       "      <th>0</th>\n",
       "      <td>88644</td>\n",
       "      <td>A</td>\n",
       "      <td>A</td>\n",
       "      <td>A</td>\n",
       "      <td>A</td>\n",
       "      <td>0.177419</td>\n",
       "      <td>A</td>\n",
       "      <td>A</td>\n",
       "      <td>A</td>\n",
       "      <td>NaN</td>\n",
       "      <td>...</td>\n",
       "      <td>NaN</td>\n",
       "      <td>NaN</td>\n",
       "      <td>0.010946</td>\n",
       "      <td>1398/01/01</td>\n",
       "      <td>06:54</td>\n",
       "      <td>1398/01/01</td>\n",
       "      <td>06:59</td>\n",
       "      <td>1398</td>\n",
       "      <td>01</td>\n",
       "      <td>01 06:54</td>\n",
       "    </tr>\n",
       "    <tr>\n",
       "      <th>1</th>\n",
       "      <td>88645</td>\n",
       "      <td>A</td>\n",
       "      <td>B</td>\n",
       "      <td>B</td>\n",
       "      <td>B</td>\n",
       "      <td>0.145161</td>\n",
       "      <td>A</td>\n",
       "      <td>A</td>\n",
       "      <td>B</td>\n",
       "      <td>B</td>\n",
       "      <td>...</td>\n",
       "      <td>NaN</td>\n",
       "      <td>NaN</td>\n",
       "      <td>0.003127</td>\n",
       "      <td>1398/01/01</td>\n",
       "      <td>07:15</td>\n",
       "      <td>1398/01/01</td>\n",
       "      <td>07:17</td>\n",
       "      <td>1398</td>\n",
       "      <td>01</td>\n",
       "      <td>01 07:15</td>\n",
       "    </tr>\n",
       "    <tr>\n",
       "      <th>2</th>\n",
       "      <td>88648</td>\n",
       "      <td>A</td>\n",
       "      <td>A</td>\n",
       "      <td>C</td>\n",
       "      <td>C</td>\n",
       "      <td>0.032258</td>\n",
       "      <td>A</td>\n",
       "      <td>A</td>\n",
       "      <td>C</td>\n",
       "      <td>NaN</td>\n",
       "      <td>...</td>\n",
       "      <td>NaN</td>\n",
       "      <td>NaN</td>\n",
       "      <td>0.016419</td>\n",
       "      <td>1398/01/01</td>\n",
       "      <td>12:03</td>\n",
       "      <td>1398/01/01</td>\n",
       "      <td>12:45</td>\n",
       "      <td>1398</td>\n",
       "      <td>01</td>\n",
       "      <td>01 12:03</td>\n",
       "    </tr>\n",
       "    <tr>\n",
       "      <th>3</th>\n",
       "      <td>88657</td>\n",
       "      <td>A</td>\n",
       "      <td>A</td>\n",
       "      <td>A</td>\n",
       "      <td>D</td>\n",
       "      <td>0.048387</td>\n",
       "      <td>A</td>\n",
       "      <td>A</td>\n",
       "      <td>D</td>\n",
       "      <td>C</td>\n",
       "      <td>...</td>\n",
       "      <td>1398/01/02 08:15</td>\n",
       "      <td>415.0</td>\n",
       "      <td>0.039093</td>\n",
       "      <td>1398/01/02</td>\n",
       "      <td>01:20</td>\n",
       "      <td>1398/01/02</td>\n",
       "      <td>02:25</td>\n",
       "      <td>1398</td>\n",
       "      <td>01</td>\n",
       "      <td>02 01:20</td>\n",
       "    </tr>\n",
       "    <tr>\n",
       "      <th>4</th>\n",
       "      <td>88664</td>\n",
       "      <td>A</td>\n",
       "      <td>C</td>\n",
       "      <td>D</td>\n",
       "      <td>A</td>\n",
       "      <td>0.161290</td>\n",
       "      <td>A</td>\n",
       "      <td>B</td>\n",
       "      <td>E</td>\n",
       "      <td>D</td>\n",
       "      <td>...</td>\n",
       "      <td>1398/01/02 22:00</td>\n",
       "      <td>334.0</td>\n",
       "      <td>0.075059</td>\n",
       "      <td>1398/01/02</td>\n",
       "      <td>16:26</td>\n",
       "      <td>1398/01/02</td>\n",
       "      <td>16:50</td>\n",
       "      <td>1398</td>\n",
       "      <td>01</td>\n",
       "      <td>02 16:26</td>\n",
       "    </tr>\n",
       "  </tbody>\n",
       "</table>\n",
       "<p>5 rows × 24 columns</p>\n",
       "</div>"
      ],
      "text/plain": [
       "      BN TOF AF DS feeder        RC TOP Relay COB   PD  ...                PS  \\\n",
       "0  88644   A  A  A      A  0.177419   A     A   A  NaN  ...               NaN   \n",
       "1  88645   A  B  B      B  0.145161   A     A   B    B  ...               NaN   \n",
       "2  88648   A  A  C      C  0.032258   A     A   C  NaN  ...               NaN   \n",
       "3  88657   A  A  A      D  0.048387   A     A   D    C  ...  1398/01/02 08:15   \n",
       "4  88664   A  C  D      A  0.161290   A     B   E    D  ...  1398/01/02 22:00   \n",
       "\n",
       "   STOLP      EENS  date begin time begin    date end  time end  year month  \\\n",
       "0    NaN  0.010946  1398/01/01      06:54  1398/01/01     06:59  1398    01   \n",
       "1    NaN  0.003127  1398/01/01      07:15  1398/01/01     07:17  1398    01   \n",
       "2    NaN  0.016419  1398/01/01      12:03  1398/01/01     12:45  1398    01   \n",
       "3  415.0  0.039093  1398/01/02      01:20  1398/01/02     02:25  1398    01   \n",
       "4  334.0  0.075059  1398/01/02      16:26  1398/01/02     16:50  1398    01   \n",
       "\n",
       "        day  \n",
       "0  01 06:54  \n",
       "1  01 07:15  \n",
       "2  01 12:03  \n",
       "3  02 01:20  \n",
       "4  02 16:26  \n",
       "\n",
       "[5 rows x 24 columns]"
      ]
     },
     "execution_count": 3,
     "metadata": {},
     "output_type": "execute_result"
    }
   ],
   "source": [
    "data[['year','month','day']] = data.DFB.str.split(\"/\",expand=True,)\n",
    "data.head()"
   ]
  },
  {
   "cell_type": "markdown",
   "metadata": {},
   "source": [
    "# choose columns we need"
   ]
  },
  {
   "cell_type": "code",
   "execution_count": 256,
   "metadata": {},
   "outputs": [
    {
     "name": "stdout",
     "output_type": "stream",
     "text": [
      "     AF  COP   PD        RC Relay  STOLP  date begin    date end feeder month\n",
      "0     A  NaN  NaN  0.177419     A    NaN  1398/01/01  1398/01/01      A    01\n",
      "1     B    B    B  0.145161     A    NaN  1398/01/01  1398/01/01      B    01\n",
      "2     A  NaN  NaN  0.032258     A    NaN  1398/01/01  1398/01/01      C    01\n",
      "3     A    C    C  0.048387     A  415.0  1398/01/02  1398/01/02      D    01\n",
      "4     C    D    D  0.161290     B  334.0  1398/01/02  1398/01/02      A    01\n",
      "...  ..  ...  ...       ...   ...    ...         ...         ...    ...   ...\n",
      "1644  L    C    C  0.096774     A   19.0  1398/12/29  1398/12/29      G    12\n",
      "1645  C  NaN  NaN  0.193548     A   11.0  1398/12/29  1398/12/29      C    12\n",
      "1646  H  NaN  NaN  0.274194     A   84.0  1398/12/29  1398/12/29      E    12\n",
      "1647  H  NaN  NaN  0.258065     A    NaN  1398/12/29  1398/12/29      C    12\n",
      "1648  D    C    C  0.064516     A   21.0  1398/12/29  1398/12/29      H    12\n",
      "\n",
      "[1649 rows x 10 columns]\n"
     ]
    }
   ],
   "source": [
    "dataset=data[data.columns.difference(['time end','time begin','DOFDB','PS','CFB','DFB','TOP','TOF','BN','year','day','EENS','DS','COB'])]\n",
    "print(dataset)"
   ]
  },
  {
   "cell_type": "markdown",
   "metadata": {},
   "source": [
    "# Removin empty values"
   ]
  },
  {
   "cell_type": "code",
   "execution_count": 257,
   "metadata": {},
   "outputs": [
    {
     "data": {
      "text/plain": [
       "AF            False\n",
       "COP            True\n",
       "PD             True\n",
       "RC            False\n",
       "Relay         False\n",
       "STOLP          True\n",
       "date begin    False\n",
       "date end       True\n",
       "feeder        False\n",
       "month         False\n",
       "dtype: bool"
      ]
     },
     "execution_count": 257,
     "metadata": {},
     "output_type": "execute_result"
    }
   ],
   "source": [
    "dataset.isnull().any()"
   ]
  },
  {
   "cell_type": "code",
   "execution_count": 258,
   "metadata": {},
   "outputs": [
    {
     "name": "stdout",
     "output_type": "stream",
     "text": [
      " * AF : 0\n",
      " * COP : 842\n",
      " * PD : 791\n",
      " * RC : 0\n",
      " * Relay : 0\n",
      " * STOLP : 836\n",
      " * date begin : 0\n",
      " * date end : 3\n",
      " * feeder : 0\n",
      " * month : 0\n"
     ]
    }
   ],
   "source": [
    "for column in dataset.columns:\n",
    "    print(\" * \" + column + \" : \"+ str(dataset[column].isnull().sum()))"
   ]
  },
  {
   "cell_type": "code",
   "execution_count": 259,
   "metadata": {},
   "outputs": [
    {
     "name": "stdout",
     "output_type": "stream",
     "text": [
      " * AF : 0\n",
      " * COP : 0\n",
      " * PD : 0\n",
      " * RC : 0\n",
      " * Relay : 0\n",
      " * STOLP : 0\n",
      " * date begin : 0\n",
      " * date end : 0\n",
      " * feeder : 0\n",
      " * month : 0\n"
     ]
    }
   ],
   "source": [
    "dataset = dataset.dropna()\n",
    "for column in dataset.columns:\n",
    "    print(\" * \" + column + \" : \"+ str(dataset[column].isnull().sum()))"
   ]
  },
  {
   "cell_type": "code",
   "execution_count": 260,
   "metadata": {},
   "outputs": [
    {
     "data": {
      "text/html": [
       "<div>\n",
       "<style scoped>\n",
       "    .dataframe tbody tr th:only-of-type {\n",
       "        vertical-align: middle;\n",
       "    }\n",
       "\n",
       "    .dataframe tbody tr th {\n",
       "        vertical-align: top;\n",
       "    }\n",
       "\n",
       "    .dataframe thead th {\n",
       "        text-align: right;\n",
       "    }\n",
       "</style>\n",
       "<table border=\"1\" class=\"dataframe\">\n",
       "  <thead>\n",
       "    <tr style=\"text-align: right;\">\n",
       "      <th></th>\n",
       "      <th>AF</th>\n",
       "      <th>COP</th>\n",
       "      <th>PD</th>\n",
       "      <th>RC</th>\n",
       "      <th>Relay</th>\n",
       "      <th>STOLP</th>\n",
       "      <th>date begin</th>\n",
       "      <th>date end</th>\n",
       "      <th>feeder</th>\n",
       "      <th>month</th>\n",
       "    </tr>\n",
       "  </thead>\n",
       "  <tbody>\n",
       "    <tr>\n",
       "      <th>3</th>\n",
       "      <td>A</td>\n",
       "      <td>C</td>\n",
       "      <td>C</td>\n",
       "      <td>0.048387</td>\n",
       "      <td>A</td>\n",
       "      <td>415.0</td>\n",
       "      <td>1398/01/02</td>\n",
       "      <td>1398/01/02</td>\n",
       "      <td>D</td>\n",
       "      <td>01</td>\n",
       "    </tr>\n",
       "    <tr>\n",
       "      <th>4</th>\n",
       "      <td>C</td>\n",
       "      <td>D</td>\n",
       "      <td>D</td>\n",
       "      <td>0.161290</td>\n",
       "      <td>B</td>\n",
       "      <td>334.0</td>\n",
       "      <td>1398/01/02</td>\n",
       "      <td>1398/01/02</td>\n",
       "      <td>A</td>\n",
       "      <td>01</td>\n",
       "    </tr>\n",
       "    <tr>\n",
       "      <th>5</th>\n",
       "      <td>C</td>\n",
       "      <td>C</td>\n",
       "      <td>C</td>\n",
       "      <td>0.225806</td>\n",
       "      <td>A</td>\n",
       "      <td>108.0</td>\n",
       "      <td>1398/01/03</td>\n",
       "      <td>1398/01/03</td>\n",
       "      <td>E</td>\n",
       "      <td>01</td>\n",
       "    </tr>\n",
       "    <tr>\n",
       "      <th>7</th>\n",
       "      <td>D</td>\n",
       "      <td>C</td>\n",
       "      <td>E</td>\n",
       "      <td>0.048387</td>\n",
       "      <td>A</td>\n",
       "      <td>18.0</td>\n",
       "      <td>1398/01/03</td>\n",
       "      <td>1398/01/03</td>\n",
       "      <td>C</td>\n",
       "      <td>01</td>\n",
       "    </tr>\n",
       "    <tr>\n",
       "      <th>18</th>\n",
       "      <td>B</td>\n",
       "      <td>C</td>\n",
       "      <td>C</td>\n",
       "      <td>0.258065</td>\n",
       "      <td>A</td>\n",
       "      <td>50.0</td>\n",
       "      <td>1398/01/05</td>\n",
       "      <td>1398/01/05</td>\n",
       "      <td>J</td>\n",
       "      <td>01</td>\n",
       "    </tr>\n",
       "  </tbody>\n",
       "</table>\n",
       "</div>"
      ],
      "text/plain": [
       "   AF COP PD        RC Relay  STOLP  date begin    date end feeder month\n",
       "3   A   C  C  0.048387     A  415.0  1398/01/02  1398/01/02      D    01\n",
       "4   C   D  D  0.161290     B  334.0  1398/01/02  1398/01/02      A    01\n",
       "5   C   C  C  0.225806     A  108.0  1398/01/03  1398/01/03      E    01\n",
       "7   D   C  E  0.048387     A   18.0  1398/01/03  1398/01/03      C    01\n",
       "18  B   C  C  0.258065     A   50.0  1398/01/05  1398/01/05      J    01"
      ]
     },
     "execution_count": 260,
     "metadata": {},
     "output_type": "execute_result"
    }
   ],
   "source": [
    "dataset.reset_index()\n",
    "dataset.head()"
   ]
  },
  {
   "cell_type": "code",
   "execution_count": 261,
   "metadata": {},
   "outputs": [
    {
     "data": {
      "text/plain": [
       "AF                     A\n",
       "COP                   UU\n",
       "PD                     D\n",
       "RC              0.225806\n",
       "Relay                  F\n",
       "STOLP                583\n",
       "date begin    1398/03/09\n",
       "date end      1398/03/09\n",
       "feeder                 G\n",
       "month                 03\n",
       "Name: 416, dtype: object"
      ]
     },
     "execution_count": 261,
     "metadata": {},
     "output_type": "execute_result"
    }
   ],
   "source": [
    "## maximum outages was 583 minutes which means 9 hours\n",
    "dataset.loc[dataset['STOLP'].idxmax()]"
   ]
  },
  {
   "cell_type": "code",
   "execution_count": 262,
   "metadata": {},
   "outputs": [
    {
     "name": "stdout",
     "output_type": "stream",
     "text": [
      "Number of outages that lasted over 4 hours:31\n",
      "Number of outages that lasted over 2 housr:99\n",
      "Number of outages that lasted over 1 hour:256\n",
      "Number of outages that lasted over 30 minutes:482\n"
     ]
    }
   ],
   "source": [
    "print('Number of outages that lasted over 4 hours:' + str(len(dataset[(dataset['STOLP']> 240)])))\n",
    "print('Number of outages that lasted over 2 housr:' + str(len(dataset[(dataset['STOLP']> 120)])))\n",
    "print('Number of outages that lasted over 1 hour:' + str(len(dataset[(dataset['STOLP']> 60)])))\n",
    "print('Number of outages that lasted over 30 minutes:' + str(len(dataset[(dataset['STOLP']> 30)])))"
   ]
  },
  {
   "cell_type": "markdown",
   "metadata": {},
   "source": [
    "# categorical encoding(one hot encoding)"
   ]
  },
  {
   "cell_type": "code",
   "execution_count": 263,
   "metadata": {},
   "outputs": [
    {
     "data": {
      "text/html": [
       "<div>\n",
       "<style scoped>\n",
       "    .dataframe tbody tr th:only-of-type {\n",
       "        vertical-align: middle;\n",
       "    }\n",
       "\n",
       "    .dataframe tbody tr th {\n",
       "        vertical-align: top;\n",
       "    }\n",
       "\n",
       "    .dataframe thead th {\n",
       "        text-align: right;\n",
       "    }\n",
       "</style>\n",
       "<table border=\"1\" class=\"dataframe\">\n",
       "  <thead>\n",
       "    <tr style=\"text-align: right;\">\n",
       "      <th></th>\n",
       "      <th>AF</th>\n",
       "      <th>COP</th>\n",
       "      <th>PD</th>\n",
       "      <th>RC</th>\n",
       "      <th>Relay</th>\n",
       "      <th>STOLP</th>\n",
       "      <th>date begin</th>\n",
       "      <th>date end</th>\n",
       "      <th>feeder</th>\n",
       "      <th>month</th>\n",
       "      <th>...</th>\n",
       "      <th>W</th>\n",
       "      <th>WW</th>\n",
       "      <th>X</th>\n",
       "      <th>XX</th>\n",
       "      <th>XXX</th>\n",
       "      <th>Y</th>\n",
       "      <th>YY</th>\n",
       "      <th>YYY</th>\n",
       "      <th>Z</th>\n",
       "      <th>ZZ</th>\n",
       "    </tr>\n",
       "  </thead>\n",
       "  <tbody>\n",
       "    <tr>\n",
       "      <th>3</th>\n",
       "      <td>A</td>\n",
       "      <td>C</td>\n",
       "      <td>C</td>\n",
       "      <td>0.048387</td>\n",
       "      <td>A</td>\n",
       "      <td>415.0</td>\n",
       "      <td>1398/01/02</td>\n",
       "      <td>1398/01/02</td>\n",
       "      <td>D</td>\n",
       "      <td>01</td>\n",
       "      <td>...</td>\n",
       "      <td>0</td>\n",
       "      <td>0</td>\n",
       "      <td>0</td>\n",
       "      <td>0</td>\n",
       "      <td>0</td>\n",
       "      <td>0</td>\n",
       "      <td>0</td>\n",
       "      <td>0</td>\n",
       "      <td>0</td>\n",
       "      <td>0</td>\n",
       "    </tr>\n",
       "    <tr>\n",
       "      <th>4</th>\n",
       "      <td>C</td>\n",
       "      <td>D</td>\n",
       "      <td>D</td>\n",
       "      <td>0.161290</td>\n",
       "      <td>B</td>\n",
       "      <td>334.0</td>\n",
       "      <td>1398/01/02</td>\n",
       "      <td>1398/01/02</td>\n",
       "      <td>A</td>\n",
       "      <td>01</td>\n",
       "      <td>...</td>\n",
       "      <td>0</td>\n",
       "      <td>0</td>\n",
       "      <td>0</td>\n",
       "      <td>0</td>\n",
       "      <td>0</td>\n",
       "      <td>0</td>\n",
       "      <td>0</td>\n",
       "      <td>0</td>\n",
       "      <td>0</td>\n",
       "      <td>0</td>\n",
       "    </tr>\n",
       "    <tr>\n",
       "      <th>5</th>\n",
       "      <td>C</td>\n",
       "      <td>C</td>\n",
       "      <td>C</td>\n",
       "      <td>0.225806</td>\n",
       "      <td>A</td>\n",
       "      <td>108.0</td>\n",
       "      <td>1398/01/03</td>\n",
       "      <td>1398/01/03</td>\n",
       "      <td>E</td>\n",
       "      <td>01</td>\n",
       "      <td>...</td>\n",
       "      <td>0</td>\n",
       "      <td>0</td>\n",
       "      <td>0</td>\n",
       "      <td>0</td>\n",
       "      <td>0</td>\n",
       "      <td>0</td>\n",
       "      <td>0</td>\n",
       "      <td>0</td>\n",
       "      <td>0</td>\n",
       "      <td>0</td>\n",
       "    </tr>\n",
       "    <tr>\n",
       "      <th>7</th>\n",
       "      <td>D</td>\n",
       "      <td>C</td>\n",
       "      <td>E</td>\n",
       "      <td>0.048387</td>\n",
       "      <td>A</td>\n",
       "      <td>18.0</td>\n",
       "      <td>1398/01/03</td>\n",
       "      <td>1398/01/03</td>\n",
       "      <td>C</td>\n",
       "      <td>01</td>\n",
       "      <td>...</td>\n",
       "      <td>0</td>\n",
       "      <td>0</td>\n",
       "      <td>0</td>\n",
       "      <td>0</td>\n",
       "      <td>0</td>\n",
       "      <td>0</td>\n",
       "      <td>0</td>\n",
       "      <td>0</td>\n",
       "      <td>0</td>\n",
       "      <td>0</td>\n",
       "    </tr>\n",
       "    <tr>\n",
       "      <th>18</th>\n",
       "      <td>B</td>\n",
       "      <td>C</td>\n",
       "      <td>C</td>\n",
       "      <td>0.258065</td>\n",
       "      <td>A</td>\n",
       "      <td>50.0</td>\n",
       "      <td>1398/01/05</td>\n",
       "      <td>1398/01/05</td>\n",
       "      <td>J</td>\n",
       "      <td>01</td>\n",
       "      <td>...</td>\n",
       "      <td>0</td>\n",
       "      <td>0</td>\n",
       "      <td>0</td>\n",
       "      <td>0</td>\n",
       "      <td>0</td>\n",
       "      <td>0</td>\n",
       "      <td>0</td>\n",
       "      <td>0</td>\n",
       "      <td>0</td>\n",
       "      <td>0</td>\n",
       "    </tr>\n",
       "  </tbody>\n",
       "</table>\n",
       "<p>5 rows × 156 columns</p>\n",
       "</div>"
      ],
      "text/plain": [
       "   AF COP PD        RC Relay  STOLP  date begin    date end feeder month  ...  \\\n",
       "3   A   C  C  0.048387     A  415.0  1398/01/02  1398/01/02      D    01  ...   \n",
       "4   C   D  D  0.161290     B  334.0  1398/01/02  1398/01/02      A    01  ...   \n",
       "5   C   C  C  0.225806     A  108.0  1398/01/03  1398/01/03      E    01  ...   \n",
       "7   D   C  E  0.048387     A   18.0  1398/01/03  1398/01/03      C    01  ...   \n",
       "18  B   C  C  0.258065     A   50.0  1398/01/05  1398/01/05      J    01  ...   \n",
       "\n",
       "    W  WW  X  XX  XXX  Y  YY  YYY  Z  ZZ  \n",
       "3   0   0  0   0    0  0   0    0  0   0  \n",
       "4   0   0  0   0    0  0   0    0  0   0  \n",
       "5   0   0  0   0    0  0   0    0  0   0  \n",
       "7   0   0  0   0    0  0   0    0  0   0  \n",
       "18  0   0  0   0    0  0   0    0  0   0  \n",
       "\n",
       "[5 rows x 156 columns]"
      ]
     },
     "execution_count": 263,
     "metadata": {},
     "output_type": "execute_result"
    }
   ],
   "source": [
    "Relay = dataset['Relay'].unique()\n",
    "\n",
    "Relay = pd.get_dummies(dataset['Relay'],drop_first=False)\n",
    "\n",
    "\n",
    "COP = dataset['COP'].unique()\n",
    "COP = pd.get_dummies(dataset['COP'],drop_first=False)\n",
    "AF = dataset['AF'].unique()\n",
    "AF = pd.get_dummies(dataset['AF'],drop_first=False)\n",
    "feeder = dataset['feeder'].unique()\n",
    "feeder = pd.get_dummies(dataset['feeder'],drop_first=False)\n",
    "PD = dataset['PD'].unique()\n",
    "PD = pd.get_dummies(dataset['PD'],drop_first=False)\n",
    "\n",
    "dataset = pd.concat([dataset,Relay], axis =1)\n",
    "\n",
    "dataset = pd.concat([dataset,AF], axis =1)\n",
    "dataset = pd.concat([dataset,feeder], axis =1)\n",
    "dataset = pd.concat([dataset,PD], axis =1)\n",
    "dataset = pd.concat([dataset,COP], axis =1)\n",
    "dataset.head()\n"
   ]
  },
  {
   "cell_type": "markdown",
   "metadata": {},
   "source": [
    "# Data Analysis"
   ]
  },
  {
   "cell_type": "code",
   "execution_count": 264,
   "metadata": {},
   "outputs": [
    {
     "data": {
      "text/plain": [
       "<AxesSubplot:xlabel='month', ylabel='count'>"
      ]
     },
     "execution_count": 264,
     "metadata": {},
     "output_type": "execute_result"
    },
    {
     "data": {
      "image/png": "[encoded data removed]",
      "text/plain": [
       "<Figure size 1080x720 with 1 Axes>"
      ]
     },
     "metadata": {
      "needs_background": "light"
     },
     "output_type": "display_data"
    }
   ],
   "source": [
    "######### Events Per Month\n",
    "import matplotlib.pyplot as plt\n",
    "import seaborn as sns\n",
    "dim=(15,10)\n",
    "fig,ax = plt.subplots(figsize=dim)\n",
    "sns.countplot(x='month', ax=ax, data=dataset)"
   ]
  },
  {
   "cell_type": "code",
   "execution_count": 265,
   "metadata": {},
   "outputs": [
    {
     "data": {
      "image/png": "[encoded data removed]",
      "text/plain": [
       "<Figure size 1080x720 with 1 Axes>"
      ]
     },
     "metadata": {
      "needs_background": "light"
     },
     "output_type": "display_data"
    }
   ],
   "source": [
    "######## Outage duration per feeder\n",
    "fig,ax = plt.subplots(figsize=dim)\n",
    "demand_plot = sns.boxplot(x=\"Relay\",y=\"STOLP\",ax=ax, data=dataset)\n",
    "\n",
    "for item in demand_plot.get_xticklabels():\n",
    "    item.set_rotation(45)\n"
   ]
  },
  {
   "cell_type": "code",
   "execution_count": 266,
   "metadata": {
    "scrolled": true
   },
   "outputs": [
    {
     "data": {
      "image/png": "[encoded data removed]",
      "text/plain": [
       "<Figure size 1080x936 with 2 Axes>"
      ]
     },
     "metadata": {
      "needs_background": "light"
     },
     "output_type": "display_data"
    }
   ],
   "source": [
    "\n",
    "\n",
    "corrmat = dataset.corr()\n",
    "f,ax = plt.subplots(figsize=(15,13))\n",
    "sns.heatmap(corrmat,vmax=.8,square=True);"
   ]
  },
  {
   "cell_type": "markdown",
   "metadata": {},
   "source": [
    "# Data preparation"
   ]
  },
  {
   "cell_type": "code",
   "execution_count": 267,
   "metadata": {},
   "outputs": [
    {
     "name": "stdout",
     "output_type": "stream",
     "text": [
      "     A    A    A   AA   AA  AAA  AAA    B    B    B  ...   XX  XXX    Y   YY  \\\n",
      "0  1.0  1.0  0.0  0.0  0.0  0.0  0.0  0.0  0.0  0.0  ...  0.0  0.0  0.0  0.0   \n",
      "1  0.0  0.0  1.0  0.0  0.0  0.0  0.0  1.0  0.0  0.0  ...  0.0  0.0  0.0  0.0   \n",
      "2  1.0  0.0  0.0  0.0  0.0  0.0  0.0  0.0  0.0  0.0  ...  0.0  0.0  0.0  0.0   \n",
      "3  1.0  0.0  0.0  0.0  0.0  0.0  0.0  0.0  0.0  0.0  ...  0.0  0.0  0.0  0.0   \n",
      "4  1.0  0.0  0.0  0.0  0.0  0.0  0.0  0.0  1.0  0.0  ...  0.0  0.0  0.0  0.0   \n",
      "\n",
      "    YY  YYY    Z    Z   ZZ   ZZ  \n",
      "0  0.0  0.0  0.0  0.0  0.0  0.0  \n",
      "1  0.0  0.0  0.0  0.0  0.0  0.0  \n",
      "2  0.0  0.0  0.0  0.0  0.0  0.0  \n",
      "3  0.0  0.0  0.0  0.0  0.0  0.0  \n",
      "4  0.0  0.0  0.0  0.0  0.0  0.0  \n",
      "\n",
      "[5 rows x 147 columns]\n"
     ]
    },
    {
     "data": {
      "text/plain": [
       "3     415.0\n",
       "4     334.0\n",
       "5     108.0\n",
       "7      18.0\n",
       "18     50.0\n",
       "Name: STOLP, dtype: float64"
      ]
     },
     "execution_count": 267,
     "metadata": {},
     "output_type": "execute_result"
    }
   ],
   "source": [
    "from sklearn.preprocessing import minmax_scale\n",
    "output = dataset.iloc[:,5]\n",
    "features = dataset[dataset.columns.difference(['STOLP','date begin','date end','month','COP','Relay','AF','feeder','PD'])]\n",
    "\n",
    "features= pd.DataFrame(minmax_scale(features),columns=features.columns)\n",
    "print(features.head())\n",
    "output.head()\n"
   ]
  },
  {
   "cell_type": "code",
   "execution_count": 268,
   "metadata": {},
   "outputs": [],
   "source": [
    "from sklearn.model_selection import train_test_split\n",
    "features_train,features_test,duration_train,duration_test = train_test_split(features,output,test_size = 0.3, random_state =0)"
   ]
  },
  {
   "cell_type": "markdown",
   "metadata": {},
   "source": [
    "# SVR"
   ]
  },
  {
   "cell_type": "code",
   "execution_count": 269,
   "metadata": {},
   "outputs": [],
   "source": [
    "def fit_and_pred_grid_classifier(regressor, param_grid, X_train, X_test,y_train,y_test, folds=5):\n",
    "    grid_search = GridSearchCV(estimator = regressor, param_grid = param_grid,cv=folds, n_jobs = -1, verbose =0)\n",
    "    grid_search.fit(X_train,y_train)\n",
    "    best_accuracy = grid_search.best_score_\n",
    "    best_parameters = grid_search.best_params_\n",
    "    \n",
    "    grid_search_pred = grid_search.predict(X_test)\n",
    "    \n",
    "    \n",
    "    print(\"MSE:\" + str(mean_squared_error(y_test,grid_search_pred)))\n",
    "    print(\"R2:\" + str(r2_score(y_test,grid_search_pred)))\n",
    "    print(\"best parameter combination:\" + str(best_parameters))  \n",
    "    return grid_search_pred"
   ]
  },
  {
   "cell_type": "code",
   "execution_count": 270,
   "metadata": {},
   "outputs": [
    {
     "name": "stdout",
     "output_type": "stream",
     "text": [
      "MSE:6827.952029864594\n",
      "R2:0.04532808338951477\n",
      "best parameter combination:{'C': 13, 'epsilon': 10, 'gamma': 0.3, 'kernel': 'sigmoid'}\n"
     ]
    }
   ],
   "source": [
    "from sklearn.svm import SVR\n",
    "from sklearn.model_selection import GridSearchCV\n",
    "from sklearn.metrics import accuracy_score, confusion_matrix, r2_score, mean_squared_error\n",
    "regressor = SVR(kernel = 'rbf', C=10,gamma=0.1)\n",
    "param_grid= [\n",
    "    {\n",
    "        'C': [400, 450, 500, 550, 600],\n",
    "             'kernel': ['linear'],\n",
    "             'epsilon': [550, 600, 650, 700, 750],},\n",
    "             {\n",
    "                 'C': [12,13,14,15,20],\n",
    "                 'kernel': ['rbf','sigmoid'],\n",
    "                 'gamma': [0.3, 0.4, 0.5, 1],\n",
    "                 'epsilon': [10 ,100 , 500, 750, 1000],\n",
    "             },\n",
    "            ]\n",
    "             \n",
    "pred = fit_and_pred_grid_classifier(regressor,param_grid,features_train,features_test,duration_train,duration_test)"
   ]
  },
  {
   "cell_type": "code",
   "execution_count": 271,
   "metadata": {},
   "outputs": [
    {
     "data": {
      "text/plain": [
       "704     160.0\n",
       "386      15.0\n",
       "1595     90.0\n",
       "274      25.0\n",
       "485      54.0\n",
       "        ...  \n",
       "1541     94.0\n",
       "1599     27.0\n",
       "598     198.0\n",
       "709      40.0\n",
       "929      26.0\n",
       "Name: STOLP, Length: 178, dtype: float64"
      ]
     },
     "execution_count": 271,
     "metadata": {},
     "output_type": "execute_result"
    }
   ],
   "source": [
    "duration_test"
   ]
  },
  {
   "cell_type": "code",
   "execution_count": 272,
   "metadata": {},
   "outputs": [
    {
     "data": {
      "text/plain": [
       "array([ 49.93134997,  32.25919105,  80.44471857,  43.41083971,\n",
       "        46.40372462,  76.54544005,  58.45617467,  65.32238591,\n",
       "        78.42288323,  82.74253317,  40.75491729,  69.45134491,\n",
       "        65.15574387,  53.61003642,  75.66065188,  35.20378552,\n",
       "        51.1183897 ,  58.92212066,  63.38518805,  56.09851378,\n",
       "        68.90563263,  74.49339516,  32.27090228,  41.18937287,\n",
       "        55.46101007,  25.79626026,  36.7953759 , 103.55082149,\n",
       "        73.01713688,  40.61689302,  61.56074409,  77.62048693,\n",
       "        86.88827202,  75.19821837,  68.63568515,  64.33100887,\n",
       "        86.08517794, 103.63815685,  60.30098289,  71.02934451,\n",
       "        65.01726026,  63.02446396,  74.39642685,  64.40874214,\n",
       "        62.81308466,  59.84578712,  83.02545081,  69.49603828,\n",
       "        76.222829  ,  44.09798575,  50.31668471,  65.2324877 ,\n",
       "        47.88836475,  43.81946484,  48.36109132,  48.77696509,\n",
       "        65.24914822, 106.72839242,  42.35476799,  62.38795651,\n",
       "        65.51363482,  40.45295774,  99.82835978,  69.82867093,\n",
       "        95.28437849, 115.67068592,  64.13880857,  73.33448919,\n",
       "        70.05427495,  59.82674655,  52.83520352,  46.6128633 ,\n",
       "        48.41862222,  61.46181638,  40.87780344,  50.9456851 ,\n",
       "        60.92940698,  52.69243108,  54.23652764,  60.56410958,\n",
       "        46.50036609,  77.1370792 ,  57.6143853 ,  58.59819094,\n",
       "        74.44025022,  57.21617026,  78.55105443,  88.90941771,\n",
       "        70.14900005,  68.43020646,  75.27114663,  73.76296853,\n",
       "        32.31731893,  63.72466647,  84.50293266,  91.72966708,\n",
       "        62.82603154,  74.05285126,  50.01594065,  77.74903612,\n",
       "        66.85022906,  55.09380459,  50.16237203,  47.36278819,\n",
       "        47.66648681,  43.51246328,  46.69816878,  15.1623406 ,\n",
       "        38.10802209,  52.36365676,  36.8258587 ,  80.30080379,\n",
       "        48.94594235,  78.84569034,  64.755041  ,  75.0254017 ,\n",
       "        63.24731883,  52.33719484,  45.75621796,  74.77587711,\n",
       "        68.36418275,  70.7569494 ,  87.55557076,  51.25173576,\n",
       "        88.98964721,  26.59221948,  56.29555791,  49.95477765,\n",
       "        82.31562817,  81.72826671,  47.92020909, 103.61007681,\n",
       "        52.32238514,  82.8831708 ,  70.97233107,  44.68771994,\n",
       "        49.11515817,  56.93478839,  61.94933261,  53.35836976,\n",
       "        34.31370467,  52.47362974,  65.96110892,  61.70252346,\n",
       "        70.02297623,  55.24275861,  47.42185466,  42.41840924,\n",
       "        57.84368127,  73.57395049,  69.31425449,  52.81764041,\n",
       "        58.70169329,  38.87145764,  39.03686411,  55.75147225,\n",
       "        45.97844934,  54.67095525,  53.76128667,  61.93685915,\n",
       "        45.91293449,  82.43903499,  86.92816588,  41.16079507,\n",
       "        57.92087496,  48.74273434,  54.95618039,  59.47337962,\n",
       "        59.66620856,  73.86745918,  64.66601487,  53.97242324,\n",
       "        41.25874592,  44.40340959,  67.00019597,  80.86774225,\n",
       "        77.44377348,  46.54912769])"
      ]
     },
     "execution_count": 272,
     "metadata": {},
     "output_type": "execute_result"
    }
   ],
   "source": [
    "pred"
   ]
  },
  {
   "cell_type": "code",
   "execution_count": 273,
   "metadata": {},
   "outputs": [
    {
     "data": {
      "text/plain": [
       "Text(0, 0.5, 'Predicted STOLP')"
      ]
     },
     "execution_count": 273,
     "metadata": {},
     "output_type": "execute_result"
    },
    {
     "data": {
      "image/png": "[encoded data removed]",
      "text/plain": [
       "<Figure size 720x576 with 1 Axes>"
      ]
     },
     "metadata": {
      "needs_background": "light"
     },
     "output_type": "display_data"
    }
   ],
   "source": [
    "plt.figure(figsize=(10,8))\n",
    "sns.regplot(x=duration_test,y=pred,scatter_kws={\"color\": \"black\"}, line_kws={\"color\": \"red\"})\n",
    "plt.xlabel('Actual STOLP')\n",
    "plt.ylabel('Predicted STOLP')\n"
   ]
  },
  {
   "cell_type": "code",
   "execution_count": null,
   "metadata": {},
   "outputs": [],
   "source": []
  },
  {
   "cell_type": "code",
   "execution_count": null,
   "metadata": {},
   "outputs": [],
   "source": []
  },
  {
   "cell_type": "code",
   "execution_count": null,
   "metadata": {},
   "outputs": [],
   "source": []
  }
 ],
 "metadata": {
  "kernelspec": {
   "display_name": "Python 3",
   "language": "python",
   "name": "python3"
  },
  "language_info": {
   "codemirror_mode": {
    "name": "ipython",
    "version": 3
   },
   "file_extension": ".py",
   "mimetype": "text/x-python",
   "name": "python",
   "nbconvert_exporter": "python",
   "pygments_lexer": "ipython3",
   "version": "3.8.5"
  }
 },
 "nbformat": 4,
 "nbformat_minor": 4
}
