{
 "cells": [
  {
   "cell_type": "code",
   "execution_count": 1,
   "metadata": {},
   "outputs": [
    {
     "name": "stderr",
     "output_type": "stream",
     "text": [
      "C:\\Users\\asus\\anaconda3\\lib\\site-packages\\IPython\\core\\interactiveshell.py:3146: DtypeWarning: Columns (20) have mixed types.Specify dtype option on import or set low_memory=False.\n"
     ]
    },
    {
     "data": {
      "text/html": [
       "<div>\n",
       "<style scoped>\n",
       "    .dataframe tbody tr th:only-of-type {\n",
       "        vertical-align: middle;\n",
       "    }\n",
       "\n",
       "    .dataframe tbody tr th {\n",
       "        vertical-align: top;\n",
       "    }\n",
       "\n",
       "    .dataframe thead th {\n",
       "        text-align: right;\n",
       "    }\n",
       "</style>\n",
       "<table border=\"1\" class=\"dataframe\">\n",
       "  <thead>\n",
       "    <tr style=\"text-align: right;\">\n",
       "      <th></th>\n",
       "      <th>Column_1</th>\n",
       "      <th>row</th>\n",
       "      <th>week day</th>\n",
       "      <th>unique row</th>\n",
       "      <th>Unnamed: 3</th>\n",
       "      <th>date</th>\n",
       "      <th>report time</th>\n",
       "      <th>CT</th>\n",
       "      <th>UDC</th>\n",
       "      <th>UDCC</th>\n",
       "      <th>...</th>\n",
       "      <th>CN</th>\n",
       "      <th>CPN</th>\n",
       "      <th>TNOS</th>\n",
       "      <th>reporter</th>\n",
       "      <th>TOO</th>\n",
       "      <th>WR</th>\n",
       "      <th>year</th>\n",
       "      <th>month</th>\n",
       "      <th>day</th>\n",
       "      <th>Recoded report time</th>\n",
       "    </tr>\n",
       "  </thead>\n",
       "  <tbody>\n",
       "    <tr>\n",
       "      <th>0</th>\n",
       "      <td>0</td>\n",
       "      <td>1</td>\n",
       "      <td>سه شنبه</td>\n",
       "      <td>1087467426</td>\n",
       "      <td>*</td>\n",
       "      <td>1395/01/31</td>\n",
       "      <td>22:33</td>\n",
       "      <td>22:50</td>\n",
       "      <td>NaN</td>\n",
       "      <td>0</td>\n",
       "      <td>...</td>\n",
       "      <td>NaN</td>\n",
       "      <td>*</td>\n",
       "      <td>0</td>\n",
       "      <td>مشترک</td>\n",
       "      <td>---</td>\n",
       "      <td>---</td>\n",
       "      <td>1395</td>\n",
       "      <td>1</td>\n",
       "      <td>31</td>\n",
       "      <td>22</td>\n",
       "    </tr>\n",
       "    <tr>\n",
       "      <th>1</th>\n",
       "      <td>1</td>\n",
       "      <td>2</td>\n",
       "      <td>سه شنبه</td>\n",
       "      <td>1087467260</td>\n",
       "      <td>*</td>\n",
       "      <td>1395/01/31</td>\n",
       "      <td>19:22</td>\n",
       "      <td>19:30</td>\n",
       "      <td>NaN</td>\n",
       "      <td>0</td>\n",
       "      <td>...</td>\n",
       "      <td>NaN</td>\n",
       "      <td>*</td>\n",
       "      <td>0</td>\n",
       "      <td>مشترک</td>\n",
       "      <td>---</td>\n",
       "      <td>---</td>\n",
       "      <td>1395</td>\n",
       "      <td>1</td>\n",
       "      <td>31</td>\n",
       "      <td>19</td>\n",
       "    </tr>\n",
       "    <tr>\n",
       "      <th>2</th>\n",
       "      <td>2</td>\n",
       "      <td>3</td>\n",
       "      <td>سه شنبه</td>\n",
       "      <td>1157467260</td>\n",
       "      <td>*</td>\n",
       "      <td>1395/01/31</td>\n",
       "      <td>19:21</td>\n",
       "      <td>19:33</td>\n",
       "      <td>NaN</td>\n",
       "      <td>0</td>\n",
       "      <td>...</td>\n",
       "      <td>NaN</td>\n",
       "      <td>*</td>\n",
       "      <td>0</td>\n",
       "      <td>مشترک</td>\n",
       "      <td>---</td>\n",
       "      <td>---</td>\n",
       "      <td>1395</td>\n",
       "      <td>1</td>\n",
       "      <td>31</td>\n",
       "      <td>19</td>\n",
       "    </tr>\n",
       "    <tr>\n",
       "      <th>3</th>\n",
       "      <td>3</td>\n",
       "      <td>4</td>\n",
       "      <td>سه شنبه</td>\n",
       "      <td>1157467172</td>\n",
       "      <td>*</td>\n",
       "      <td>1395/01/31</td>\n",
       "      <td>18:25</td>\n",
       "      <td>18:35</td>\n",
       "      <td>NaN</td>\n",
       "      <td>0</td>\n",
       "      <td>...</td>\n",
       "      <td>NaN</td>\n",
       "      <td>*</td>\n",
       "      <td>0</td>\n",
       "      <td>مشترک</td>\n",
       "      <td>---</td>\n",
       "      <td>---</td>\n",
       "      <td>1395</td>\n",
       "      <td>1</td>\n",
       "      <td>31</td>\n",
       "      <td>18</td>\n",
       "    </tr>\n",
       "    <tr>\n",
       "      <th>4</th>\n",
       "      <td>4</td>\n",
       "      <td>5</td>\n",
       "      <td>سه شنبه</td>\n",
       "      <td>1087467163</td>\n",
       "      <td>*</td>\n",
       "      <td>1395/01/31</td>\n",
       "      <td>18:20</td>\n",
       "      <td>19:00</td>\n",
       "      <td>NaN</td>\n",
       "      <td>0</td>\n",
       "      <td>...</td>\n",
       "      <td>NaN</td>\n",
       "      <td>*</td>\n",
       "      <td>0</td>\n",
       "      <td>مشترک</td>\n",
       "      <td>---</td>\n",
       "      <td>---</td>\n",
       "      <td>1395</td>\n",
       "      <td>1</td>\n",
       "      <td>31</td>\n",
       "      <td>18</td>\n",
       "    </tr>\n",
       "  </tbody>\n",
       "</table>\n",
       "<p>5 rows × 46 columns</p>\n",
       "</div>"
      ],
      "text/plain": [
       "   Column_1  row week day  unique row Unnamed: 3        date report time  \\\n",
       "0         0    1  سه شنبه  1087467426          *  1395/01/31       22:33   \n",
       "1         1    2  سه شنبه  1087467260          *  1395/01/31       19:22   \n",
       "2         2    3  سه شنبه  1157467260          *  1395/01/31       19:21   \n",
       "3         3    4  سه شنبه  1157467172          *  1395/01/31       18:25   \n",
       "4         4    5  سه شنبه  1087467163          *  1395/01/31       18:20   \n",
       "\n",
       "      CT  UDC  UDCC  ...   CN  CPN TNOS reporter  TOO   WR  year month day  \\\n",
       "0  22:50  NaN     0  ...  NaN    *    0    مشترک  ---  ---  1395     1  31   \n",
       "1  19:30  NaN     0  ...  NaN    *    0    مشترک  ---  ---  1395     1  31   \n",
       "2  19:33  NaN     0  ...  NaN    *    0    مشترک  ---  ---  1395     1  31   \n",
       "3  18:35  NaN     0  ...  NaN    *    0    مشترک  ---  ---  1395     1  31   \n",
       "4  19:00  NaN     0  ...  NaN    *    0    مشترک  ---  ---  1395     1  31   \n",
       "\n",
       "  Recoded report time  \n",
       "0                  22  \n",
       "1                  19  \n",
       "2                  19  \n",
       "3                  18  \n",
       "4                  18  \n",
       "\n",
       "[5 rows x 46 columns]"
      ]
     },
     "execution_count": 1,
     "metadata": {},
     "output_type": "execute_result"
    }
   ],
   "source": [
    "import pandas as pd\n",
    "import numpy as np\n",
    "import missingno as msno\n",
    "import matplotlib.pyplot as plt\n",
    "import plotnine\n",
    "import collections as col\n",
    "import seaborn as sns\n",
    "\n",
    "\n",
    "data=pd.read_csv(r'C:\\Users\\asus\\Desktop\\NEWELECTRICITY.csv')\n",
    "data.head()"
   ]
  },
  {
   "cell_type": "code",
   "execution_count": 2,
   "metadata": {
    "scrolled": true
   },
   "outputs": [
    {
     "data": {
      "text/plain": [
       "(18265, 46)"
      ]
     },
     "execution_count": 2,
     "metadata": {},
     "output_type": "execute_result"
    }
   ],
   "source": [
    "data.shape"
   ]
  },
  {
   "cell_type": "code",
   "execution_count": 3,
   "metadata": {},
   "outputs": [
    {
     "data": {
      "text/plain": [
       "انشعابات مشتركان                      7720\n",
       "خطوط زميني فشارضعيف                   2705\n",
       "خطوط هوائي فشارضعيف                   2051\n",
       "طرف فشارضعيف پستهاي توزيع             1955\n",
       "شبكه فشار متوسط هوائي                  964\n",
       "طرف فشار متوسط پست هاي توزيع زميني     788\n",
       "طرف فشارمتوسط پستهاي توزيع هوائي       755\n",
       "شبكه فشار متوسط زميني                  678\n",
       "كابل خودنگهدار فشارضعيف                264\n",
       "كمبود توليد                            250\n",
       "فوق توزيع                              111\n",
       "روشنايي معابر                           19\n",
       "انتقال                                   5\n",
       "Name: TOD, dtype: int64"
      ]
     },
     "execution_count": 3,
     "metadata": {},
     "output_type": "execute_result"
    }
   ],
   "source": [
    "data['TOD'].value_counts()"
   ]
  },
  {
   "cell_type": "markdown",
   "metadata": {},
   "source": [
    "__how much time it take from reporting till checking__\n"
   ]
  },
  {
   "cell_type": "code",
   "execution_count": 87,
   "metadata": {},
   "outputs": [],
   "source": [
    "data['report time'] = pd.to_datetime(data['report time'])\n",
    "#data['report time'] = data['report time'].dt.time\n",
    "data['CT'] = pd.to_datetime(data['CT'])\n",
    "#data['CT'] = data['CT'].dt.time\n"
   ]
  },
  {
   "cell_type": "code",
   "execution_count": 88,
   "metadata": {},
   "outputs": [
    {
     "data": {
      "text/html": [
       "<div>\n",
       "<style scoped>\n",
       "    .dataframe tbody tr th:only-of-type {\n",
       "        vertical-align: middle;\n",
       "    }\n",
       "\n",
       "    .dataframe tbody tr th {\n",
       "        vertical-align: top;\n",
       "    }\n",
       "\n",
       "    .dataframe thead th {\n",
       "        text-align: right;\n",
       "    }\n",
       "</style>\n",
       "<table border=\"1\" class=\"dataframe\">\n",
       "  <thead>\n",
       "    <tr style=\"text-align: right;\">\n",
       "      <th></th>\n",
       "      <th>report time</th>\n",
       "      <th>CT</th>\n",
       "      <th>PST</th>\n",
       "      <th>DOFD</th>\n",
       "    </tr>\n",
       "  </thead>\n",
       "  <tbody>\n",
       "    <tr>\n",
       "      <th>0</th>\n",
       "      <td>2021-05-11 22:33:00</td>\n",
       "      <td>2021-05-11 22:50:00</td>\n",
       "      <td>23:0</td>\n",
       "      <td>27</td>\n",
       "    </tr>\n",
       "    <tr>\n",
       "      <th>1</th>\n",
       "      <td>2021-05-11 19:22:00</td>\n",
       "      <td>2021-05-11 19:30:00</td>\n",
       "      <td>19:35</td>\n",
       "      <td>13</td>\n",
       "    </tr>\n",
       "    <tr>\n",
       "      <th>2</th>\n",
       "      <td>2021-05-11 19:21:00</td>\n",
       "      <td>2021-05-11 19:33:00</td>\n",
       "      <td>19:35</td>\n",
       "      <td>14</td>\n",
       "    </tr>\n",
       "    <tr>\n",
       "      <th>3</th>\n",
       "      <td>2021-05-11 18:25:00</td>\n",
       "      <td>2021-05-11 18:35:00</td>\n",
       "      <td>18:37</td>\n",
       "      <td>12</td>\n",
       "    </tr>\n",
       "    <tr>\n",
       "      <th>4</th>\n",
       "      <td>2021-05-11 18:20:00</td>\n",
       "      <td>2021-05-11 19:00:00</td>\n",
       "      <td>19:20</td>\n",
       "      <td>60</td>\n",
       "    </tr>\n",
       "    <tr>\n",
       "      <th>...</th>\n",
       "      <td>...</td>\n",
       "      <td>...</td>\n",
       "      <td>...</td>\n",
       "      <td>...</td>\n",
       "    </tr>\n",
       "    <tr>\n",
       "      <th>18260</th>\n",
       "      <td>2021-05-11 10:31:00</td>\n",
       "      <td>2021-05-11 10:40:00</td>\n",
       "      <td>10:45</td>\n",
       "      <td>14</td>\n",
       "    </tr>\n",
       "    <tr>\n",
       "      <th>18261</th>\n",
       "      <td>2021-05-11 09:32:00</td>\n",
       "      <td>2021-05-11 09:40:00</td>\n",
       "      <td>9:45</td>\n",
       "      <td>13</td>\n",
       "    </tr>\n",
       "    <tr>\n",
       "      <th>18262</th>\n",
       "      <td>2021-05-11 06:58:00</td>\n",
       "      <td>2021-05-11 07:45:00</td>\n",
       "      <td>8:0</td>\n",
       "      <td>62</td>\n",
       "    </tr>\n",
       "    <tr>\n",
       "      <th>18263</th>\n",
       "      <td>2021-05-11 02:57:00</td>\n",
       "      <td>2021-05-11 03:30:00</td>\n",
       "      <td>4:3</td>\n",
       "      <td>66</td>\n",
       "    </tr>\n",
       "    <tr>\n",
       "      <th>18264</th>\n",
       "      <td>2021-05-11 00:35:00</td>\n",
       "      <td>2021-05-11 00:45:00</td>\n",
       "      <td>0:50</td>\n",
       "      <td>15</td>\n",
       "    </tr>\n",
       "  </tbody>\n",
       "</table>\n",
       "<p>18265 rows × 4 columns</p>\n",
       "</div>"
      ],
      "text/plain": [
       "              report time                  CT    PST  DOFD\n",
       "0     2021-05-11 22:33:00 2021-05-11 22:50:00   23:0    27\n",
       "1     2021-05-11 19:22:00 2021-05-11 19:30:00  19:35    13\n",
       "2     2021-05-11 19:21:00 2021-05-11 19:33:00  19:35    14\n",
       "3     2021-05-11 18:25:00 2021-05-11 18:35:00  18:37    12\n",
       "4     2021-05-11 18:20:00 2021-05-11 19:00:00  19:20    60\n",
       "...                   ...                 ...    ...   ...\n",
       "18260 2021-05-11 10:31:00 2021-05-11 10:40:00  10:45    14\n",
       "18261 2021-05-11 09:32:00 2021-05-11 09:40:00   9:45    13\n",
       "18262 2021-05-11 06:58:00 2021-05-11 07:45:00    8:0    62\n",
       "18263 2021-05-11 02:57:00 2021-05-11 03:30:00    4:3    66\n",
       "18264 2021-05-11 00:35:00 2021-05-11 00:45:00   0:50    15\n",
       "\n",
       "[18265 rows x 4 columns]"
      ]
     },
     "execution_count": 88,
     "metadata": {},
     "output_type": "execute_result"
    }
   ],
   "source": [
    "data[['report time','CT','PST','DOFD']]\n"
   ]
  },
  {
   "cell_type": "code",
   "execution_count": 89,
   "metadata": {},
   "outputs": [
    {
     "data": {
      "text/plain": [
       "0   0 days 00:17:00\n",
       "1   0 days 00:08:00\n",
       "2   0 days 00:12:00\n",
       "3   0 days 00:10:00\n",
       "4   0 days 00:40:00\n",
       "Name: DTCT, dtype: timedelta64[ns]"
      ]
     },
     "execution_count": 89,
     "metadata": {},
     "output_type": "execute_result"
    }
   ],
   "source": [
    "data['DTCT'] = data['CT'].sub(data['report time'], axis=0)\n",
    "data['DTCT'].head()"
   ]
  },
  {
   "cell_type": "code",
   "execution_count": 90,
   "metadata": {
    "collapsed": true
   },
   "outputs": [
    {
     "name": "stdout",
     "output_type": "stream",
     "text": [
      "row                                            265\n",
      "week day                                      جمعه\n",
      "unique row                              1157450674\n",
      "Unnamed: 3                                     NaN\n",
      "date                                    1395/01/20\n",
      "report time                    2021-05-11 01:19:00\n",
      "CT                             2021-05-11 10:28:00\n",
      "UDC                                            NaN\n",
      "UDCC                                             0\n",
      "MPF                                            NaN\n",
      "MPFC                                             0\n",
      "DC                                             NaN\n",
      "DCC                                            NaN\n",
      "WPF                                              0\n",
      "voltage                                  فشار ضعيف\n",
      "TOD                               انشعابات مشتركان\n",
      "COB                           اشكال در شبكه داخليD\n",
      "p                                              NaN\n",
      "COP                                            NaN\n",
      "IRC                                              0\n",
      "DL                                             NaN\n",
      "ENS                                              0\n",
      "D                                        جعبه 25×3\n",
      "TOB                                      بی برنامه\n",
      "AC                                            روشن\n",
      "PT                                             NaN\n",
      "SOAOD                                          تكي\n",
      "ZN                                             NaN\n",
      "District 2                                     NaN\n",
      "ED               برق پای کنتور تحویل مشترک داده شد\n",
      "info                                          کامل\n",
      "report time.1                                 1:19\n",
      "PST                                           1:30\n",
      "DOFD                                            11\n",
      "TOC                                            NaN\n",
      "CN                                             NaN\n",
      "CPN                                            NaN\n",
      "TNOS                                             0\n",
      "reporter                                     مشترک\n",
      "TOO                                            ---\n",
      "WR                                             ---\n",
      "year                                          1395\n",
      "month                                           01\n",
      "day                                             20\n",
      "DTCT                               0 days 09:09:00\n",
      "Name: 264, dtype: object\n"
     ]
    }
   ],
   "source": [
    "with pd.option_context('display.max_rows', None, 'display.max_columns', None):\n",
    "    print(data.loc[data['DTCT'].idxmax()])"
   ]
  },
  {
   "cell_type": "code",
   "execution_count": 91,
   "metadata": {
    "collapsed": true
   },
   "outputs": [
    {
     "name": "stdout",
     "output_type": "stream",
     "text": [
      "row                                                            292\n",
      "week day                                                   پنجشنبه\n",
      "unique row                                              1058084926\n",
      "Unnamed: 3                                                     NaN\n",
      "date                                                    1396/02/14\n",
      "report time                                    2021-05-11 05:42:00\n",
      "CT                                             2021-05-11 06:15:00\n",
      "UDC                                                             کن\n",
      "UDCC                                                          2164\n",
      "MPF                                                          سنگان\n",
      "MPFC                                                      34044112\n",
      "DC                                                             NaN\n",
      "DCC                                                            NaN\n",
      "WPF                                                              0\n",
      "voltage                                                 فشار متوسط\n",
      "TOD                                          شبكه فشار متوسط هوائي\n",
      "COB                                    اشكال در مقره(بشقابي.سوزني)\n",
      "p                                                              NaN\n",
      "COP                                                            NaN\n",
      "IRC                                                             15\n",
      "DL                                                             NaN\n",
      "ENS                                                        1202.33\n",
      "D                                                       مشترك 3×50\n",
      "TOB                                                      بی برنامه\n",
      "AC                                                            روشن\n",
      "PT                                                             NaN\n",
      "SOAOD                                                          كلي\n",
      "ZN                                                              13\n",
      "District 2                                                     NaN\n",
      "ED               قطع ریگلوزر دوم***خاموشی مربوط به روستای رندان...\n",
      "info                                                          کامل\n",
      "report time.1                                                 5:42\n",
      "PST                                                          12:20\n",
      "DOFD                                                           398\n",
      "TOC                                                            NaN\n",
      "CN                                                             NaN\n",
      "CPN                                                            NaN\n",
      "TNOS                                                             0\n",
      "reporter                                                     مشترک\n",
      "TOO                                                            ---\n",
      "WR               جهت یکسره کردن برقگیر ترکیده شده-همچنین یک عدد...\n",
      "year                                                          1396\n",
      "month                                                           02\n",
      "day                                                             14\n",
      "DTCT                                               0 days 00:33:00\n",
      "Name: 7867, dtype: object\n"
     ]
    }
   ],
   "source": [
    "with pd.option_context('display.max_rows', None, 'display.max_columns', None):\n",
    "    print(data.loc[data['DOFD'].idxmax()])"
   ]
  },
  {
   "cell_type": "code",
   "execution_count": 92,
   "metadata": {},
   "outputs": [
    {
     "data": {
      "text/plain": [
       "0       0 days 00:17:00\n",
       "1       0 days 00:08:00\n",
       "2       0 days 00:12:00\n",
       "3       0 days 00:10:00\n",
       "4       0 days 00:40:00\n",
       "              ...      \n",
       "18260   0 days 00:09:00\n",
       "18261   0 days 00:08:00\n",
       "18262   0 days 00:47:00\n",
       "18263   0 days 00:33:00\n",
       "18264   0 days 00:10:00\n",
       "Name: DTCT, Length: 18265, dtype: timedelta64[ns]"
      ]
     },
     "execution_count": 92,
     "metadata": {},
     "output_type": "execute_result"
    }
   ],
   "source": [
    "data['DTCT']"
   ]
  },
  {
   "cell_type": "code",
   "execution_count": 11,
   "metadata": {},
   "outputs": [
    {
     "data": {
      "text/html": [
       "<div>\n",
       "<style scoped>\n",
       "    .dataframe tbody tr th:only-of-type {\n",
       "        vertical-align: middle;\n",
       "    }\n",
       "\n",
       "    .dataframe tbody tr th {\n",
       "        vertical-align: top;\n",
       "    }\n",
       "\n",
       "    .dataframe thead th {\n",
       "        text-align: right;\n",
       "    }\n",
       "</style>\n",
       "<table border=\"1\" class=\"dataframe\">\n",
       "  <thead>\n",
       "    <tr style=\"text-align: right;\">\n",
       "      <th></th>\n",
       "      <th>day</th>\n",
       "      <th>Recoded report time</th>\n",
       "      <th>year</th>\n",
       "      <th>month</th>\n",
       "      <th>COB</th>\n",
       "      <th>TOD</th>\n",
       "      <th>DOFD</th>\n",
       "      <th>week day</th>\n",
       "    </tr>\n",
       "  </thead>\n",
       "  <tbody>\n",
       "    <tr>\n",
       "      <th>0</th>\n",
       "      <td>31</td>\n",
       "      <td>22</td>\n",
       "      <td>1395</td>\n",
       "      <td>1</td>\n",
       "      <td>اشكال در كابل سرويس</td>\n",
       "      <td>انشعابات مشتركان</td>\n",
       "      <td>27</td>\n",
       "      <td>سه شنبه</td>\n",
       "    </tr>\n",
       "    <tr>\n",
       "      <th>1</th>\n",
       "      <td>31</td>\n",
       "      <td>19</td>\n",
       "      <td>1395</td>\n",
       "      <td>1</td>\n",
       "      <td>اشكال در كابل سرويس</td>\n",
       "      <td>انشعابات مشتركان</td>\n",
       "      <td>13</td>\n",
       "      <td>سه شنبه</td>\n",
       "    </tr>\n",
       "    <tr>\n",
       "      <th>2</th>\n",
       "      <td>31</td>\n",
       "      <td>19</td>\n",
       "      <td>1395</td>\n",
       "      <td>1</td>\n",
       "      <td>اشكال در شبكه داخليD</td>\n",
       "      <td>انشعابات مشتركان</td>\n",
       "      <td>14</td>\n",
       "      <td>سه شنبه</td>\n",
       "    </tr>\n",
       "    <tr>\n",
       "      <th>3</th>\n",
       "      <td>31</td>\n",
       "      <td>18</td>\n",
       "      <td>1395</td>\n",
       "      <td>1</td>\n",
       "      <td>اشكال در لوازم اندازه گيري مشتركين غيرديماندي ...</td>\n",
       "      <td>انشعابات مشتركان</td>\n",
       "      <td>12</td>\n",
       "      <td>سه شنبه</td>\n",
       "    </tr>\n",
       "    <tr>\n",
       "      <th>4</th>\n",
       "      <td>31</td>\n",
       "      <td>18</td>\n",
       "      <td>1395</td>\n",
       "      <td>1</td>\n",
       "      <td>اشكال در كابل سرويس</td>\n",
       "      <td>انشعابات مشتركان</td>\n",
       "      <td>60</td>\n",
       "      <td>سه شنبه</td>\n",
       "    </tr>\n",
       "  </tbody>\n",
       "</table>\n",
       "</div>"
      ],
      "text/plain": [
       "   day  Recoded report time  year  month  \\\n",
       "0   31                   22  1395      1   \n",
       "1   31                   19  1395      1   \n",
       "2   31                   19  1395      1   \n",
       "3   31                   18  1395      1   \n",
       "4   31                   18  1395      1   \n",
       "\n",
       "                                                 COB               TOD  DOFD  \\\n",
       "0                                اشكال در كابل سرويس  انشعابات مشتركان    27   \n",
       "1                                اشكال در كابل سرويس  انشعابات مشتركان    13   \n",
       "2                               اشكال در شبكه داخليD  انشعابات مشتركان    14   \n",
       "3  اشكال در لوازم اندازه گيري مشتركين غيرديماندي ...  انشعابات مشتركان    12   \n",
       "4                                اشكال در كابل سرويس  انشعابات مشتركان    60   \n",
       "\n",
       "  week day  \n",
       "0  سه شنبه  \n",
       "1  سه شنبه  \n",
       "2  سه شنبه  \n",
       "3  سه شنبه  \n",
       "4  سه شنبه  "
      ]
     },
     "execution_count": 11,
     "metadata": {},
     "output_type": "execute_result"
    }
   ],
   "source": [
    "dataset=data[['day','Recoded report time','year','month','COB','TOD','DOFD','week day']]\n",
    "dataset.head()"
   ]
  },
  {
   "cell_type": "code",
   "execution_count": 15,
   "metadata": {},
   "outputs": [
    {
     "name": "stderr",
     "output_type": "stream",
     "text": [
      "<ipython-input-15-9a787711db6a>:1: SettingWithCopyWarning: \n",
      "A value is trying to be set on a copy of a slice from a DataFrame.\n",
      "Try using .loc[row_indexer,col_indexer] = value instead\n",
      "\n",
      "See the caveats in the documentation: https://pandas.pydata.org/pandas-docs/stable/user_guide/indexing.html#returning-a-view-versus-a-copy\n",
      "<ipython-input-15-9a787711db6a>:3: SettingWithCopyWarning: \n",
      "A value is trying to be set on a copy of a slice from a DataFrame.\n",
      "Try using .loc[row_indexer,col_indexer] = value instead\n",
      "\n",
      "See the caveats in the documentation: https://pandas.pydata.org/pandas-docs/stable/user_guide/indexing.html#returning-a-view-versus-a-copy\n",
      "<ipython-input-15-9a787711db6a>:5: SettingWithCopyWarning: \n",
      "A value is trying to be set on a copy of a slice from a DataFrame.\n",
      "Try using .loc[row_indexer,col_indexer] = value instead\n",
      "\n",
      "See the caveats in the documentation: https://pandas.pydata.org/pandas-docs/stable/user_guide/indexing.html#returning-a-view-versus-a-copy\n"
     ]
    }
   ],
   "source": [
    "dataset[\"COB\"] = dataset[\"COB\"].astype('category')\n",
    "dataset.dtypes\n",
    "dataset[\"TOD\"] = dataset[\"TOD\"].astype('category')\n",
    "dataset.dtypes\n",
    "dataset[\"week day\"] = dataset[\"week day\"].astype('category')"
   ]
  },
  {
   "cell_type": "code",
   "execution_count": 16,
   "metadata": {},
   "outputs": [
    {
     "name": "stderr",
     "output_type": "stream",
     "text": [
      "<ipython-input-16-8ea9f498c2e3>:1: SettingWithCopyWarning: \n",
      "A value is trying to be set on a copy of a slice from a DataFrame.\n",
      "Try using .loc[row_indexer,col_indexer] = value instead\n",
      "\n",
      "See the caveats in the documentation: https://pandas.pydata.org/pandas-docs/stable/user_guide/indexing.html#returning-a-view-versus-a-copy\n",
      "<ipython-input-16-8ea9f498c2e3>:2: SettingWithCopyWarning: \n",
      "A value is trying to be set on a copy of a slice from a DataFrame.\n",
      "Try using .loc[row_indexer,col_indexer] = value instead\n",
      "\n",
      "See the caveats in the documentation: https://pandas.pydata.org/pandas-docs/stable/user_guide/indexing.html#returning-a-view-versus-a-copy\n",
      "<ipython-input-16-8ea9f498c2e3>:3: SettingWithCopyWarning: \n",
      "A value is trying to be set on a copy of a slice from a DataFrame.\n",
      "Try using .loc[row_indexer,col_indexer] = value instead\n",
      "\n",
      "See the caveats in the documentation: https://pandas.pydata.org/pandas-docs/stable/user_guide/indexing.html#returning-a-view-versus-a-copy\n"
     ]
    },
    {
     "data": {
      "text/html": [
       "<div>\n",
       "<style scoped>\n",
       "    .dataframe tbody tr th:only-of-type {\n",
       "        vertical-align: middle;\n",
       "    }\n",
       "\n",
       "    .dataframe tbody tr th {\n",
       "        vertical-align: top;\n",
       "    }\n",
       "\n",
       "    .dataframe thead th {\n",
       "        text-align: right;\n",
       "    }\n",
       "</style>\n",
       "<table border=\"1\" class=\"dataframe\">\n",
       "  <thead>\n",
       "    <tr style=\"text-align: right;\">\n",
       "      <th></th>\n",
       "      <th>day</th>\n",
       "      <th>Recoded report time</th>\n",
       "      <th>year</th>\n",
       "      <th>month</th>\n",
       "      <th>COB</th>\n",
       "      <th>TOD</th>\n",
       "      <th>DOFD</th>\n",
       "      <th>week day</th>\n",
       "    </tr>\n",
       "  </thead>\n",
       "  <tbody>\n",
       "    <tr>\n",
       "      <th>0</th>\n",
       "      <td>31</td>\n",
       "      <td>22</td>\n",
       "      <td>1395</td>\n",
       "      <td>1</td>\n",
       "      <td>32</td>\n",
       "      <td>1</td>\n",
       "      <td>27</td>\n",
       "      <td>2</td>\n",
       "    </tr>\n",
       "    <tr>\n",
       "      <th>1</th>\n",
       "      <td>31</td>\n",
       "      <td>19</td>\n",
       "      <td>1395</td>\n",
       "      <td>1</td>\n",
       "      <td>32</td>\n",
       "      <td>1</td>\n",
       "      <td>13</td>\n",
       "      <td>2</td>\n",
       "    </tr>\n",
       "    <tr>\n",
       "      <th>2</th>\n",
       "      <td>31</td>\n",
       "      <td>19</td>\n",
       "      <td>1395</td>\n",
       "      <td>1</td>\n",
       "      <td>30</td>\n",
       "      <td>1</td>\n",
       "      <td>14</td>\n",
       "      <td>2</td>\n",
       "    </tr>\n",
       "    <tr>\n",
       "      <th>3</th>\n",
       "      <td>31</td>\n",
       "      <td>18</td>\n",
       "      <td>1395</td>\n",
       "      <td>1</td>\n",
       "      <td>35</td>\n",
       "      <td>1</td>\n",
       "      <td>12</td>\n",
       "      <td>2</td>\n",
       "    </tr>\n",
       "    <tr>\n",
       "      <th>4</th>\n",
       "      <td>31</td>\n",
       "      <td>18</td>\n",
       "      <td>1395</td>\n",
       "      <td>1</td>\n",
       "      <td>32</td>\n",
       "      <td>1</td>\n",
       "      <td>60</td>\n",
       "      <td>2</td>\n",
       "    </tr>\n",
       "  </tbody>\n",
       "</table>\n",
       "</div>"
      ],
      "text/plain": [
       "   day  Recoded report time  year  month  COB  TOD  DOFD  week day\n",
       "0   31                   22  1395      1   32    1    27         2\n",
       "1   31                   19  1395      1   32    1    13         2\n",
       "2   31                   19  1395      1   30    1    14         2\n",
       "3   31                   18  1395      1   35    1    12         2\n",
       "4   31                   18  1395      1   32    1    60         2"
      ]
     },
     "execution_count": 16,
     "metadata": {},
     "output_type": "execute_result"
    }
   ],
   "source": [
    "dataset[\"COB\"] = dataset[\"COB\"].cat.codes\n",
    "dataset[\"week day\"] = dataset[\"week day\"].cat.codes\n",
    "dataset[\"TOD\"] = dataset[\"TOD\"].cat.codes\n",
    "dataset.head()"
   ]
  },
  {
   "cell_type": "markdown",
   "metadata": {},
   "source": [
    "__TOD (predicted class)__\n"
   ]
  },
  {
   "cell_type": "markdown",
   "metadata": {},
   "source": [
    "# Random forest\n"
   ]
  },
  {
   "cell_type": "code",
   "execution_count": 19,
   "metadata": {},
   "outputs": [],
   "source": [
    "X = dataset.drop(['TOD'], axis=1)\n",
    "y = dataset['TOD']"
   ]
  },
  {
   "cell_type": "code",
   "execution_count": 20,
   "metadata": {},
   "outputs": [],
   "source": [
    "from sklearn.model_selection import train_test_split\n",
    "X_train,X_test,y_train,y_test= train_test_split(X,y,test_size = 0.33,random_state = 42)"
   ]
  },
  {
   "cell_type": "code",
   "execution_count": 21,
   "metadata": {},
   "outputs": [
    {
     "data": {
      "text/plain": [
       "((12237, 7), (6028, 7))"
      ]
     },
     "execution_count": 21,
     "metadata": {},
     "output_type": "execute_result"
    }
   ],
   "source": [
    "X_train.shape,X_test.shape"
   ]
  },
  {
   "cell_type": "code",
   "execution_count": 22,
   "metadata": {},
   "outputs": [
    {
     "name": "stdout",
     "output_type": "stream",
     "text": [
      "model: 0.9081\n"
     ]
    }
   ],
   "source": [
    "from sklearn.ensemble import RandomForestClassifier\n",
    "\n",
    "rfc = RandomForestClassifier(random_state=0)\n",
    "rfc.fit(X_train,y_train)\n",
    "\n",
    "y_pred = rfc.predict(X_test)\n",
    "\n",
    "from sklearn.metrics import accuracy_score\n",
    "\n",
    "print('model: {0:0.4f}'.format(accuracy_score(y_test,y_pred)))"
   ]
  },
  {
   "cell_type": "code",
   "execution_count": 23,
   "metadata": {},
   "outputs": [
    {
     "name": "stdout",
     "output_type": "stream",
     "text": [
      "model:0.9081\n"
     ]
    }
   ],
   "source": [
    "rcf_100 = RandomForestClassifier(n_estimators =100, random_state =0)\n",
    "\n",
    "rcf_100.fit(X_train,y_train)\n",
    "\n",
    "y_pred_100 =rcf_100.predict(X_train)\n",
    "\n",
    "y_pred_100 = rcf_100.predict(X_test)\n",
    "\n",
    "print('model:{0:0.4f}'.format(accuracy_score(y_test, y_pred)))\n",
    "\n"
   ]
  },
  {
   "cell_type": "code",
   "execution_count": 24,
   "metadata": {},
   "outputs": [
    {
     "data": {
      "text/plain": [
       "RandomForestClassifier(random_state=0)"
      ]
     },
     "execution_count": 24,
     "metadata": {},
     "output_type": "execute_result"
    }
   ],
   "source": [
    "clf = RandomForestClassifier(n_estimators =100, random_state=0)\n",
    "\n",
    "clf.fit(X_train, y_train)"
   ]
  },
  {
   "cell_type": "code",
   "execution_count": 25,
   "metadata": {},
   "outputs": [
    {
     "data": {
      "text/plain": [
       "COB                    0.619878\n",
       "DOFD                   0.132239\n",
       "Recoded report time    0.066184\n",
       "day                    0.063478\n",
       "month                  0.053587\n",
       "week day               0.040693\n",
       "year                   0.023941\n",
       "dtype: float64"
      ]
     },
     "execution_count": 25,
     "metadata": {},
     "output_type": "execute_result"
    }
   ],
   "source": [
    "feature_scores =pd.Series(clf.feature_importances_, index=X_train.columns).sort_values(ascending=False)\n",
    "feature_scores"
   ]
  },
  {
   "cell_type": "code",
   "execution_count": 26,
   "metadata": {},
   "outputs": [
    {
     "data": {
      "image/png": "[encoded data removed]",
      "text/plain": [
       "<Figure size 432x288 with 1 Axes>"
      ]
     },
     "metadata": {
      "needs_background": "light"
     },
     "output_type": "display_data"
    }
   ],
   "source": [
    "sns.barplot(x=feature_scores, y=feature_scores.index)\n",
    "plt.xlabel('feature importance score')\n",
    "plt.ylabel('feature')\n",
    "\n",
    "plt.title(\"visualizing important feature\")\n",
    "\n",
    "plt.show()"
   ]
  },
  {
   "cell_type": "code",
   "execution_count": 58,
   "metadata": {},
   "outputs": [],
   "source": [
    "X = dataset.drop(['TOD','year','month','week day'], axis=1)\n",
    "y = dataset['TOD']\n"
   ]
  },
  {
   "cell_type": "code",
   "execution_count": 59,
   "metadata": {},
   "outputs": [],
   "source": [
    "from sklearn.model_selection import train_test_split\n",
    "X_train,X_test,y_train,y_test= train_test_split(X,y,test_size = 0.33,random_state = 42)"
   ]
  },
  {
   "cell_type": "code",
   "execution_count": 60,
   "metadata": {},
   "outputs": [
    {
     "data": {
      "text/plain": [
       "((12237, 4), (6028, 4))"
      ]
     },
     "execution_count": 60,
     "metadata": {},
     "output_type": "execute_result"
    }
   ],
   "source": [
    "X_train.shape,X_test.shape"
   ]
  },
  {
   "cell_type": "code",
   "execution_count": 61,
   "metadata": {},
   "outputs": [
    {
     "name": "stdout",
     "output_type": "stream",
     "text": [
      "model: 0.9589\n"
     ]
    }
   ],
   "source": [
    "from sklearn.ensemble import RandomForestClassifier\n",
    "\n",
    "rfc = RandomForestClassifier(random_state=0)\n",
    "rfc.fit(X_train,y_train)\n",
    "\n",
    "y_pred = rfc.predict(X_test)\n",
    "\n",
    "from sklearn.metrics import accuracy_score\n",
    "\n",
    "print('model: {0:0.4f}'.format(accuracy_score(y_test,y_pred)))"
   ]
  },
  {
   "cell_type": "code",
   "execution_count": 32,
   "metadata": {},
   "outputs": [
    {
     "name": "stdout",
     "output_type": "stream",
     "text": [
      "Confusion matric\n",
      "\n",
      " [[   1    0    0    1    0    0    0    0    0    0    0    0    0]\n",
      " [   0 2559    5    1    0    0    0    2    0    1    0    0    0]\n",
      " [   0    0  854    2    0   13   13    1    3    0    0    0    0]\n",
      " [   0    0    2  648    0    2   11    3    2    2    0    1    0]\n",
      " [   0    0    2    1    2    0    1    0    0    0    0    0    0]\n",
      " [   0    2   13    1    1  164   18    0    0    2    0    1    0]\n",
      " [   0    1   13   25    0   15  268    0    0    1    0    1    0]\n",
      " [   0    0    2    1    0    5    2  219    3    8    0    4    0]\n",
      " [   0    0    7    2    0    0    5    0  654    1    0    3    0]\n",
      " [   0    1    5    1    0    6    2    6    3  219    0    2    0]\n",
      " [   0    0    3    0    0    3    2    1    0    3   23    0    0]\n",
      " [   0    0    0    1    0    0    2    1    0    0    0   81    0]\n",
      " [   0    0    0    0    0    0    0    0    0    0    0    0   88]]\n"
     ]
    }
   ],
   "source": [
    "from sklearn.metrics import confusion_matrix\n",
    "cm = confusion_matrix(y_test,y_pred)\n",
    "\n",
    "print('Confusion matric\\n\\n',cm)"
   ]
  },
  {
   "cell_type": "code",
   "execution_count": 33,
   "metadata": {},
   "outputs": [
    {
     "name": "stdout",
     "output_type": "stream",
     "text": [
      "              precision    recall  f1-score   support\n",
      "\n",
      "           0       1.00      0.50      0.67         2\n",
      "           1       1.00      1.00      1.00      2568\n",
      "           2       0.94      0.96      0.95       886\n",
      "           3       0.95      0.97      0.96       671\n",
      "           4       0.67      0.33      0.44         6\n",
      "           5       0.79      0.81      0.80       202\n",
      "           6       0.83      0.83      0.83       324\n",
      "           7       0.94      0.90      0.92       244\n",
      "           8       0.98      0.97      0.98       672\n",
      "           9       0.92      0.89      0.91       245\n",
      "          10       1.00      0.66      0.79        35\n",
      "          11       0.87      0.95      0.91        85\n",
      "          12       1.00      1.00      1.00        88\n",
      "\n",
      "    accuracy                           0.96      6028\n",
      "   macro avg       0.91      0.83      0.86      6028\n",
      "weighted avg       0.96      0.96      0.96      6028\n",
      "\n"
     ]
    }
   ],
   "source": [
    " from sklearn.metrics import classification_report\n",
    "\n",
    "print(classification_report(y_test,y_pred))"
   ]
  },
  {
   "cell_type": "markdown",
   "metadata": {},
   "source": [
    "# Decision Tree\n"
   ]
  },
  {
   "cell_type": "code",
   "execution_count": 34,
   "metadata": {},
   "outputs": [],
   "source": [
    "from sklearn.tree import DecisionTreeClassifier"
   ]
  },
  {
   "cell_type": "code",
   "execution_count": 35,
   "metadata": {},
   "outputs": [
    {
     "data": {
      "text/plain": [
       "DecisionTreeClassifier(max_depth=3, random_state=0)"
      ]
     },
     "execution_count": 35,
     "metadata": {},
     "output_type": "execute_result"
    }
   ],
   "source": [
    "clf_gini = DecisionTreeClassifier(criterion = 'gini', max_depth=3, random_state= 0)\n",
    "\n",
    "clf_gini.fit(X_train,y_train)"
   ]
  },
  {
   "cell_type": "code",
   "execution_count": 36,
   "metadata": {},
   "outputs": [],
   "source": [
    "y_pred_gini = clf_gini.predict(X_test)"
   ]
  },
  {
   "cell_type": "code",
   "execution_count": 37,
   "metadata": {},
   "outputs": [
    {
     "name": "stdout",
     "output_type": "stream",
     "text": [
      "model: 0.7377\n"
     ]
    }
   ],
   "source": [
    "from sklearn.metrics import accuracy_score\n",
    "\n",
    "print('model: {0:0.4f}'.format(accuracy_score(y_test,y_pred_gini)))"
   ]
  },
  {
   "cell_type": "code",
   "execution_count": 38,
   "metadata": {},
   "outputs": [
    {
     "data": {
      "text/plain": [
       "array([8, 8, 8, ..., 2, 3, 1], dtype=int8)"
      ]
     },
     "execution_count": 38,
     "metadata": {},
     "output_type": "execute_result"
    }
   ],
   "source": [
    "y_pred_train_gini = clf_gini.predict(X_train)\n",
    "\n",
    "y_pred_train_gini"
   ]
  },
  {
   "cell_type": "code",
   "execution_count": 39,
   "metadata": {},
   "outputs": [
    {
     "name": "stdout",
     "output_type": "stream",
     "text": [
      "model: 0.7361\n"
     ]
    }
   ],
   "source": [
    "print('model: {0:0.4f}'.format(accuracy_score(y_train,y_pred_train_gini)))"
   ]
  },
  {
   "cell_type": "markdown",
   "metadata": {},
   "source": [
    "__check for overfitting and underfitting__"
   ]
  },
  {
   "cell_type": "code",
   "execution_count": 40,
   "metadata": {},
   "outputs": [
    {
     "name": "stdout",
     "output_type": "stream",
     "text": [
      "Tarin set score: 0.7377\n",
      "Test set score: 0.7361\n"
     ]
    }
   ],
   "source": [
    "print('Tarin set score: {0:0.4f}'.format(accuracy_score(y_test,y_pred_gini)))\n",
    "print('Test set score: {0:0.4f}'.format(accuracy_score(y_train,y_pred_train_gini)))"
   ]
  },
  {
   "cell_type": "markdown",
   "metadata": {},
   "source": [
    "__Visualize decision tree__"
   ]
  },
  {
   "cell_type": "code",
   "execution_count": 41,
   "metadata": {},
   "outputs": [
    {
     "data": {
      "text/plain": [
       "[Text(334.8, 380.52, 'X[2] <= 36.5\\ngini = 0.769\\nsamples = 12237\\nvalue = [3, 5152, 1819, 1380, 13, 476, 640, 544, 1283, 510\\n76, 179, 162]'),\n",
       " Text(167.4, 271.8, 'X[2] <= 29.5\\ngini = 0.437\\nsamples = 6891\\nvalue = [0, 5054, 989, 301, 5, 298, 119, 53, 13, 48, 9, 2\\n0]'),\n",
       " Text(83.7, 163.07999999999998, 'X[2] <= 25.5\\ngini = 0.648\\nsamples = 1822\\nvalue = [0, 0, 989, 301, 5, 285, 119, 53, 13, 46, 9, 2\\n0]'),\n",
       " Text(41.85, 54.360000000000014, 'gini = 0.484\\nsamples = 1414\\nvalue = [0, 0, 987, 3, 5, 209, 88, 52, 13, 46, 9, 2, 0]'),\n",
       " Text(125.55000000000001, 54.360000000000014, 'gini = 0.426\\nsamples = 408\\nvalue = [0, 0, 2, 298, 0, 76, 31, 1, 0, 0, 0, 0, 0]'),\n",
       " Text(251.10000000000002, 163.07999999999998, 'X[3] <= 7.5\\ngini = 0.006\\nsamples = 5069\\nvalue = [0, 5054, 0, 0, 0, 13, 0, 0, 0, 2, 0, 0, 0]'),\n",
       " Text(209.25, 54.360000000000014, 'gini = 0.473\\nsamples = 13\\nvalue = [0, 8, 0, 0, 0, 5, 0, 0, 0, 0, 0, 0, 0]'),\n",
       " Text(292.95, 54.360000000000014, 'gini = 0.004\\nsamples = 5056\\nvalue = [0, 5046, 0, 0, 0, 8, 0, 0, 0, 2, 0, 0, 0]'),\n",
       " Text(502.20000000000005, 271.8, 'X[2] <= 144.5\\ngini = 0.85\\nsamples = 5346\\nvalue = [3, 98, 830, 1079, 8, 178, 521, 491, 1270, 462, 67\\n177, 162]'),\n",
       " Text(418.5, 163.07999999999998, 'X[2] <= 88.5\\ngini = 0.844\\nsamples = 3980\\nvalue = [3, 98, 756, 1074, 8, 97, 385, 472, 334, 458, 51\\n82, 162]'),\n",
       " Text(376.65000000000003, 54.360000000000014, 'gini = 0.797\\nsamples = 1577\\nvalue = [3, 94, 569, 44, 0, 19, 22, 179, 286, 167, 32, 0\\n162]'),\n",
       " Text(460.35, 54.360000000000014, 'gini = 0.755\\nsamples = 2403\\nvalue = [0, 4, 187, 1030, 8, 78, 363, 293, 48, 291, 19\\n82, 0]'),\n",
       " Text(585.9, 163.07999999999998, 'X[2] <= 146.5\\ngini = 0.509\\nsamples = 1366\\nvalue = [0, 0, 74, 5, 0, 81, 136, 19, 936, 4, 16, 95, 0]'),\n",
       " Text(544.0500000000001, 54.360000000000014, 'gini = 0.0\\nsamples = 934\\nvalue = [0, 0, 0, 0, 0, 0, 0, 0, 934, 0, 0, 0, 0]'),\n",
       " Text(627.75, 54.360000000000014, 'gini = 0.784\\nsamples = 432\\nvalue = [0, 0, 74, 5, 0, 81, 136, 19, 2, 4, 16, 95, 0]')]"
      ]
     },
     "execution_count": 41,
     "metadata": {},
     "output_type": "execute_result"
    },
    {
     "data": {
      "image/png": "[encoded data removed]",
      "text/plain": [
       "<Figure size 864x576 with 1 Axes>"
      ]
     },
     "metadata": {
      "needs_background": "light"
     },
     "output_type": "display_data"
    }
   ],
   "source": [
    "plt.figure(figsize=(12,8))\n",
    "\n",
    "from sklearn import tree\n",
    "\n",
    "tree.plot_tree(clf_gini.fit(X_train,y_train))"
   ]
  },
  {
   "cell_type": "markdown",
   "metadata": {},
   "source": [
    "__criterian Entropy__\n"
   ]
  },
  {
   "cell_type": "code",
   "execution_count": 63,
   "metadata": {},
   "outputs": [
    {
     "data": {
      "text/plain": [
       "DecisionTreeClassifier(max_depth=3, random_state=0)"
      ]
     },
     "execution_count": 63,
     "metadata": {},
     "output_type": "execute_result"
    }
   ],
   "source": [
    "clf_en = DecisionTreeClassifier(criterion = 'gini', max_depth=3, random_state= 0)\n",
    "clf_en.fit(X_train,y_train)"
   ]
  },
  {
   "cell_type": "code",
   "execution_count": 64,
   "metadata": {},
   "outputs": [],
   "source": [
    "y_pred_en = clf_en.predict(X_test)"
   ]
  },
  {
   "cell_type": "code",
   "execution_count": 65,
   "metadata": {},
   "outputs": [
    {
     "name": "stdout",
     "output_type": "stream",
     "text": [
      "model: 0.7377\n"
     ]
    }
   ],
   "source": [
    "from sklearn.metrics import accuracy_score\n",
    "\n",
    "print('model: {0:0.4f}'.format(accuracy_score(y_test,y_pred_en)))"
   ]
  },
  {
   "cell_type": "code",
   "execution_count": 67,
   "metadata": {},
   "outputs": [],
   "source": [
    "y_pred_train_en= clf_gini.predict(X_train)\n"
   ]
  },
  {
   "cell_type": "code",
   "execution_count": 68,
   "metadata": {},
   "outputs": [
    {
     "name": "stdout",
     "output_type": "stream",
     "text": [
      "Tarin set score: 0.7377\n",
      "Test set score: 0.7361\n"
     ]
    }
   ],
   "source": [
    "print('Tarin set score: {0:0.4f}'.format(accuracy_score(y_test,y_pred_en)))\n",
    "print('Test set score: {0:0.4f}'.format(accuracy_score(y_train,y_pred_train_en)))"
   ]
  },
  {
   "cell_type": "code",
   "execution_count": null,
   "metadata": {},
   "outputs": [],
   "source": []
  }
 ],
 "metadata": {
  "kernelspec": {
   "display_name": "Python 3",
   "language": "python",
   "name": "python3"
  },
  "language_info": {
   "codemirror_mode": {
    "name": "ipython",
    "version": 3
   },
   "file_extension": ".py",
   "mimetype": "text/x-python",
   "name": "python",
   "nbconvert_exporter": "python",
   "pygments_lexer": "ipython3",
   "version": "3.8.5"
  }
 },
 "nbformat": 4,
 "nbformat_minor": 4
}
