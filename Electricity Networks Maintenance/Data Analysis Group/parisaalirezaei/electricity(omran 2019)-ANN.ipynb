{
 "cells": [
  {
   "cell_type": "code",
   "execution_count": 15,
   "metadata": {},
   "outputs": [
    {
     "data": {
      "text/html": [
       "<div>\n",
       "<style scoped>\n",
       "    .dataframe tbody tr th:only-of-type {\n",
       "        vertical-align: middle;\n",
       "    }\n",
       "\n",
       "    .dataframe tbody tr th {\n",
       "        vertical-align: top;\n",
       "    }\n",
       "\n",
       "    .dataframe thead th {\n",
       "        text-align: right;\n",
       "    }\n",
       "</style>\n",
       "<table border=\"1\" class=\"dataframe\">\n",
       "  <thead>\n",
       "    <tr style=\"text-align: right;\">\n",
       "      <th></th>\n",
       "      <th>Column_1</th>\n",
       "      <th>row</th>\n",
       "      <th>week day</th>\n",
       "      <th>unique row</th>\n",
       "      <th>Unnamed: 3</th>\n",
       "      <th>date</th>\n",
       "      <th>report time</th>\n",
       "      <th>CT</th>\n",
       "      <th>UDC</th>\n",
       "      <th>UDCC</th>\n",
       "      <th>...</th>\n",
       "      <th>CN</th>\n",
       "      <th>CPN</th>\n",
       "      <th>TNOS</th>\n",
       "      <th>reporter</th>\n",
       "      <th>TOO</th>\n",
       "      <th>WR</th>\n",
       "      <th>year</th>\n",
       "      <th>month</th>\n",
       "      <th>day</th>\n",
       "      <th>Recoded report time</th>\n",
       "    </tr>\n",
       "  </thead>\n",
       "  <tbody>\n",
       "    <tr>\n",
       "      <th>0</th>\n",
       "      <td>0</td>\n",
       "      <td>1</td>\n",
       "      <td>سه شنبه</td>\n",
       "      <td>1087467426</td>\n",
       "      <td>NaN</td>\n",
       "      <td>1395-02-01 00:00:00</td>\n",
       "      <td>22:33:00</td>\n",
       "      <td>22:50:00</td>\n",
       "      <td>NaN</td>\n",
       "      <td>0</td>\n",
       "      <td>...</td>\n",
       "      <td>NaN</td>\n",
       "      <td>NaN</td>\n",
       "      <td>0</td>\n",
       "      <td>مشترک</td>\n",
       "      <td>---</td>\n",
       "      <td>---</td>\n",
       "      <td>1395</td>\n",
       "      <td>1</td>\n",
       "      <td>31</td>\n",
       "      <td>22</td>\n",
       "    </tr>\n",
       "    <tr>\n",
       "      <th>1</th>\n",
       "      <td>1</td>\n",
       "      <td>2</td>\n",
       "      <td>سه شنبه</td>\n",
       "      <td>1087467260</td>\n",
       "      <td>NaN</td>\n",
       "      <td>1395-02-01 00:00:00</td>\n",
       "      <td>19:22:00</td>\n",
       "      <td>19:30:00</td>\n",
       "      <td>NaN</td>\n",
       "      <td>0</td>\n",
       "      <td>...</td>\n",
       "      <td>NaN</td>\n",
       "      <td>NaN</td>\n",
       "      <td>0</td>\n",
       "      <td>مشترک</td>\n",
       "      <td>---</td>\n",
       "      <td>---</td>\n",
       "      <td>1395</td>\n",
       "      <td>1</td>\n",
       "      <td>31</td>\n",
       "      <td>19</td>\n",
       "    </tr>\n",
       "    <tr>\n",
       "      <th>2</th>\n",
       "      <td>2</td>\n",
       "      <td>3</td>\n",
       "      <td>سه شنبه</td>\n",
       "      <td>1157467260</td>\n",
       "      <td>NaN</td>\n",
       "      <td>1395-02-01 00:00:00</td>\n",
       "      <td>19:21:00</td>\n",
       "      <td>19:33:00</td>\n",
       "      <td>NaN</td>\n",
       "      <td>0</td>\n",
       "      <td>...</td>\n",
       "      <td>NaN</td>\n",
       "      <td>NaN</td>\n",
       "      <td>0</td>\n",
       "      <td>مشترک</td>\n",
       "      <td>---</td>\n",
       "      <td>---</td>\n",
       "      <td>1395</td>\n",
       "      <td>1</td>\n",
       "      <td>31</td>\n",
       "      <td>19</td>\n",
       "    </tr>\n",
       "    <tr>\n",
       "      <th>3</th>\n",
       "      <td>3</td>\n",
       "      <td>4</td>\n",
       "      <td>سه شنبه</td>\n",
       "      <td>1157467172</td>\n",
       "      <td>NaN</td>\n",
       "      <td>1395-02-01 00:00:00</td>\n",
       "      <td>18:25:00</td>\n",
       "      <td>18:35:00</td>\n",
       "      <td>NaN</td>\n",
       "      <td>0</td>\n",
       "      <td>...</td>\n",
       "      <td>NaN</td>\n",
       "      <td>NaN</td>\n",
       "      <td>0</td>\n",
       "      <td>مشترک</td>\n",
       "      <td>---</td>\n",
       "      <td>---</td>\n",
       "      <td>1395</td>\n",
       "      <td>1</td>\n",
       "      <td>31</td>\n",
       "      <td>18</td>\n",
       "    </tr>\n",
       "    <tr>\n",
       "      <th>4</th>\n",
       "      <td>4</td>\n",
       "      <td>5</td>\n",
       "      <td>سه شنبه</td>\n",
       "      <td>1087467163</td>\n",
       "      <td>NaN</td>\n",
       "      <td>1395-02-01 00:00:00</td>\n",
       "      <td>18:20:00</td>\n",
       "      <td>19:00:00</td>\n",
       "      <td>NaN</td>\n",
       "      <td>0</td>\n",
       "      <td>...</td>\n",
       "      <td>NaN</td>\n",
       "      <td>NaN</td>\n",
       "      <td>0</td>\n",
       "      <td>مشترک</td>\n",
       "      <td>---</td>\n",
       "      <td>---</td>\n",
       "      <td>1395</td>\n",
       "      <td>1</td>\n",
       "      <td>31</td>\n",
       "      <td>18</td>\n",
       "    </tr>\n",
       "  </tbody>\n",
       "</table>\n",
       "<p>5 rows × 46 columns</p>\n",
       "</div>"
      ],
      "text/plain": [
       "   Column_1  row week day  unique row  Unnamed: 3                 date  \\\n",
       "0         0    1  سه شنبه  1087467426         NaN  1395-02-01 00:00:00   \n",
       "1         1    2  سه شنبه  1087467260         NaN  1395-02-01 00:00:00   \n",
       "2         2    3  سه شنبه  1157467260         NaN  1395-02-01 00:00:00   \n",
       "3         3    4  سه شنبه  1157467172         NaN  1395-02-01 00:00:00   \n",
       "4         4    5  سه شنبه  1087467163         NaN  1395-02-01 00:00:00   \n",
       "\n",
       "  report time        CT  UDC  UDCC  ...   CN  CPN TNOS  reporter  TOO   WR  \\\n",
       "0    22:33:00  22:50:00  NaN     0  ...  NaN  NaN    0     مشترک  ---  ---   \n",
       "1    19:22:00  19:30:00  NaN     0  ...  NaN  NaN    0     مشترک  ---  ---   \n",
       "2    19:21:00  19:33:00  NaN     0  ...  NaN  NaN    0     مشترک  ---  ---   \n",
       "3    18:25:00  18:35:00  NaN     0  ...  NaN  NaN    0     مشترک  ---  ---   \n",
       "4    18:20:00  19:00:00  NaN     0  ...  NaN  NaN    0     مشترک  ---  ---   \n",
       "\n",
       "   year month day Recoded report time  \n",
       "0  1395     1  31                  22  \n",
       "1  1395     1  31                  19  \n",
       "2  1395     1  31                  19  \n",
       "3  1395     1  31                  18  \n",
       "4  1395     1  31                  18  \n",
       "\n",
       "[5 rows x 46 columns]"
      ]
     },
     "execution_count": 15,
     "metadata": {},
     "output_type": "execute_result"
    }
   ],
   "source": [
    "import pandas as pd\n",
    "import numpy as np\n",
    "import missingno as msno\n",
    "import matplotlib.pyplot as plt\n",
    "import plotnine\n",
    "import collections as col\n",
    "import seaborn as sns\n",
    "\n",
    "\n",
    "data=pd.read_excel(r'C:\\Users\\asus\\Desktop\\PHMSA\\Electricity\\NEW\\NEWELECTRICITY.xlsx')\n",
    "data.head()"
   ]
  },
  {
   "cell_type": "code",
   "execution_count": 16,
   "metadata": {
    "scrolled": true
   },
   "outputs": [
    {
     "data": {
      "text/plain": [
       "(18265, 46)"
      ]
     },
     "execution_count": 16,
     "metadata": {},
     "output_type": "execute_result"
    }
   ],
   "source": [
    "data.shape"
   ]
  },
  {
   "cell_type": "code",
   "execution_count": 17,
   "metadata": {
    "scrolled": true
   },
   "outputs": [
    {
     "name": "stdout",
     "output_type": "stream",
     "text": [
      "<class 'pandas.core.frame.DataFrame'>\n",
      "RangeIndex: 18265 entries, 0 to 18264\n",
      "Data columns (total 46 columns):\n",
      " #   Column               Non-Null Count  Dtype  \n",
      "---  ------               --------------  -----  \n",
      " 0   Column_1             18265 non-null  int64  \n",
      " 1   row                  18265 non-null  int64  \n",
      " 2   week day             18265 non-null  object \n",
      " 3   unique row           18265 non-null  int64  \n",
      " 4   Unnamed: 3           0 non-null      float64\n",
      " 5   date                 17966 non-null  object \n",
      " 6   report time          18265 non-null  object \n",
      " 7   CT                   18265 non-null  object \n",
      " 8   UDC                  9397 non-null   object \n",
      " 9   UDCC                 18265 non-null  int64  \n",
      " 10  MPF                  9342 non-null   object \n",
      " 11  MPFC                 18265 non-null  int64  \n",
      " 12  DC                   7552 non-null   object \n",
      " 13  DCC                  245 non-null    float64\n",
      " 14  WPF                  18193 non-null  float64\n",
      " 15  voltage              18265 non-null  object \n",
      " 16  TOD                  18265 non-null  object \n",
      " 17  COB                  18263 non-null  object \n",
      " 18  p                    3814 non-null   object \n",
      " 19  COP                  3078 non-null   object \n",
      " 20  IRC                  18262 non-null  float64\n",
      " 21  DL                   372 non-null    float64\n",
      " 22  ENS                  18255 non-null  float64\n",
      " 23  D                    18155 non-null  object \n",
      " 24  TOB                  18265 non-null  object \n",
      " 25  AC                   18265 non-null  object \n",
      " 26  PT                   1047 non-null   object \n",
      " 27  SOAOD                18264 non-null  object \n",
      " 28  ZN                   13498 non-null  float64\n",
      " 29  District 2           278 non-null    float64\n",
      " 30  ED                   15457 non-null  object \n",
      " 31  info                 18265 non-null  object \n",
      " 32  report time.1        18265 non-null  object \n",
      " 33  PST                  18265 non-null  object \n",
      " 34  DOFD                 18265 non-null  int64  \n",
      " 35  TOC                  7552 non-null   object \n",
      " 36  CN                   2321 non-null   object \n",
      " 37  CPN                  1650 non-null   float64\n",
      " 38  TNOS                 18265 non-null  int64  \n",
      " 39  reporter             18264 non-null  object \n",
      " 40  TOO                  18265 non-null  object \n",
      " 41  WR                   18265 non-null  object \n",
      " 42  year                 18265 non-null  int64  \n",
      " 43  month                18265 non-null  int64  \n",
      " 44  day                  18265 non-null  int64  \n",
      " 45  Recoded report time  18265 non-null  int64  \n",
      "dtypes: float64(9), int64(11), object(26)\n",
      "memory usage: 6.4+ MB\n",
      "None\n"
     ]
    }
   ],
   "source": [
    "print(data.info())"
   ]
  },
  {
   "cell_type": "code",
   "execution_count": 18,
   "metadata": {
    "scrolled": true
   },
   "outputs": [
    {
     "data": {
      "text/plain": [
       "<AxesSubplot:>"
      ]
     },
     "execution_count": 18,
     "metadata": {},
     "output_type": "execute_result"
    },
    {
     "data": {
      "image/png": "[encoded data removed]",
      "text/plain": [
       "<Figure size 1800x720 with 2 Axes>"
      ]
     },
     "metadata": {
      "needs_background": "light"
     },
     "output_type": "display_data"
    }
   ],
   "source": [
    "msno.matrix(data)"
   ]
  },
  {
   "cell_type": "markdown",
   "metadata": {},
   "source": [
    "# Statistical Overview"
   ]
  },
  {
   "cell_type": "code",
   "execution_count": 19,
   "metadata": {},
   "outputs": [
    {
     "data": {
      "text/html": [
       "<div>\n",
       "<style scoped>\n",
       "    .dataframe tbody tr th:only-of-type {\n",
       "        vertical-align: middle;\n",
       "    }\n",
       "\n",
       "    .dataframe tbody tr th {\n",
       "        vertical-align: top;\n",
       "    }\n",
       "\n",
       "    .dataframe thead th {\n",
       "        text-align: right;\n",
       "    }\n",
       "</style>\n",
       "<table border=\"1\" class=\"dataframe\">\n",
       "  <thead>\n",
       "    <tr style=\"text-align: right;\">\n",
       "      <th></th>\n",
       "      <th>WPF</th>\n",
       "      <th>IRC</th>\n",
       "      <th>DL</th>\n",
       "      <th>ENS</th>\n",
       "      <th>DOFD</th>\n",
       "    </tr>\n",
       "  </thead>\n",
       "  <tbody>\n",
       "    <tr>\n",
       "      <th>count</th>\n",
       "      <td>18193.000000</td>\n",
       "      <td>18262.000000</td>\n",
       "      <td>372.000000</td>\n",
       "      <td>18255.000000</td>\n",
       "      <td>18265.000000</td>\n",
       "    </tr>\n",
       "    <tr>\n",
       "      <th>mean</th>\n",
       "      <td>0.923817</td>\n",
       "      <td>59.827730</td>\n",
       "      <td>5.794371</td>\n",
       "      <td>242.500736</td>\n",
       "      <td>49.412866</td>\n",
       "    </tr>\n",
       "    <tr>\n",
       "      <th>std</th>\n",
       "      <td>1.832510</td>\n",
       "      <td>95.282456</td>\n",
       "      <td>6.962703</td>\n",
       "      <td>1586.119791</td>\n",
       "      <td>42.948858</td>\n",
       "    </tr>\n",
       "    <tr>\n",
       "      <th>min</th>\n",
       "      <td>0.000000</td>\n",
       "      <td>0.000000</td>\n",
       "      <td>0.147224</td>\n",
       "      <td>0.000000</td>\n",
       "      <td>0.000000</td>\n",
       "    </tr>\n",
       "    <tr>\n",
       "      <th>25%</th>\n",
       "      <td>0.000000</td>\n",
       "      <td>8.000000</td>\n",
       "      <td>2.944486</td>\n",
       "      <td>0.211140</td>\n",
       "      <td>19.000000</td>\n",
       "    </tr>\n",
       "    <tr>\n",
       "      <th>50%</th>\n",
       "      <td>0.000000</td>\n",
       "      <td>15.000000</td>\n",
       "      <td>3.533384</td>\n",
       "      <td>3.037310</td>\n",
       "      <td>33.000000</td>\n",
       "    </tr>\n",
       "    <tr>\n",
       "      <th>75%</th>\n",
       "      <td>1.000000</td>\n",
       "      <td>87.000000</td>\n",
       "      <td>4.976182</td>\n",
       "      <td>42.969273</td>\n",
       "      <td>67.000000</td>\n",
       "    </tr>\n",
       "    <tr>\n",
       "      <th>max</th>\n",
       "      <td>13.000000</td>\n",
       "      <td>1392.000000</td>\n",
       "      <td>41.000000</td>\n",
       "      <td>121483.335938</td>\n",
       "      <td>398.000000</td>\n",
       "    </tr>\n",
       "  </tbody>\n",
       "</table>\n",
       "</div>"
      ],
      "text/plain": [
       "                WPF           IRC          DL            ENS          DOFD\n",
       "count  18193.000000  18262.000000  372.000000   18255.000000  18265.000000\n",
       "mean       0.923817     59.827730    5.794371     242.500736     49.412866\n",
       "std        1.832510     95.282456    6.962703    1586.119791     42.948858\n",
       "min        0.000000      0.000000    0.147224       0.000000      0.000000\n",
       "25%        0.000000      8.000000    2.944486       0.211140     19.000000\n",
       "50%        0.000000     15.000000    3.533384       3.037310     33.000000\n",
       "75%        1.000000     87.000000    4.976182      42.969273     67.000000\n",
       "max       13.000000   1392.000000   41.000000  121483.335938    398.000000"
      ]
     },
     "execution_count": 19,
     "metadata": {},
     "output_type": "execute_result"
    }
   ],
   "source": [
    "data[['WPF','IRC','DL' ,'ENS','DOFD']].describe()"
   ]
  },
  {
   "cell_type": "code",
   "execution_count": null,
   "metadata": {},
   "outputs": [],
   "source": [
    "sns.pairplot(data.drop('Column_1',1),corner=True,height=5)"
   ]
  },
  {
   "cell_type": "code",
   "execution_count": 20,
   "metadata": {},
   "outputs": [],
   "source": [
    "def plotCorrelationMatrix(data, graphWidth):\n",
    "    #filename = df.dataframeName\n",
    "    #data = data.dropna('columns') # drop columns with NaN\n",
    "    data = data[[col for col in data if data[col].nunique() > 1]] # keep columns where there are more than 1 unique values\n",
    "    if data.shape[1] < 2:\n",
    "        print(f'No correlation plots shown: The number of non-NaN or constant columns ({data.shape[1]}) is less than 2')\n",
    "        return\n",
    "    corr = data.corr()\n",
    "    plt.figure(num=None, figsize=(graphWidth, graphWidth), dpi=80, facecolor='w', edgecolor='k')\n",
    "    corrMat = plt.matshow(corr, fignum = 1)\n",
    "    plt.xticks(range(len(corr.columns)), corr.columns, rotation=90)\n",
    "    plt.yticks(range(len(corr.columns)), corr.columns)\n",
    "    plt.gca().xaxis.tick_bottom()\n",
    "    plt.colorbar(corrMat)\n",
    "    plt.title(f'Correlation Matrix', fontsize=15)\n",
    "    plt.show()"
   ]
  },
  {
   "cell_type": "code",
   "execution_count": 21,
   "metadata": {
    "scrolled": true
   },
   "outputs": [
    {
     "data": {
      "image/png": "[encoded data removed]",
      "text/plain": [
       "<Figure size 640x640 with 2 Axes>"
      ]
     },
     "metadata": {},
     "output_type": "display_data"
    }
   ],
   "source": [
    "plotCorrelationMatrix(data, 8)"
   ]
  },
  {
   "cell_type": "markdown",
   "metadata": {},
   "source": [
    "__bar chart for (week day,year,month,day) for 3years__"
   ]
  },
  {
   "cell_type": "code",
   "execution_count": 22,
   "metadata": {},
   "outputs": [
    {
     "data": {
      "text/plain": [
       "<AxesSubplot:xlabel='week day', ylabel='count'>"
      ]
     },
     "execution_count": 22,
     "metadata": {},
     "output_type": "execute_result"
    },
    {
     "data": {
      "image/png": "[encoded data removed]",
      "text/plain": [
       "<Figure size 576x360 with 1 Axes>"
      ]
     },
     "metadata": {
      "needs_background": "light"
     },
     "output_type": "display_data"
    }
   ],
   "source": [
    "dim=(8,5)\n",
    "fig,ax = plt.subplots(figsize=dim)\n",
    "sns.countplot(x='week day', ax=ax, data=data)"
   ]
  },
  {
   "cell_type": "code",
   "execution_count": 23,
   "metadata": {},
   "outputs": [
    {
     "data": {
      "text/plain": [
       "<AxesSubplot:xlabel='year', ylabel='count'>"
      ]
     },
     "execution_count": 23,
     "metadata": {},
     "output_type": "execute_result"
    },
    {
     "data": {
      "image/png": "[encoded data removed]",
      "text/plain": [
       "<Figure size 576x360 with 1 Axes>"
      ]
     },
     "metadata": {
      "needs_background": "light"
     },
     "output_type": "display_data"
    }
   ],
   "source": [
    "dim=(8,5)\n",
    "fig,ax = plt.subplots(figsize=dim)\n",
    "sns.countplot(x='year', ax=ax, data=data)"
   ]
  },
  {
   "cell_type": "code",
   "execution_count": 24,
   "metadata": {},
   "outputs": [
    {
     "data": {
      "text/plain": [
       "<AxesSubplot:xlabel='month', ylabel='count'>"
      ]
     },
     "execution_count": 24,
     "metadata": {},
     "output_type": "execute_result"
    },
    {
     "data": {
      "image/png": "[encoded data removed]",
      "text/plain": [
       "<Figure size 576x360 with 1 Axes>"
      ]
     },
     "metadata": {
      "needs_background": "light"
     },
     "output_type": "display_data"
    }
   ],
   "source": [
    "dim=(8,5)\n",
    "fig,ax = plt.subplots(figsize=dim)\n",
    "sns.countplot(x='month', ax=ax, data=data)"
   ]
  },
  {
   "cell_type": "code",
   "execution_count": 25,
   "metadata": {},
   "outputs": [
    {
     "data": {
      "text/plain": [
       "<AxesSubplot:xlabel='day', ylabel='count'>"
      ]
     },
     "execution_count": 25,
     "metadata": {},
     "output_type": "execute_result"
    },
    {
     "data": {
      "image/png": "[encoded data removed]",
      "text/plain": [
       "<Figure size 576x360 with 1 Axes>"
      ]
     },
     "metadata": {
      "needs_background": "light"
     },
     "output_type": "display_data"
    }
   ],
   "source": [
    "dim=(8,5)\n",
    "fig,ax = plt.subplots(figsize=dim)\n",
    "sns.countplot(x='day', ax=ax, data=data)"
   ]
  },
  {
   "cell_type": "code",
   "execution_count": 26,
   "metadata": {},
   "outputs": [
    {
     "data": {
      "text/plain": [
       "<AxesSubplot:xlabel='Recoded report time', ylabel='count'>"
      ]
     },
     "execution_count": 26,
     "metadata": {},
     "output_type": "execute_result"
    },
    {
     "data": {
      "image/png": "[encoded data removed]",
      "text/plain": [
       "<Figure size 576x360 with 1 Axes>"
      ]
     },
     "metadata": {
      "needs_background": "light"
     },
     "output_type": "display_data"
    }
   ],
   "source": [
    "dim=(8,5)\n",
    "fig,ax = plt.subplots(figsize=dim)\n",
    "sns.countplot(x='Recoded report time', ax=ax, data=data)"
   ]
  },
  {
   "cell_type": "code",
   "execution_count": 27,
   "metadata": {},
   "outputs": [
    {
     "data": {
      "text/html": [
       "<div>\n",
       "<style scoped>\n",
       "    .dataframe tbody tr th:only-of-type {\n",
       "        vertical-align: middle;\n",
       "    }\n",
       "\n",
       "    .dataframe tbody tr th {\n",
       "        vertical-align: top;\n",
       "    }\n",
       "\n",
       "    .dataframe thead th {\n",
       "        text-align: right;\n",
       "    }\n",
       "</style>\n",
       "<table border=\"1\" class=\"dataframe\">\n",
       "  <thead>\n",
       "    <tr style=\"text-align: right;\">\n",
       "      <th></th>\n",
       "      <th>day</th>\n",
       "      <th>Recoded report time</th>\n",
       "      <th>year</th>\n",
       "      <th>month</th>\n",
       "      <th>ENS</th>\n",
       "      <th>COB</th>\n",
       "      <th>TOD</th>\n",
       "      <th>DOFD</th>\n",
       "    </tr>\n",
       "  </thead>\n",
       "  <tbody>\n",
       "    <tr>\n",
       "      <th>0</th>\n",
       "      <td>31</td>\n",
       "      <td>22</td>\n",
       "      <td>1395</td>\n",
       "      <td>1</td>\n",
       "      <td>0.118766</td>\n",
       "      <td>اشكال در كابل سرويس</td>\n",
       "      <td>انشعابات مشتركان</td>\n",
       "      <td>27</td>\n",
       "    </tr>\n",
       "    <tr>\n",
       "      <th>1</th>\n",
       "      <td>31</td>\n",
       "      <td>19</td>\n",
       "      <td>1395</td>\n",
       "      <td>1</td>\n",
       "      <td>0.114368</td>\n",
       "      <td>اشكال در كابل سرويس</td>\n",
       "      <td>انشعابات مشتركان</td>\n",
       "      <td>13</td>\n",
       "    </tr>\n",
       "    <tr>\n",
       "      <th>2</th>\n",
       "      <td>31</td>\n",
       "      <td>19</td>\n",
       "      <td>1395</td>\n",
       "      <td>1</td>\n",
       "      <td>0.000000</td>\n",
       "      <td>اشكال در شبكه داخليD</td>\n",
       "      <td>انشعابات مشتركان</td>\n",
       "      <td>14</td>\n",
       "    </tr>\n",
       "    <tr>\n",
       "      <th>3</th>\n",
       "      <td>31</td>\n",
       "      <td>18</td>\n",
       "      <td>1395</td>\n",
       "      <td>1</td>\n",
       "      <td>0.043988</td>\n",
       "      <td>اشكال در لوازم اندازه گيري مشتركين غيرديماندي ...</td>\n",
       "      <td>انشعابات مشتركان</td>\n",
       "      <td>12</td>\n",
       "    </tr>\n",
       "    <tr>\n",
       "      <th>4</th>\n",
       "      <td>31</td>\n",
       "      <td>18</td>\n",
       "      <td>1395</td>\n",
       "      <td>1</td>\n",
       "      <td>0.527850</td>\n",
       "      <td>اشكال در كابل سرويس</td>\n",
       "      <td>انشعابات مشتركان</td>\n",
       "      <td>60</td>\n",
       "    </tr>\n",
       "  </tbody>\n",
       "</table>\n",
       "</div>"
      ],
      "text/plain": [
       "   day  Recoded report time  year  month       ENS  \\\n",
       "0   31                   22  1395      1  0.118766   \n",
       "1   31                   19  1395      1  0.114368   \n",
       "2   31                   19  1395      1  0.000000   \n",
       "3   31                   18  1395      1  0.043988   \n",
       "4   31                   18  1395      1  0.527850   \n",
       "\n",
       "                                                 COB               TOD  DOFD  \n",
       "0                                اشكال در كابل سرويس  انشعابات مشتركان    27  \n",
       "1                                اشكال در كابل سرويس  انشعابات مشتركان    13  \n",
       "2                               اشكال در شبكه داخليD  انشعابات مشتركان    14  \n",
       "3  اشكال در لوازم اندازه گيري مشتركين غيرديماندي ...  انشعابات مشتركان    12  \n",
       "4                                اشكال در كابل سرويس  انشعابات مشتركان    60  "
      ]
     },
     "execution_count": 27,
     "metadata": {},
     "output_type": "execute_result"
    }
   ],
   "source": [
    "dataset=data[['day','Recoded report time','year','month','ENS','COB','TOD','DOFD']]\n",
    "dataset.head()"
   ]
  },
  {
   "cell_type": "code",
   "execution_count": 28,
   "metadata": {},
   "outputs": [
    {
     "name": "stderr",
     "output_type": "stream",
     "text": [
      "<ipython-input-28-cbd1b52b2b64>:1: SettingWithCopyWarning: \n",
      "A value is trying to be set on a copy of a slice from a DataFrame.\n",
      "Try using .loc[row_indexer,col_indexer] = value instead\n",
      "\n",
      "See the caveats in the documentation: https://pandas.pydata.org/pandas-docs/stable/user_guide/indexing.html#returning-a-view-versus-a-copy\n",
      "<ipython-input-28-cbd1b52b2b64>:3: SettingWithCopyWarning: \n",
      "A value is trying to be set on a copy of a slice from a DataFrame.\n",
      "Try using .loc[row_indexer,col_indexer] = value instead\n",
      "\n",
      "See the caveats in the documentation: https://pandas.pydata.org/pandas-docs/stable/user_guide/indexing.html#returning-a-view-versus-a-copy\n"
     ]
    },
    {
     "data": {
      "text/plain": [
       "day                       int64\n",
       "Recoded report time       int64\n",
       "year                      int64\n",
       "month                     int64\n",
       "ENS                     float64\n",
       "COB                    category\n",
       "TOD                    category\n",
       "DOFD                      int64\n",
       "dtype: object"
      ]
     },
     "execution_count": 28,
     "metadata": {},
     "output_type": "execute_result"
    }
   ],
   "source": [
    "dataset[\"COB\"] = dataset[\"COB\"].astype('category')\n",
    "dataset.dtypes\n",
    "dataset[\"TOD\"] = dataset[\"TOD\"].astype('category')\n",
    "dataset.dtypes"
   ]
  },
  {
   "cell_type": "code",
   "execution_count": 29,
   "metadata": {},
   "outputs": [
    {
     "name": "stderr",
     "output_type": "stream",
     "text": [
      "<ipython-input-29-8ad4ca4f1f5c>:1: SettingWithCopyWarning: \n",
      "A value is trying to be set on a copy of a slice from a DataFrame.\n",
      "Try using .loc[row_indexer,col_indexer] = value instead\n",
      "\n",
      "See the caveats in the documentation: https://pandas.pydata.org/pandas-docs/stable/user_guide/indexing.html#returning-a-view-versus-a-copy\n",
      "<ipython-input-29-8ad4ca4f1f5c>:3: SettingWithCopyWarning: \n",
      "A value is trying to be set on a copy of a slice from a DataFrame.\n",
      "Try using .loc[row_indexer,col_indexer] = value instead\n",
      "\n",
      "See the caveats in the documentation: https://pandas.pydata.org/pandas-docs/stable/user_guide/indexing.html#returning-a-view-versus-a-copy\n"
     ]
    },
    {
     "data": {
      "text/html": [
       "<div>\n",
       "<style scoped>\n",
       "    .dataframe tbody tr th:only-of-type {\n",
       "        vertical-align: middle;\n",
       "    }\n",
       "\n",
       "    .dataframe tbody tr th {\n",
       "        vertical-align: top;\n",
       "    }\n",
       "\n",
       "    .dataframe thead th {\n",
       "        text-align: right;\n",
       "    }\n",
       "</style>\n",
       "<table border=\"1\" class=\"dataframe\">\n",
       "  <thead>\n",
       "    <tr style=\"text-align: right;\">\n",
       "      <th></th>\n",
       "      <th>day</th>\n",
       "      <th>Recoded report time</th>\n",
       "      <th>year</th>\n",
       "      <th>month</th>\n",
       "      <th>ENS</th>\n",
       "      <th>COB</th>\n",
       "      <th>TOD</th>\n",
       "      <th>DOFD</th>\n",
       "    </tr>\n",
       "  </thead>\n",
       "  <tbody>\n",
       "    <tr>\n",
       "      <th>0</th>\n",
       "      <td>31</td>\n",
       "      <td>22</td>\n",
       "      <td>1395</td>\n",
       "      <td>1</td>\n",
       "      <td>0.118766</td>\n",
       "      <td>31</td>\n",
       "      <td>1</td>\n",
       "      <td>27</td>\n",
       "    </tr>\n",
       "    <tr>\n",
       "      <th>1</th>\n",
       "      <td>31</td>\n",
       "      <td>19</td>\n",
       "      <td>1395</td>\n",
       "      <td>1</td>\n",
       "      <td>0.114368</td>\n",
       "      <td>31</td>\n",
       "      <td>1</td>\n",
       "      <td>13</td>\n",
       "    </tr>\n",
       "    <tr>\n",
       "      <th>2</th>\n",
       "      <td>31</td>\n",
       "      <td>19</td>\n",
       "      <td>1395</td>\n",
       "      <td>1</td>\n",
       "      <td>0.000000</td>\n",
       "      <td>29</td>\n",
       "      <td>1</td>\n",
       "      <td>14</td>\n",
       "    </tr>\n",
       "    <tr>\n",
       "      <th>3</th>\n",
       "      <td>31</td>\n",
       "      <td>18</td>\n",
       "      <td>1395</td>\n",
       "      <td>1</td>\n",
       "      <td>0.043988</td>\n",
       "      <td>34</td>\n",
       "      <td>1</td>\n",
       "      <td>12</td>\n",
       "    </tr>\n",
       "    <tr>\n",
       "      <th>4</th>\n",
       "      <td>31</td>\n",
       "      <td>18</td>\n",
       "      <td>1395</td>\n",
       "      <td>1</td>\n",
       "      <td>0.527850</td>\n",
       "      <td>31</td>\n",
       "      <td>1</td>\n",
       "      <td>60</td>\n",
       "    </tr>\n",
       "  </tbody>\n",
       "</table>\n",
       "</div>"
      ],
      "text/plain": [
       "   day  Recoded report time  year  month       ENS  COB  TOD  DOFD\n",
       "0   31                   22  1395      1  0.118766   31    1    27\n",
       "1   31                   19  1395      1  0.114368   31    1    13\n",
       "2   31                   19  1395      1  0.000000   29    1    14\n",
       "3   31                   18  1395      1  0.043988   34    1    12\n",
       "4   31                   18  1395      1  0.527850   31    1    60"
      ]
     },
     "execution_count": 29,
     "metadata": {},
     "output_type": "execute_result"
    }
   ],
   "source": [
    "dataset[\"COB\"] = dataset[\"COB\"].cat.codes\n",
    "\n",
    "dataset[\"TOD\"] = dataset[\"TOD\"].cat.codes\n",
    "dataset.head()"
   ]
  },
  {
   "cell_type": "markdown",
   "metadata": {},
   "source": [
    "__TOD (predicted class)__\n"
   ]
  },
  {
   "cell_type": "markdown",
   "metadata": {},
   "source": [
    "# ANN"
   ]
  },
  {
   "cell_type": "code",
   "execution_count": null,
   "metadata": {},
   "outputs": [],
   "source": []
  }
 ],
 "metadata": {
  "kernelspec": {
   "display_name": "Python 3",
   "language": "python",
   "name": "python3"
  },
  "language_info": {
   "codemirror_mode": {
    "name": "ipython",
    "version": 3
   },
   "file_extension": ".py",
   "mimetype": "text/x-python",
   "name": "python",
   "nbconvert_exporter": "python",
   "pygments_lexer": "ipython3",
   "version": "3.8.5"
  }
 },
 "nbformat": 4,
 "nbformat_minor": 4
}
