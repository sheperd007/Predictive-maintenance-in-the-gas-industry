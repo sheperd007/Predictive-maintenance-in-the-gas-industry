{
 "cells": [
  {
   "cell_type": "markdown",
   "metadata": {},
   "source": [
    "# K-Means"
   ]
  },
  {
   "cell_type": "code",
   "execution_count": 2,
   "metadata": {},
   "outputs": [
    {
     "name": "stdout",
     "output_type": "stream",
     "text": [
      "         BN TOF AF  DS feeder        RC TOP Relay COB   PD  COP  \\\n",
      "0     88644   A  A   A      A  0.177419   A     A   A  NaN  NaN   \n",
      "1     88645   A  B   B      B  0.145161   A     A   B    B    B   \n",
      "2     88648   A  A   C      C  0.032258   A     A   C  NaN  NaN   \n",
      "3     88657   A  A   A      D  0.048387   A     A   D    C    C   \n",
      "4     88664   A  C   D      A  0.161290   A     B   E    D    D   \n",
      "...     ...  .. ..  ..    ...       ...  ..   ...  ..  ...  ...   \n",
      "1644  96326   A  L  BB      G  0.096774   A     A   F    C    C   \n",
      "1645  96335   A  C   E      C  0.193548   A     A   I  NaN  NaN   \n",
      "1646  96346   A  H   M      E  0.274194   A     A   R  NaN  NaN   \n",
      "1647  96347   A  H   X      C  0.258065   A     A   X  NaN  NaN   \n",
      "1648  96349   A  D  PP      H  0.064516   A     A   D    C    C   \n",
      "\n",
      "                   DFB               CFB  DOFDB                PS  STOLP  \\\n",
      "0     1398/01/01 06:54  1398/01/01 06:59      5               NaN    NaN   \n",
      "1     1398/01/01 07:15  1398/01/01 07:17      2               NaN    NaN   \n",
      "2     1398/01/01 12:03  1398/01/01 12:45     42               NaN    NaN   \n",
      "3     1398/01/02 01:20  1398/01/02 02:25     65  1398/01/02 08:15  415.0   \n",
      "4     1398/01/02 16:26  1398/01/02 16:50     24  1398/01/02 22:00  334.0   \n",
      "...                ...               ...    ...               ...    ...   \n",
      "1644  1398/12/29 10:21  1398/12/29 10:30      9  1398/12/29 10:40   19.0   \n",
      "1645  1398/12/29 13:23  1398/12/29 14:15     52  1398/12/29 13:34   11.0   \n",
      "1646  1398/12/29 18:28  1398/12/29 19:07     39  1398/12/29 19:52   84.0   \n",
      "1647  1398/12/29 19:08  1398/12/29 19:10      2               NaN    NaN   \n",
      "1648  1398/12/29 22:20  1398/12/29 22:26      6  1398/12/29 22:41   21.0   \n",
      "\n",
      "          EENS  \n",
      "0     0.010946  \n",
      "1     0.003127  \n",
      "2     0.016419  \n",
      "3     0.039093  \n",
      "4     0.075059  \n",
      "...        ...  \n",
      "1644  0.017201  \n",
      "1645  0.025020  \n",
      "1646  0.193120  \n",
      "1647  0.006255  \n",
      "1648  0.013292  \n",
      "\n",
      "[1649 rows x 17 columns]\n"
     ]
    },
    {
     "data": {
      "text/plain": [
       "BN          int64\n",
       "TOF        object\n",
       "AF         object\n",
       "DS         object\n",
       "feeder     object\n",
       "RC        float64\n",
       "TOP        object\n",
       "Relay      object\n",
       "COB        object\n",
       "PD         object\n",
       "COP        object\n",
       "DFB        object\n",
       "CFB        object\n",
       "DOFDB       int64\n",
       "PS         object\n",
       "STOLP     float64\n",
       "EENS      float64\n",
       "dtype: object"
      ]
     },
     "execution_count": 2,
     "metadata": {},
     "output_type": "execute_result"
    }
   ],
   "source": [
    "import pandas as pd\n",
    "data = pd.read_csv(r'C:\\Users\\asus\\Desktop\\output.csv')\n",
    "print (data) \n",
    "data.dtypes\n"
   ]
  },
  {
   "cell_type": "code",
   "execution_count": null,
   "metadata": {},
   "outputs": [],
   "source": []
  },
  {
   "cell_type": "code",
   "execution_count": 3,
   "metadata": {},
   "outputs": [
    {
     "data": {
      "text/html": [
       "<div>\n",
       "<style scoped>\n",
       "    .dataframe tbody tr th:only-of-type {\n",
       "        vertical-align: middle;\n",
       "    }\n",
       "\n",
       "    .dataframe tbody tr th {\n",
       "        vertical-align: top;\n",
       "    }\n",
       "\n",
       "    .dataframe thead th {\n",
       "        text-align: right;\n",
       "    }\n",
       "</style>\n",
       "<table border=\"1\" class=\"dataframe\">\n",
       "  <thead>\n",
       "    <tr style=\"text-align: right;\">\n",
       "      <th></th>\n",
       "      <th>BN</th>\n",
       "      <th>TOF</th>\n",
       "      <th>AF</th>\n",
       "      <th>DS</th>\n",
       "      <th>feeder</th>\n",
       "      <th>RC</th>\n",
       "      <th>TOP</th>\n",
       "      <th>Relay</th>\n",
       "      <th>COB</th>\n",
       "      <th>PD</th>\n",
       "      <th>COP</th>\n",
       "      <th>DFB</th>\n",
       "      <th>CFB</th>\n",
       "      <th>DOFDB</th>\n",
       "      <th>PS</th>\n",
       "      <th>STOLP</th>\n",
       "      <th>EENS</th>\n",
       "      <th>date begin</th>\n",
       "      <th>time begin</th>\n",
       "    </tr>\n",
       "  </thead>\n",
       "  <tbody>\n",
       "    <tr>\n",
       "      <th>0</th>\n",
       "      <td>88644</td>\n",
       "      <td>A</td>\n",
       "      <td>A</td>\n",
       "      <td>A</td>\n",
       "      <td>A</td>\n",
       "      <td>0.177419</td>\n",
       "      <td>A</td>\n",
       "      <td>A</td>\n",
       "      <td>A</td>\n",
       "      <td>NaN</td>\n",
       "      <td>NaN</td>\n",
       "      <td>1398/01/01 06:54</td>\n",
       "      <td>1398/01/01 06:59</td>\n",
       "      <td>5</td>\n",
       "      <td>NaN</td>\n",
       "      <td>NaN</td>\n",
       "      <td>0.010946</td>\n",
       "      <td>1398/01/01</td>\n",
       "      <td>06:54</td>\n",
       "    </tr>\n",
       "    <tr>\n",
       "      <th>1</th>\n",
       "      <td>88645</td>\n",
       "      <td>A</td>\n",
       "      <td>B</td>\n",
       "      <td>B</td>\n",
       "      <td>B</td>\n",
       "      <td>0.145161</td>\n",
       "      <td>A</td>\n",
       "      <td>A</td>\n",
       "      <td>B</td>\n",
       "      <td>B</td>\n",
       "      <td>B</td>\n",
       "      <td>1398/01/01 07:15</td>\n",
       "      <td>1398/01/01 07:17</td>\n",
       "      <td>2</td>\n",
       "      <td>NaN</td>\n",
       "      <td>NaN</td>\n",
       "      <td>0.003127</td>\n",
       "      <td>1398/01/01</td>\n",
       "      <td>07:15</td>\n",
       "    </tr>\n",
       "    <tr>\n",
       "      <th>2</th>\n",
       "      <td>88648</td>\n",
       "      <td>A</td>\n",
       "      <td>A</td>\n",
       "      <td>C</td>\n",
       "      <td>C</td>\n",
       "      <td>0.032258</td>\n",
       "      <td>A</td>\n",
       "      <td>A</td>\n",
       "      <td>C</td>\n",
       "      <td>NaN</td>\n",
       "      <td>NaN</td>\n",
       "      <td>1398/01/01 12:03</td>\n",
       "      <td>1398/01/01 12:45</td>\n",
       "      <td>42</td>\n",
       "      <td>NaN</td>\n",
       "      <td>NaN</td>\n",
       "      <td>0.016419</td>\n",
       "      <td>1398/01/01</td>\n",
       "      <td>12:03</td>\n",
       "    </tr>\n",
       "    <tr>\n",
       "      <th>3</th>\n",
       "      <td>88657</td>\n",
       "      <td>A</td>\n",
       "      <td>A</td>\n",
       "      <td>A</td>\n",
       "      <td>D</td>\n",
       "      <td>0.048387</td>\n",
       "      <td>A</td>\n",
       "      <td>A</td>\n",
       "      <td>D</td>\n",
       "      <td>C</td>\n",
       "      <td>C</td>\n",
       "      <td>1398/01/02 01:20</td>\n",
       "      <td>1398/01/02 02:25</td>\n",
       "      <td>65</td>\n",
       "      <td>1398/01/02 08:15</td>\n",
       "      <td>415.0</td>\n",
       "      <td>0.039093</td>\n",
       "      <td>1398/01/02</td>\n",
       "      <td>01:20</td>\n",
       "    </tr>\n",
       "    <tr>\n",
       "      <th>4</th>\n",
       "      <td>88664</td>\n",
       "      <td>A</td>\n",
       "      <td>C</td>\n",
       "      <td>D</td>\n",
       "      <td>A</td>\n",
       "      <td>0.161290</td>\n",
       "      <td>A</td>\n",
       "      <td>B</td>\n",
       "      <td>E</td>\n",
       "      <td>D</td>\n",
       "      <td>D</td>\n",
       "      <td>1398/01/02 16:26</td>\n",
       "      <td>1398/01/02 16:50</td>\n",
       "      <td>24</td>\n",
       "      <td>1398/01/02 22:00</td>\n",
       "      <td>334.0</td>\n",
       "      <td>0.075059</td>\n",
       "      <td>1398/01/02</td>\n",
       "      <td>16:26</td>\n",
       "    </tr>\n",
       "  </tbody>\n",
       "</table>\n",
       "</div>"
      ],
      "text/plain": [
       "      BN TOF AF DS feeder        RC TOP Relay COB   PD  COP               DFB  \\\n",
       "0  88644   A  A  A      A  0.177419   A     A   A  NaN  NaN  1398/01/01 06:54   \n",
       "1  88645   A  B  B      B  0.145161   A     A   B    B    B  1398/01/01 07:15   \n",
       "2  88648   A  A  C      C  0.032258   A     A   C  NaN  NaN  1398/01/01 12:03   \n",
       "3  88657   A  A  A      D  0.048387   A     A   D    C    C  1398/01/02 01:20   \n",
       "4  88664   A  C  D      A  0.161290   A     B   E    D    D  1398/01/02 16:26   \n",
       "\n",
       "                CFB  DOFDB                PS  STOLP      EENS  date begin  \\\n",
       "0  1398/01/01 06:59      5               NaN    NaN  0.010946  1398/01/01   \n",
       "1  1398/01/01 07:17      2               NaN    NaN  0.003127  1398/01/01   \n",
       "2  1398/01/01 12:45     42               NaN    NaN  0.016419  1398/01/01   \n",
       "3  1398/01/02 02:25     65  1398/01/02 08:15  415.0  0.039093  1398/01/02   \n",
       "4  1398/01/02 16:50     24  1398/01/02 22:00  334.0  0.075059  1398/01/02   \n",
       "\n",
       "  time begin  \n",
       "0      06:54  \n",
       "1      07:15  \n",
       "2      12:03  \n",
       "3      01:20  \n",
       "4      16:26  "
      ]
     },
     "execution_count": 3,
     "metadata": {},
     "output_type": "execute_result"
    }
   ],
   "source": [
    "\n",
    "data[['date begin','time begin']] = data.DFB.str.split(\" \",expand=True,)\n",
    "data.head()"
   ]
  },
  {
   "cell_type": "code",
   "execution_count": 4,
   "metadata": {},
   "outputs": [
    {
     "name": "stdout",
     "output_type": "stream",
     "text": [
      "         BN TOF AF  DS feeder        RC TOP Relay COB   PD  ...  \\\n",
      "0     88644   A  A   A      A  0.177419   A     A   A  NaN  ...   \n",
      "1     88645   A  B   B      B  0.145161   A     A   B    B  ...   \n",
      "2     88648   A  A   C      C  0.032258   A     A   C  NaN  ...   \n",
      "3     88657   A  A   A      D  0.048387   A     A   D    C  ...   \n",
      "4     88664   A  C   D      A  0.161290   A     B   E    D  ...   \n",
      "...     ...  .. ..  ..    ...       ...  ..   ...  ..  ...  ...   \n",
      "1644  96326   A  L  BB      G  0.096774   A     A   F    C  ...   \n",
      "1645  96335   A  C   E      C  0.193548   A     A   I  NaN  ...   \n",
      "1646  96346   A  H   M      E  0.274194   A     A   R  NaN  ...   \n",
      "1647  96347   A  H   X      C  0.258065   A     A   X  NaN  ...   \n",
      "1648  96349   A  D  PP      H  0.064516   A     A   D    C  ...   \n",
      "\n",
      "                   CFB DOFDB                PS  STOLP      EENS  date begin  \\\n",
      "0     1398/01/01 06:59     5               NaN    NaN  0.010946  1398/01/01   \n",
      "1     1398/01/01 07:17     2               NaN    NaN  0.003127  1398/01/01   \n",
      "2     1398/01/01 12:45    42               NaN    NaN  0.016419  1398/01/01   \n",
      "3     1398/01/02 02:25    65  1398/01/02 08:15  415.0  0.039093  1398/01/02   \n",
      "4     1398/01/02 16:50    24  1398/01/02 22:00  334.0  0.075059  1398/01/02   \n",
      "...                ...   ...               ...    ...       ...         ...   \n",
      "1644  1398/12/29 10:30     9  1398/12/29 10:40   19.0  0.017201  1398/12/29   \n",
      "1645  1398/12/29 14:15    52  1398/12/29 13:34   11.0  0.025020  1398/12/29   \n",
      "1646  1398/12/29 19:07    39  1398/12/29 19:52   84.0  0.193120  1398/12/29   \n",
      "1647  1398/12/29 19:10     2               NaN    NaN  0.006255  1398/12/29   \n",
      "1648  1398/12/29 22:26     6  1398/12/29 22:41   21.0  0.013292  1398/12/29   \n",
      "\n",
      "      time begin  year month      dayy  \n",
      "0          06:54  1398    01  01 06:54  \n",
      "1          07:15  1398    01  01 07:15  \n",
      "2          12:03  1398    01  01 12:03  \n",
      "3          01:20  1398    01  02 01:20  \n",
      "4          16:26  1398    01  02 16:26  \n",
      "...          ...   ...   ...       ...  \n",
      "1644       10:21  1398    12  29 10:21  \n",
      "1645       13:23  1398    12  29 13:23  \n",
      "1646       18:28  1398    12  29 18:28  \n",
      "1647       19:08  1398    12  29 19:08  \n",
      "1648       22:20  1398    12  29 22:20  \n",
      "\n",
      "[1649 rows x 22 columns]\n"
     ]
    }
   ],
   "source": [
    "data[['year','month','dayy']] = data.DFB.str.split(\"/\",expand=True,)\n",
    "print(data)"
   ]
  },
  {
   "cell_type": "code",
   "execution_count": 5,
   "metadata": {},
   "outputs": [
    {
     "name": "stdout",
     "output_type": "stream",
     "text": [
      "         BN TOF AF  DS feeder        RC TOP Relay COB   PD  ...  \\\n",
      "0     88644   A  A   A      A  0.177419   A     A   A  NaN  ...   \n",
      "1     88645   A  B   B      B  0.145161   A     A   B    B  ...   \n",
      "2     88648   A  A   C      C  0.032258   A     A   C  NaN  ...   \n",
      "3     88657   A  A   A      D  0.048387   A     A   D    C  ...   \n",
      "4     88664   A  C   D      A  0.161290   A     B   E    D  ...   \n",
      "...     ...  .. ..  ..    ...       ...  ..   ...  ..  ...  ...   \n",
      "1644  96326   A  L  BB      G  0.096774   A     A   F    C  ...   \n",
      "1645  96335   A  C   E      C  0.193548   A     A   I  NaN  ...   \n",
      "1646  96346   A  H   M      E  0.274194   A     A   R  NaN  ...   \n",
      "1647  96347   A  H   X      C  0.258065   A     A   X  NaN  ...   \n",
      "1648  96349   A  D  PP      H  0.064516   A     A   D    C  ...   \n",
      "\n",
      "                    PS  STOLP      EENS  date begin time begin  year  month  \\\n",
      "0                  NaN    NaN  0.010946  1398/01/01      06:54  1398     01   \n",
      "1                  NaN    NaN  0.003127  1398/01/01      07:15  1398     01   \n",
      "2                  NaN    NaN  0.016419  1398/01/01      12:03  1398     01   \n",
      "3     1398/01/02 08:15  415.0  0.039093  1398/01/02      01:20  1398     01   \n",
      "4     1398/01/02 22:00  334.0  0.075059  1398/01/02      16:26  1398     01   \n",
      "...                ...    ...       ...         ...        ...   ...    ...   \n",
      "1644  1398/12/29 10:40   19.0  0.017201  1398/12/29      10:21  1398     12   \n",
      "1645  1398/12/29 13:34   11.0  0.025020  1398/12/29      13:23  1398     12   \n",
      "1646  1398/12/29 19:52   84.0  0.193120  1398/12/29      18:28  1398     12   \n",
      "1647               NaN    NaN  0.006255  1398/12/29      19:08  1398     12   \n",
      "1648  1398/12/29 22:41   21.0  0.013292  1398/12/29      22:20  1398     12   \n",
      "\n",
      "          dayy day   time  \n",
      "0     01 06:54  01  06:54  \n",
      "1     01 07:15  01  07:15  \n",
      "2     01 12:03  01  12:03  \n",
      "3     02 01:20  02  01:20  \n",
      "4     02 16:26  02  16:26  \n",
      "...        ...  ..    ...  \n",
      "1644  29 10:21  29  10:21  \n",
      "1645  29 13:23  29  13:23  \n",
      "1646  29 18:28  29  18:28  \n",
      "1647  29 19:08  29  19:08  \n",
      "1648  29 22:20  29  22:20  \n",
      "\n",
      "[1649 rows x 24 columns]\n"
     ]
    }
   ],
   "source": [
    "data[['day','time']] = data.dayy.str.split(\" \",expand=True,)\n",
    "print(data)"
   ]
  },
  {
   "cell_type": "code",
   "execution_count": 20,
   "metadata": {},
   "outputs": [
    {
     "data": {
      "text/html": [
       "<div>\n",
       "<style scoped>\n",
       "    .dataframe tbody tr th:only-of-type {\n",
       "        vertical-align: middle;\n",
       "    }\n",
       "\n",
       "    .dataframe tbody tr th {\n",
       "        vertical-align: top;\n",
       "    }\n",
       "\n",
       "    .dataframe thead th {\n",
       "        text-align: right;\n",
       "    }\n",
       "</style>\n",
       "<table border=\"1\" class=\"dataframe\">\n",
       "  <thead>\n",
       "    <tr style=\"text-align: right;\">\n",
       "      <th></th>\n",
       "      <th>COP</th>\n",
       "      <th>EENS</th>\n",
       "      <th>RC</th>\n",
       "      <th>STOLP</th>\n",
       "      <th>date begin</th>\n",
       "      <th>feeder</th>\n",
       "    </tr>\n",
       "  </thead>\n",
       "  <tbody>\n",
       "    <tr>\n",
       "      <th>0</th>\n",
       "      <td>NaN</td>\n",
       "      <td>0.010946</td>\n",
       "      <td>0.177419</td>\n",
       "      <td>NaN</td>\n",
       "      <td>1398/01/01</td>\n",
       "      <td>A</td>\n",
       "    </tr>\n",
       "    <tr>\n",
       "      <th>1</th>\n",
       "      <td>B</td>\n",
       "      <td>0.003127</td>\n",
       "      <td>0.145161</td>\n",
       "      <td>NaN</td>\n",
       "      <td>1398/01/01</td>\n",
       "      <td>B</td>\n",
       "    </tr>\n",
       "    <tr>\n",
       "      <th>2</th>\n",
       "      <td>NaN</td>\n",
       "      <td>0.016419</td>\n",
       "      <td>0.032258</td>\n",
       "      <td>NaN</td>\n",
       "      <td>1398/01/01</td>\n",
       "      <td>C</td>\n",
       "    </tr>\n",
       "    <tr>\n",
       "      <th>3</th>\n",
       "      <td>C</td>\n",
       "      <td>0.039093</td>\n",
       "      <td>0.048387</td>\n",
       "      <td>415.0</td>\n",
       "      <td>1398/01/02</td>\n",
       "      <td>D</td>\n",
       "    </tr>\n",
       "    <tr>\n",
       "      <th>4</th>\n",
       "      <td>D</td>\n",
       "      <td>0.075059</td>\n",
       "      <td>0.161290</td>\n",
       "      <td>334.0</td>\n",
       "      <td>1398/01/02</td>\n",
       "      <td>A</td>\n",
       "    </tr>\n",
       "  </tbody>\n",
       "</table>\n",
       "</div>"
      ],
      "text/plain": [
       "   COP      EENS        RC  STOLP  date begin feeder\n",
       "0  NaN  0.010946  0.177419    NaN  1398/01/01      A\n",
       "1    B  0.003127  0.145161    NaN  1398/01/01      B\n",
       "2  NaN  0.016419  0.032258    NaN  1398/01/01      C\n",
       "3    C  0.039093  0.048387  415.0  1398/01/02      D\n",
       "4    D  0.075059  0.161290  334.0  1398/01/02      A"
      ]
     },
     "execution_count": 20,
     "metadata": {},
     "output_type": "execute_result"
    }
   ],
   "source": [
    "dataset=data[data.columns.difference(['time end','DOFDB','PS','CFB','TOP','TOF','BN','DS','COB','AF','PD','Relay','DFB','dayy','year','time','month','day','time begin'])]\n",
    "dataset.head()"
   ]
  },
  {
   "cell_type": "code",
   "execution_count": 21,
   "metadata": {},
   "outputs": [],
   "source": [
    "data.to_csv(r'C:\\Users\\asus\\Desktop\\dataset.csv')"
   ]
  },
  {
   "cell_type": "code",
   "execution_count": 22,
   "metadata": {},
   "outputs": [
    {
     "name": "stdout",
     "output_type": "stream",
     "text": [
      " * COP : 842\n",
      " * EENS : 0\n",
      " * RC : 0\n",
      " * STOLP : 836\n",
      " * date begin : 0\n",
      " * feeder : 0\n"
     ]
    }
   ],
   "source": [
    "for column in dataset.columns:\n",
    "    print(\" * \" + column + \" : \"+ str(dataset[column].isnull().sum()))"
   ]
  },
  {
   "cell_type": "code",
   "execution_count": 23,
   "metadata": {},
   "outputs": [
    {
     "name": "stdout",
     "output_type": "stream",
     "text": [
      " * COP : 0\n",
      " * EENS : 0\n",
      " * RC : 0\n",
      " * STOLP : 0\n",
      " * date begin : 0\n",
      " * feeder : 0\n"
     ]
    }
   ],
   "source": [
    "dataset = dataset.dropna()\n",
    "for column in dataset.columns:\n",
    "    print(\" * \" + column + \" : \"+ str(dataset[column].isnull().sum()))"
   ]
  },
  {
   "cell_type": "raw",
   "metadata": {},
   "source": [
    "# Categorical to Num"
   ]
  },
  {
   "cell_type": "code",
   "execution_count": 31,
   "metadata": {},
   "outputs": [
    {
     "data": {
      "text/html": [
       "<div>\n",
       "<style scoped>\n",
       "    .dataframe tbody tr th:only-of-type {\n",
       "        vertical-align: middle;\n",
       "    }\n",
       "\n",
       "    .dataframe tbody tr th {\n",
       "        vertical-align: top;\n",
       "    }\n",
       "\n",
       "    .dataframe thead th {\n",
       "        text-align: right;\n",
       "    }\n",
       "</style>\n",
       "<table border=\"1\" class=\"dataframe\">\n",
       "  <thead>\n",
       "    <tr style=\"text-align: right;\">\n",
       "      <th></th>\n",
       "      <th>COP</th>\n",
       "      <th>EENS</th>\n",
       "      <th>RC</th>\n",
       "      <th>STOLP</th>\n",
       "      <th>date begin</th>\n",
       "      <th>feeder</th>\n",
       "      <th>A</th>\n",
       "      <th>B</th>\n",
       "      <th>C</th>\n",
       "      <th>D</th>\n",
       "      <th>...</th>\n",
       "      <th>1398/12/19</th>\n",
       "      <th>1398/12/20</th>\n",
       "      <th>1398/12/21</th>\n",
       "      <th>1398/12/22</th>\n",
       "      <th>1398/12/23</th>\n",
       "      <th>1398/12/24</th>\n",
       "      <th>1398/12/25</th>\n",
       "      <th>1398/12/27</th>\n",
       "      <th>1398/12/28</th>\n",
       "      <th>1398/12/29</th>\n",
       "    </tr>\n",
       "  </thead>\n",
       "  <tbody>\n",
       "    <tr>\n",
       "      <th>3</th>\n",
       "      <td>C</td>\n",
       "      <td>0.039093</td>\n",
       "      <td>0.048387</td>\n",
       "      <td>415.0</td>\n",
       "      <td>1398/01/02</td>\n",
       "      <td>D</td>\n",
       "      <td>0</td>\n",
       "      <td>0</td>\n",
       "      <td>0</td>\n",
       "      <td>1</td>\n",
       "      <td>...</td>\n",
       "      <td>0</td>\n",
       "      <td>0</td>\n",
       "      <td>0</td>\n",
       "      <td>0</td>\n",
       "      <td>0</td>\n",
       "      <td>0</td>\n",
       "      <td>0</td>\n",
       "      <td>0</td>\n",
       "      <td>0</td>\n",
       "      <td>0</td>\n",
       "    </tr>\n",
       "    <tr>\n",
       "      <th>4</th>\n",
       "      <td>D</td>\n",
       "      <td>0.075059</td>\n",
       "      <td>0.161290</td>\n",
       "      <td>334.0</td>\n",
       "      <td>1398/01/02</td>\n",
       "      <td>A</td>\n",
       "      <td>1</td>\n",
       "      <td>0</td>\n",
       "      <td>0</td>\n",
       "      <td>0</td>\n",
       "      <td>...</td>\n",
       "      <td>0</td>\n",
       "      <td>0</td>\n",
       "      <td>0</td>\n",
       "      <td>0</td>\n",
       "      <td>0</td>\n",
       "      <td>0</td>\n",
       "      <td>0</td>\n",
       "      <td>0</td>\n",
       "      <td>0</td>\n",
       "      <td>0</td>\n",
       "    </tr>\n",
       "    <tr>\n",
       "      <th>5</th>\n",
       "      <td>C</td>\n",
       "      <td>0.106333</td>\n",
       "      <td>0.225806</td>\n",
       "      <td>108.0</td>\n",
       "      <td>1398/01/03</td>\n",
       "      <td>E</td>\n",
       "      <td>0</td>\n",
       "      <td>0</td>\n",
       "      <td>0</td>\n",
       "      <td>0</td>\n",
       "      <td>...</td>\n",
       "      <td>0</td>\n",
       "      <td>0</td>\n",
       "      <td>0</td>\n",
       "      <td>0</td>\n",
       "      <td>0</td>\n",
       "      <td>0</td>\n",
       "      <td>0</td>\n",
       "      <td>0</td>\n",
       "      <td>0</td>\n",
       "      <td>0</td>\n",
       "    </tr>\n",
       "    <tr>\n",
       "      <th>7</th>\n",
       "      <td>C</td>\n",
       "      <td>0.006255</td>\n",
       "      <td>0.048387</td>\n",
       "      <td>18.0</td>\n",
       "      <td>1398/01/03</td>\n",
       "      <td>C</td>\n",
       "      <td>0</td>\n",
       "      <td>0</td>\n",
       "      <td>1</td>\n",
       "      <td>0</td>\n",
       "      <td>...</td>\n",
       "      <td>0</td>\n",
       "      <td>0</td>\n",
       "      <td>0</td>\n",
       "      <td>0</td>\n",
       "      <td>0</td>\n",
       "      <td>0</td>\n",
       "      <td>0</td>\n",
       "      <td>0</td>\n",
       "      <td>0</td>\n",
       "      <td>0</td>\n",
       "    </tr>\n",
       "    <tr>\n",
       "      <th>18</th>\n",
       "      <td>C</td>\n",
       "      <td>0.086005</td>\n",
       "      <td>0.258065</td>\n",
       "      <td>50.0</td>\n",
       "      <td>1398/01/05</td>\n",
       "      <td>J</td>\n",
       "      <td>0</td>\n",
       "      <td>0</td>\n",
       "      <td>0</td>\n",
       "      <td>0</td>\n",
       "      <td>...</td>\n",
       "      <td>0</td>\n",
       "      <td>0</td>\n",
       "      <td>0</td>\n",
       "      <td>0</td>\n",
       "      <td>0</td>\n",
       "      <td>0</td>\n",
       "      <td>0</td>\n",
       "      <td>0</td>\n",
       "      <td>0</td>\n",
       "      <td>0</td>\n",
       "    </tr>\n",
       "  </tbody>\n",
       "</table>\n",
       "<p>5 rows × 442 columns</p>\n",
       "</div>"
      ],
      "text/plain": [
       "   COP      EENS        RC  STOLP  date begin feeder  A  B  C  D  ...  \\\n",
       "3    C  0.039093  0.048387  415.0  1398/01/02      D  0  0  0  1  ...   \n",
       "4    D  0.075059  0.161290  334.0  1398/01/02      A  1  0  0  0  ...   \n",
       "5    C  0.106333  0.225806  108.0  1398/01/03      E  0  0  0  0  ...   \n",
       "7    C  0.006255  0.048387   18.0  1398/01/03      C  0  0  1  0  ...   \n",
       "18   C  0.086005  0.258065   50.0  1398/01/05      J  0  0  0  0  ...   \n",
       "\n",
       "    1398/12/19  1398/12/20  1398/12/21  1398/12/22  1398/12/23  1398/12/24  \\\n",
       "3            0           0           0           0           0           0   \n",
       "4            0           0           0           0           0           0   \n",
       "5            0           0           0           0           0           0   \n",
       "7            0           0           0           0           0           0   \n",
       "18           0           0           0           0           0           0   \n",
       "\n",
       "    1398/12/25  1398/12/27  1398/12/28  1398/12/29  \n",
       "3            0           0           0           0  \n",
       "4            0           0           0           0  \n",
       "5            0           0           0           0  \n",
       "7            0           0           0           0  \n",
       "18           0           0           0           0  \n",
       "\n",
       "[5 rows x 442 columns]"
      ]
     },
     "execution_count": 31,
     "metadata": {},
     "output_type": "execute_result"
    }
   ],
   "source": [
    "COP = dataset['COP'].unique()\n",
    "COP = pd.get_dummies(dataset['COP'],drop_first=False)\n",
    "\n",
    "feeder = dataset['feeder'].unique()\n",
    "feeder = pd.get_dummies(dataset['feeder'],drop_first=False)\n",
    "\n",
    "date_begin = dataset['date begin'].unique()\n",
    "date_begin = pd.get_dummies(dataset['date begin'],drop_first=False)\n",
    "\n",
    "\n",
    "\n",
    "dataset = pd.concat([dataset,feeder], axis =1)\n",
    "\n",
    "dataset = pd.concat([dataset,COP], axis =1)\n",
    "\n",
    "dataset = pd.concat([dataset,date_begin], axis =1)\n",
    "dataset.head()\n"
   ]
  },
  {
   "cell_type": "code",
   "execution_count": 77,
   "metadata": {},
   "outputs": [],
   "source": [
    "dataset.to_csv(r'C:\\Users\\asus\\Desktop\\kmeanscluster.csv')"
   ]
  },
  {
   "cell_type": "code",
   "execution_count": 66,
   "metadata": {},
   "outputs": [],
   "source": [
    "\n",
    "y = dataset.iloc[:,5]\n",
    "X = dataset[dataset.columns.difference(['COP','feeder','date begin'])]\n",
    "\n"
   ]
  },
  {
   "cell_type": "code",
   "execution_count": 57,
   "metadata": {},
   "outputs": [],
   "source": [
    "#from sklearn.preprocessing import minmax_scale\n",
    "#X=pd.DataFrame(minmax_scale(X),columns=X.columns)\n"
   ]
  },
  {
   "cell_type": "code",
   "execution_count": 58,
   "metadata": {},
   "outputs": [],
   "source": [
    "#data[\"feeder\"] = data[\"feeder\"].astype('category')\n",
    "#data.dtypes\n",
    "#data[\"COB\"] = data[\"COB\"].astype('category')\n",
    "\n",
    "#data[\"feeder\"] = data[\"feeder\"].cat.codes\n",
    "#data[\"COB\"] = data[\"COB\"].cat.codes\n",
    "#data.head()"
   ]
  },
  {
   "cell_type": "code",
   "execution_count": 67,
   "metadata": {},
   "outputs": [
    {
     "name": "stderr",
     "output_type": "stream",
     "text": [
      "C:\\Users\\asus\\anaconda3\\lib\\site-packages\\seaborn\\_decorators.py:36: FutureWarning: Pass the following variables as keyword args: x, y. From version 0.12, the only valid positional argument will be `data`, and passing other arguments without an explicit keyword will result in an error or misinterpretation.\n",
      "  warnings.warn(\n"
     ]
    },
    {
     "data": {
      "text/plain": [
       "<seaborn.axisgrid.FacetGrid at 0x227e20ec9a0>"
      ]
     },
     "execution_count": 67,
     "metadata": {},
     "output_type": "execute_result"
    },
    {
     "data": {
      "image/png": "[encoded data removed]",
      "text/plain": [
       "<Figure size 360x360 with 1 Axes>"
      ]
     },
     "metadata": {},
     "output_type": "display_data"
    }
   ],
   "source": [
    "\n",
    "\n",
    "import seaborn as sns\n",
    "import matplotlib.pyplot as plt\n",
    "\n",
    "sns.set_style('whitegrid')\n",
    "sns.lmplot('EENS', 'STOLP', data=dataset)"
   ]
  },
  {
   "cell_type": "raw",
   "metadata": {},
   "source": [
    "# K-means fit"
   ]
  },
  {
   "cell_type": "code",
   "execution_count": 84,
   "metadata": {},
   "outputs": [
    {
     "data": {
      "text/plain": [
       "array([[-5.63785130e-18,  2.30414747e-03,  4.60829493e-03, ...,\n",
       "         2.30414747e-03,  6.91244240e-03,  6.91244240e-03],\n",
       "       [ 2.16840434e-18,  7.57575758e-03,  7.57575758e-03, ...,\n",
       "         1.08420217e-18,  2.60208521e-18,  2.60208521e-18],\n",
       "       [ 6.66666667e-02,  0.00000000e+00,  8.67361738e-19, ...,\n",
       "         0.00000000e+00,  8.67361738e-19,  8.67361738e-19]])"
      ]
     },
     "execution_count": 84,
     "metadata": {},
     "output_type": "execute_result"
    }
   ],
   "source": [
    "\n",
    "from sklearn.cluster import KMeans\n",
    "\n",
    "\n",
    "kmeans= KMeans(n_clusters= 3)\n",
    "kmeans.fit(X)\n",
    "\n",
    "kmeans.cluster_centers_\n",
    "\n",
    "\n"
   ]
  },
  {
   "cell_type": "code",
   "execution_count": 85,
   "metadata": {},
   "outputs": [
    {
     "name": "stdout",
     "output_type": "stream",
     "text": [
      "clusters:\n",
      "[2 2 1 0 0 1 0 0 0 1 0 0 0 1 0 1 0 1 0 1 1 1 0 1 0 0 0 0 1 1 0 0 0 0 0 1 0\n",
      " 0 0 1 0 0 1 0 0 1 0 0 1 0 0 0 0 0 0 1 0 0 1 2 0 1 0 0 1 0 0 0 0 0 0 0 0 0\n",
      " 0 0 0 0 0 0 1 0 0 0 1 0 1 1 0 0 0 1 0 0 2 0 0 0 0 0 0 0 0 0 1 1 0 0 1 0 1\n",
      " 0 0 0 0 0 0 0 0 0 0 0 2 0 0 0 0 0 0 0 0 0 0 0 1 2 0 0 0 0 1 0 1 0 0 2 2 0\n",
      " 1 0 1 1 0 0 0 0 0 0 0 0 1 0 0 0 0 0 0 0 0 0 0 0 0 0 1 1 0 0 0 1 0 0 0 0 0\n",
      " 0 2 2 2 0 0 0 0 0 0 0 0 0 0 0 0 0 1 1 0 1 0 0 1 0 0 0 0 0 0 2 0 1 1 1 1 1\n",
      " 0 0 1 2 0 0 0 2 0 0 0 0 1 0 0 0 0 0 1 1 2 0 0 0 1 0 0 0 0 0 0 1 0 0 1 0 2\n",
      " 0 0 0 1 0 2 0 0 0 0 1 0 0 0 0 0 1 0 1 0 0 0 0 0 0 1 1 0 1 1 0 1 0 2 0 0 1\n",
      " 1 2 0 0 0 0 0 0 0 0 0 0 1 0 0 0 0 1 2 0 0 0 1 0 0 0 0 0 0 0 0 0 0 0 0 0 0\n",
      " 0 2 0 0 0 0 0 0 1 0 0 0 1 1 0 1 0 0 0 0 0 0 0 1 0 0 0 0 0 1 0 0 0 0 0 0 0\n",
      " 0 2 0 0 1 0 2 1 0 1 0 0 0 1 0 0 0 0 0 0 0 0 0 0 0 0 0 1 1 1 0 1 0 0 1 1 0\n",
      " 0 1 1 0 0 0 0 0 0 0 0 1 0 1 0 0 1 0 0 0 1 0 0 0 0 0 0 0 0 1 0 0 0 0 0 1 0\n",
      " 2 0 0 2 0 0 1 1 1 0 0 0 2 0 0 0 0 1 0 0 0 0 0 0 0 1 0 1 0 0 0 0 0 0 1 1 0\n",
      " 0 0 0 1 0 0 0 0 0 0 0 2 0 1 1 0 0 0 0 0 0 0 1 0 0 0 0 1 1 1 0 0 0 0 0 0 1\n",
      " 1 0 0 0 0 0 1 0 2 1 0 1 0 0 0 1 0 0 0 0 1 0 0 1 0 0 1 1 1 1 0 1 0 0 0 1 0\n",
      " 1 1 1 0 0 0 0 0 0 0 0 0 0 0 0 0 1 1 0 1 0 0 0 0 0 0 0 0 0 0 0 0 2 2 1 0 0\n",
      " 1 1 0 0]\n"
     ]
    }
   ],
   "source": [
    "print('clusters:\\n{}'.format(kmeans.labels_))"
   ]
  },
  {
   "cell_type": "code",
   "execution_count": 86,
   "metadata": {},
   "outputs": [],
   "source": [
    "#!pip install mglearn"
   ]
  },
  {
   "cell_type": "code",
   "execution_count": 75,
   "metadata": {},
   "outputs": [
    {
     "data": {
      "text/plain": [
       "[<matplotlib.lines.Line2D at 0x227e22b4fa0>,\n",
       " <matplotlib.lines.Line2D at 0x227e22c1340>,\n",
       " <matplotlib.lines.Line2D at 0x227e22c16a0>]"
      ]
     },
     "execution_count": 75,
     "metadata": {},
     "output_type": "execute_result"
    },
    {
     "data": {
      "image/png": "[encoded data removed]",
      "text/plain": [
       "<Figure size 432x288 with 1 Axes>"
      ]
     },
     "metadata": {},
     "output_type": "display_data"
    }
   ],
   "source": [
    "import mglearn\n",
    "mglearn.discrete_scatter(X.iloc[:,0],X.iloc[:,1],kmeans.labels_,markers='o')\n",
    "mglearn.discrete_scatter(kmeans.cluster_centers_[:,0],kmeans.cluster_centers_[:,1],[0,1,2],markers='^',markeredgewidth=2)"
   ]
  }
 ],
 "metadata": {
  "kernelspec": {
   "display_name": "Python 3",
   "language": "python",
   "name": "python3"
  },
  "language_info": {
   "codemirror_mode": {
    "name": "ipython",
    "version": 3
   },
   "file_extension": ".py",
   "mimetype": "text/x-python",
   "name": "python",
   "nbconvert_exporter": "python",
   "pygments_lexer": "ipython3",
   "version": "3.8.5"
  }
 },
 "nbformat": 4,
 "nbformat_minor": 4
}
