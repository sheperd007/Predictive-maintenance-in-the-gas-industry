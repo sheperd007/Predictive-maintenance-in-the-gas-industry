{
 "cells": [
  {
   "cell_type": "markdown",
   "metadata": {},
   "source": [
    "# K-Means"
   ]
  },
  {
   "cell_type": "code",
   "execution_count": null,
   "metadata": {},
   "outputs": [],
   "source": [
    "import pandas as pd\n",
    "data = pd.read_csv(r'C:\\Users\\asus\\Desktop\\output.csv')\n",
    "print (data) \n",
    "data.dtypes"
   ]
  },
  {
   "cell_type": "markdown",
   "metadata": {},
   "source": [
    "# Reading the Data"
   ]
  },
  {
   "cell_type": "code",
   "execution_count": null,
   "metadata": {},
   "outputs": [],
   "source": [
    "data[['date begin','time begin']] = data.DFB.str.split(\" \",expand=True,)\n",
    "data.head()"
   ]
  },
  {
   "cell_type": "code",
   "execution_count": null,
   "metadata": {},
   "outputs": [],
   "source": [
    "data[['year','month','dayy']] = data.DFB.str.split(\"/\",expand=True,)\n",
    "print(data)"
   ]
  },
  {
   "cell_type": "code",
   "execution_count": null,
   "metadata": {},
   "outputs": [],
   "source": [
    "data[['day','time']] = data.dayy.str.split(\" \",expand=True,)\n",
    "print(data)"
   ]
  },
  {
   "cell_type": "code",
   "execution_count": null,
   "metadata": {},
   "outputs": [],
   "source": [
    "dataset=data[data.columns.difference(['time end','DOFDB','PS','CFB','TOP','TOF','BN','DS','COB','AF','PD','Relay','DFB','dayy','year','time','month','day','time begin'])]\n",
    "dataset.head()"
   ]
  },
  {
   "cell_type": "code",
   "execution_count": null,
   "metadata": {},
   "outputs": [],
   "source": [
    "\n",
    "data.to_csv(r'C:\\Users\\asus\\Desktop\\dataset.csv')"
   ]
  },
  {
   "cell_type": "code",
   "execution_count": null,
   "metadata": {},
   "outputs": [],
   "source": [
    "for column in dataset.columns:\n",
    "    print(\" * \" + column + \" : \"+ str(dataset[column].isnull().sum()))"
   ]
  },
  {
   "cell_type": "code",
   "execution_count": null,
   "metadata": {},
   "outputs": [],
   "source": [
    "dataset = dataset.dropna()\n",
    "for column in dataset.columns:\n",
    "    print(\" * \" + column + \" : \"+ str(dataset[column].isnull().sum()))"
   ]
  },
  {
   "cell_type": "raw",
   "metadata": {},
   "source": [
    "# Categorical to Num"
   ]
  },
  {
   "cell_type": "code",
   "execution_count": null,
   "metadata": {},
   "outputs": [],
   "source": [
    "COP = dataset['COB'].unique()\n",
    "COP = pd.get_dummies(dataset['COB'],drop_first=False)\n",
    "\n",
    "feeder = dataset['feeder'].unique()\n",
    "feeder = pd.get_dummies(dataset['feeder'],drop_first=False)\n",
    "\n",
    "date_begin = dataset['date begin'].unique()\n",
    "date_begin = pd.get_dummies(dataset['date begin'],drop_first=False)\n",
    "\n",
    "\n",
    "\n",
    "dataset = pd.concat([dataset,feeder], axis =1)\n",
    "\n",
    "dataset = pd.concat([dataset,COP], axis =1)\n",
    "\n",
    "dataset = pd.concat([dataset,date_begin], axis =1)\n",
    "dataset.head()\n"
   ]
  },
  {
   "cell_type": "code",
   "execution_count": null,
   "metadata": {},
   "outputs": [],
   "source": [
    "COB = data['COB']\n",
    "COB = pd.get_dummies(data['COB'],drop_first=False)\n",
    "COB"
   ]
  },
  {
   "cell_type": "code",
   "execution_count": null,
   "metadata": {},
   "outputs": [],
   "source": [
    "dataset.to_csv(r'C:\\Users\\asus\\Desktop\\kmeanscluster.csv')"
   ]
  },
  {
   "cell_type": "code",
   "execution_count": null,
   "metadata": {},
   "outputs": [],
   "source": [
    "\n",
    "y = dataset.iloc[:,5]\n",
    "X = dataset[dataset.columns.difference(['COP','feeder','date begin'])]\n",
    "\n"
   ]
  },
  {
   "cell_type": "code",
   "execution_count": null,
   "metadata": {},
   "outputs": [],
   "source": [
    "#from sklearn.preprocessing import minmax_scale\n",
    "#X=pd.DataFrame(minmax_scale(X),columns=X.columns)\n"
   ]
  },
  {
   "cell_type": "code",
   "execution_count": null,
   "metadata": {},
   "outputs": [],
   "source": [
    "#data[\"feeder\"] = data[\"feeder\"].astype('category')\n",
    "#data.dtypes\n",
    "#data[\"COB\"] = data[\"COB\"].astype('category')\n",
    "\n",
    "#data[\"feeder\"] = data[\"feeder\"].cat.codes\n",
    "#data[\"COB\"] = data[\"COB\"].cat.codes\n",
    "#data.head()"
   ]
  },
  {
   "cell_type": "code",
   "execution_count": null,
   "metadata": {},
   "outputs": [],
   "source": [
    "import seaborn as sns\n",
    "import matplotlib.pyplot as plt\n",
    "\n",
    "sns.set_style('whitegrid')\n",
    "sns.lmplot('EENS', 'STOLP', data=dataset)"
   ]
  },
  {
   "cell_type": "raw",
   "metadata": {},
   "source": [
    "# K-means fit"
   ]
  },
  {
   "cell_type": "code",
   "execution_count": null,
   "metadata": {},
   "outputs": [],
   "source": [
    "\n",
    "from sklearn.cluster import KMeans\n",
    "\n",
    "\n",
    "kmeans= KMeans(n_clusters= 3)\n",
    "kmeans.fit(X)\n",
    "\n",
    "kmeans.cluster_centers_"
   ]
  },
  {
   "cell_type": "code",
   "execution_count": null,
   "metadata": {},
   "outputs": [],
   "source": [
    "print('clusters:\\n{}'.format(kmeans.labels_))"
   ]
  },
  {
   "cell_type": "code",
   "execution_count": null,
   "metadata": {},
   "outputs": [],
   "source": [
    "#!pip install mglearn"
   ]
  },
  {
   "cell_type": "code",
   "execution_count": null,
   "metadata": {},
   "outputs": [],
   "source": [
    "import mglearn\n",
    "mglearn.discrete_scatter(X.iloc[:,0],X.iloc[:,1],kmeans.labels_,markers='o')\n",
    "mglearn.discrete_scatter(kmeans.cluster_centers_[:,0],kmeans.cluster_centers_[:,1],[0,1,2],markers='^',markeredgewidth=2)"
   ]
  }
 ],
 "metadata": {
  "kernelspec": {
   "display_name": "Python 3",
   "language": "python",
   "name": "python3"
  },
  "language_info": {
   "codemirror_mode": {
    "name": "ipython",
    "version": 3
   },
   "file_extension": ".py",
   "mimetype": "text/x-python",
   "name": "python",
   "nbconvert_exporter": "python",
   "pygments_lexer": "ipython3",
   "version": "3.8.5"
  }
 },
 "nbformat": 4,
 "nbformat_minor": 4
}
