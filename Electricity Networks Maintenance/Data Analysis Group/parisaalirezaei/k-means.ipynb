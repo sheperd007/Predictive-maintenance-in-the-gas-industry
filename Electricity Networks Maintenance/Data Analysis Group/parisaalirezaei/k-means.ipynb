{
 "cells": [
  {
   "cell_type": "markdown",
   "metadata": {},
   "source": [
    "# K-Means"
   ]
  },
  {
   "cell_type": "code",
   "execution_count": 1,
   "metadata": {},
   "outputs": [
    {
     "name": "stdout",
     "output_type": "stream",
     "text": [
      "     feeder COB               DFB  DOFDB      EENS\n",
      "0         A   A  1398/01/01 06:54      5  0.010946\n",
      "1         B   B  1398/01/01 07:15      2  0.003127\n",
      "2         C   C  1398/01/01 12:03     42  0.016419\n",
      "3         D   D  1398/01/02 01:20     65  0.039093\n",
      "4         A   E  1398/01/02 16:26     24  0.075059\n",
      "...     ...  ..               ...    ...       ...\n",
      "1644      G   F  1398/12/29 10:21      9  0.017201\n",
      "1645      C   I  1398/12/29 13:23     52  0.025020\n",
      "1646      E   R  1398/12/29 18:28     39  0.193120\n",
      "1647      C   X  1398/12/29 19:08      2  0.006255\n",
      "1648      H   D  1398/12/29 22:20      6  0.013292\n",
      "\n",
      "[1649 rows x 5 columns]\n"
     ]
    }
   ],
   "source": [
    "import pandas as pd\n",
    "data = pd.read_csv(r'C:\\Users\\asus\\Desktop\\K-means.csv')\n",
    "print(data)\n",
    "\n"
   ]
  },
  {
   "cell_type": "raw",
   "metadata": {},
   "source": [
    "# Categorical to Num"
   ]
  },
  {
   "cell_type": "code",
   "execution_count": 3,
   "metadata": {},
   "outputs": [
    {
     "data": {
      "text/html": [
       "<div>\n",
       "<style scoped>\n",
       "    .dataframe tbody tr th:only-of-type {\n",
       "        vertical-align: middle;\n",
       "    }\n",
       "\n",
       "    .dataframe tbody tr th {\n",
       "        vertical-align: top;\n",
       "    }\n",
       "\n",
       "    .dataframe thead th {\n",
       "        text-align: right;\n",
       "    }\n",
       "</style>\n",
       "<table border=\"1\" class=\"dataframe\">\n",
       "  <thead>\n",
       "    <tr style=\"text-align: right;\">\n",
       "      <th></th>\n",
       "      <th>feeder</th>\n",
       "      <th>COB</th>\n",
       "      <th>DFB</th>\n",
       "      <th>DOFDB</th>\n",
       "      <th>EENS</th>\n",
       "    </tr>\n",
       "  </thead>\n",
       "  <tbody>\n",
       "    <tr>\n",
       "      <th>0</th>\n",
       "      <td>0</td>\n",
       "      <td>0</td>\n",
       "      <td>1398/01/01 06:54</td>\n",
       "      <td>5</td>\n",
       "      <td>0.010946</td>\n",
       "    </tr>\n",
       "    <tr>\n",
       "      <th>1</th>\n",
       "      <td>1</td>\n",
       "      <td>2</td>\n",
       "      <td>1398/01/01 07:15</td>\n",
       "      <td>2</td>\n",
       "      <td>0.003127</td>\n",
       "    </tr>\n",
       "    <tr>\n",
       "      <th>2</th>\n",
       "      <td>2</td>\n",
       "      <td>4</td>\n",
       "      <td>1398/01/01 12:03</td>\n",
       "      <td>42</td>\n",
       "      <td>0.016419</td>\n",
       "    </tr>\n",
       "    <tr>\n",
       "      <th>3</th>\n",
       "      <td>3</td>\n",
       "      <td>6</td>\n",
       "      <td>1398/01/02 01:20</td>\n",
       "      <td>65</td>\n",
       "      <td>0.039093</td>\n",
       "    </tr>\n",
       "    <tr>\n",
       "      <th>4</th>\n",
       "      <td>0</td>\n",
       "      <td>8</td>\n",
       "      <td>1398/01/02 16:26</td>\n",
       "      <td>24</td>\n",
       "      <td>0.075059</td>\n",
       "    </tr>\n",
       "  </tbody>\n",
       "</table>\n",
       "</div>"
      ],
      "text/plain": [
       "   feeder  COB               DFB  DOFDB      EENS\n",
       "0       0    0  1398/01/01 06:54      5  0.010946\n",
       "1       1    2  1398/01/01 07:15      2  0.003127\n",
       "2       2    4  1398/01/01 12:03     42  0.016419\n",
       "3       3    6  1398/01/02 01:20     65  0.039093\n",
       "4       0    8  1398/01/02 16:26     24  0.075059"
      ]
     },
     "execution_count": 3,
     "metadata": {},
     "output_type": "execute_result"
    }
   ],
   "source": [
    "data[\"feeder\"] = data[\"feeder\"].astype('category')\n",
    "data.dtypes\n",
    "data[\"COB\"] = data[\"COB\"].astype('category')\n",
    "\n",
    "data[\"feeder\"] = data[\"feeder\"].cat.codes\n",
    "data[\"COB\"] = data[\"COB\"].cat.codes\n",
    "data.head()"
   ]
  },
  {
   "cell_type": "code",
   "execution_count": 4,
   "metadata": {},
   "outputs": [
    {
     "name": "stderr",
     "output_type": "stream",
     "text": [
      "C:\\Users\\asus\\anaconda3\\lib\\site-packages\\seaborn\\_decorators.py:36: FutureWarning: Pass the following variables as keyword args: x, y. From version 0.12, the only valid positional argument will be `data`, and passing other arguments without an explicit keyword will result in an error or misinterpretation.\n",
      "  warnings.warn(\n"
     ]
    },
    {
     "data": {
      "text/plain": [
       "<seaborn.axisgrid.FacetGrid at 0x1fc05e5deb0>"
      ]
     },
     "execution_count": 4,
     "metadata": {},
     "output_type": "execute_result"
    },
    {
     "data": {
      "image/png": "[encoded data removed]",
      "text/plain": [
       "<Figure size 360x360 with 1 Axes>"
      ]
     },
     "metadata": {},
     "output_type": "display_data"
    }
   ],
   "source": [
    "X= data[['COB','EENS','DOFDB']]\n",
    "y=data['feeder']\n",
    "\n",
    "import seaborn as sns\n",
    "import matplotlib.pyplot as plt\n",
    "\n",
    "sns.set_style('whitegrid')\n",
    "sns.lmplot('EENS', 'DOFDB', data=data)"
   ]
  },
  {
   "cell_type": "raw",
   "metadata": {},
   "source": [
    "# K-means fit"
   ]
  },
  {
   "cell_type": "code",
   "execution_count": 5,
   "metadata": {},
   "outputs": [
    {
     "name": "stdout",
     "output_type": "stream",
     "text": [
      "[[188   0   0   0   0   0   0   0   0   0   0   0   0   0   0]\n",
      " [ 54   0   0   0   0   0   0   0   0   0   0   0   0   0   0]\n",
      " [176   0   0   1   0   0   0   0   0   0   0   0   0   0   0]\n",
      " [191   0   0   0   0   0   0   0   0   0   0   0   0   0   0]\n",
      " [ 99   0   0   0   0   0   0   0   0   0   0   0   0   0   0]\n",
      " [139   0   0   0   0   0   0   0   0   0   0   0   0   0   0]\n",
      " [128   0   0   0   0   0   0   0   0   0   0   0   0   0   0]\n",
      " [123   0   1   0   0   0   0   0   0   0   0   0   0   0   0]\n",
      " [191   1   0   1   0   0   0   0   0   0   0   0   0   0   0]\n",
      " [116   0   0   1   0   0   0   0   0   0   0   0   0   0   0]\n",
      " [152   0   0   0   0   0   0   0   0   0   0   0   0   0   0]\n",
      " [ 54   0   0   0   0   0   0   0   0   0   0   0   0   0   0]\n",
      " [ 18   0   0   0   0   0   0   0   0   0   0   0   0   0   0]\n",
      " [  8   0   0   0   0   0   0   0   0   0   0   0   0   0   0]\n",
      " [  7   0   0   0   0   0   0   0   0   0   0   0   0   0   0]]\n",
      "              precision    recall  f1-score   support\n",
      "\n",
      "           0       0.11      1.00      0.21       188\n",
      "           1       0.00      0.00      0.00        54\n",
      "           2       0.00      0.00      0.00       177\n",
      "           3       0.00      0.00      0.00       191\n",
      "           4       0.00      0.00      0.00        99\n",
      "           5       0.00      0.00      0.00       139\n",
      "           6       0.00      0.00      0.00       128\n",
      "           7       0.00      0.00      0.00       124\n",
      "           8       0.00      0.00      0.00       193\n",
      "           9       0.00      0.00      0.00       117\n",
      "          10       0.00      0.00      0.00       152\n",
      "          11       0.00      0.00      0.00        54\n",
      "          12       0.00      0.00      0.00        18\n",
      "          13       0.00      0.00      0.00         8\n",
      "          14       0.00      0.00      0.00         7\n",
      "\n",
      "    accuracy                           0.11      1649\n",
      "   macro avg       0.01      0.07      0.01      1649\n",
      "weighted avg       0.01      0.11      0.02      1649\n",
      "\n"
     ]
    },
    {
     "name": "stderr",
     "output_type": "stream",
     "text": [
      "C:\\Users\\asus\\anaconda3\\lib\\site-packages\\sklearn\\metrics\\_classification.py:1221: UndefinedMetricWarning: Precision and F-score are ill-defined and being set to 0.0 in labels with no predicted samples. Use `zero_division` parameter to control this behavior.\n",
      "  _warn_prf(average, modifier, msg_start, len(result))\n"
     ]
    }
   ],
   "source": [
    "\n",
    "from sklearn.cluster import KMeans\n",
    "\n",
    "\n",
    "kmeans= KMeans(n_clusters= 4)\n",
    "kmeans.fit(X)\n",
    "\n",
    "kmeans.cluster_centers_\n",
    "\n",
    "from sklearn.metrics import confusion_matrix,classification_report\n",
    "print(confusion_matrix(data['feeder'],kmeans.labels_))\n",
    "print(classification_report(data['feeder'],kmeans.labels_))\n",
    "\n"
   ]
  },
  {
   "cell_type": "code",
   "execution_count": null,
   "metadata": {},
   "outputs": [],
   "source": []
  }
 ],
 "metadata": {
  "kernelspec": {
   "display_name": "Python 3",
   "language": "python",
   "name": "python3"
  },
  "language_info": {
   "codemirror_mode": {
    "name": "ipython",
    "version": 3
   },
   "file_extension": ".py",
   "mimetype": "text/x-python",
   "name": "python",
   "nbconvert_exporter": "python",
   "pygments_lexer": "ipython3",
   "version": "3.8.5"
  }
 },
 "nbformat": 4,
 "nbformat_minor": 4
}
