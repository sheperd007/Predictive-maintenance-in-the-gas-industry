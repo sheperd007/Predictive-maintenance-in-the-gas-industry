{
 "cells": [
  {
   "cell_type": "markdown",
   "metadata": {},
   "source": [
    "# data import"
   ]
  },
  {
   "cell_type": "code",
   "execution_count": 96,
   "metadata": {},
   "outputs": [
    {
     "name": "stdout",
     "output_type": "stream",
     "text": [
      "         BN TOF AF  DS feeder        RC TOP Relay COB   PD  COP  \\\n",
      "0     88644   A  A   A      A  0.177419   A     A   A  NaN  NaN   \n",
      "1     88645   A  B   B      B  0.145161   A     A   B    B    B   \n",
      "2     88648   A  A   C      C  0.032258   A     A   C  NaN  NaN   \n",
      "3     88657   A  A   A      D  0.048387   A     A   D    C    C   \n",
      "4     88664   A  C   D      A  0.161290   A     B   E    D    D   \n",
      "...     ...  .. ..  ..    ...       ...  ..   ...  ..  ...  ...   \n",
      "1644  96326   A  L  BB      G  0.096774   A     A   F    C    C   \n",
      "1645  96335   A  C   E      C  0.193548   A     A   I  NaN  NaN   \n",
      "1646  96346   A  H   M      E  0.274194   A     A   R  NaN  NaN   \n",
      "1647  96347   A  H   X      C  0.258065   A     A   X  NaN  NaN   \n",
      "1648  96349   A  D  PP      H  0.064516   A     A   D    C    C   \n",
      "\n",
      "                   DFB               CFB  DOFDB                PS  STOLP  \\\n",
      "0     1398/01/01 06:54  1398/01/01 06:59      5               NaN    NaN   \n",
      "1     1398/01/01 07:15  1398/01/01 07:17      2               NaN    NaN   \n",
      "2     1398/01/01 12:03  1398/01/01 12:45     42               NaN    NaN   \n",
      "3     1398/01/02 01:20  1398/01/02 02:25     65  1398/01/02 08:15  415.0   \n",
      "4     1398/01/02 16:26  1398/01/02 16:50     24  1398/01/02 22:00  334.0   \n",
      "...                ...               ...    ...               ...    ...   \n",
      "1644  1398/12/29 10:21  1398/12/29 10:30      9  1398/12/29 10:40   19.0   \n",
      "1645  1398/12/29 13:23  1398/12/29 14:15     52  1398/12/29 13:34   11.0   \n",
      "1646  1398/12/29 18:28  1398/12/29 19:07     39  1398/12/29 19:52   84.0   \n",
      "1647  1398/12/29 19:08  1398/12/29 19:10      2               NaN    NaN   \n",
      "1648  1398/12/29 22:20  1398/12/29 22:26      6  1398/12/29 22:41   21.0   \n",
      "\n",
      "          EENS  \n",
      "0     0.010946  \n",
      "1     0.003127  \n",
      "2     0.016419  \n",
      "3     0.039093  \n",
      "4     0.075059  \n",
      "...        ...  \n",
      "1644  0.017201  \n",
      "1645  0.025020  \n",
      "1646  0.193120  \n",
      "1647  0.006255  \n",
      "1648  0.013292  \n",
      "\n",
      "[1649 rows x 17 columns]\n"
     ]
    },
    {
     "data": {
      "text/plain": [
       "BN          int64\n",
       "TOF        object\n",
       "AF         object\n",
       "DS         object\n",
       "feeder     object\n",
       "RC        float64\n",
       "TOP        object\n",
       "Relay      object\n",
       "COB        object\n",
       "PD         object\n",
       "COP        object\n",
       "DFB        object\n",
       "CFB        object\n",
       "DOFDB       int64\n",
       "PS         object\n",
       "STOLP     float64\n",
       "EENS      float64\n",
       "dtype: object"
      ]
     },
     "execution_count": 96,
     "metadata": {},
     "output_type": "execute_result"
    }
   ],
   "source": [
    "\n",
    "\n",
    "import pandas as pd\n",
    "data = pd.read_csv(r'C:\\Users\\asus\\Desktop\\output.csv')\n",
    "print (data) \n",
    "data.dtypes"
   ]
  },
  {
   "cell_type": "markdown",
   "metadata": {},
   "source": [
    "# seperate DATE and TIME"
   ]
  },
  {
   "cell_type": "code",
   "execution_count": 97,
   "metadata": {},
   "outputs": [
    {
     "name": "stdout",
     "output_type": "stream",
     "text": [
      "         BN TOF AF  DS feeder        RC TOP Relay COB   PD  ...  \\\n",
      "0     88644   A  A   A      A  0.177419   A     A   A  NaN  ...   \n",
      "1     88645   A  B   B      B  0.145161   A     A   B    B  ...   \n",
      "2     88648   A  A   C      C  0.032258   A     A   C  NaN  ...   \n",
      "3     88657   A  A   A      D  0.048387   A     A   D    C  ...   \n",
      "4     88664   A  C   D      A  0.161290   A     B   E    D  ...   \n",
      "...     ...  .. ..  ..    ...       ...  ..   ...  ..  ...  ...   \n",
      "1644  96326   A  L  BB      G  0.096774   A     A   F    C  ...   \n",
      "1645  96335   A  C   E      C  0.193548   A     A   I  NaN  ...   \n",
      "1646  96346   A  H   M      E  0.274194   A     A   R  NaN  ...   \n",
      "1647  96347   A  H   X      C  0.258065   A     A   X  NaN  ...   \n",
      "1648  96349   A  D  PP      H  0.064516   A     A   D    C  ...   \n",
      "\n",
      "                   DFB               CFB DOFDB                PS  STOLP  \\\n",
      "0     1398/01/01 06:54  1398/01/01 06:59     5               NaN    NaN   \n",
      "1     1398/01/01 07:15  1398/01/01 07:17     2               NaN    NaN   \n",
      "2     1398/01/01 12:03  1398/01/01 12:45    42               NaN    NaN   \n",
      "3     1398/01/02 01:20  1398/01/02 02:25    65  1398/01/02 08:15  415.0   \n",
      "4     1398/01/02 16:26  1398/01/02 16:50    24  1398/01/02 22:00  334.0   \n",
      "...                ...               ...   ...               ...    ...   \n",
      "1644  1398/12/29 10:21  1398/12/29 10:30     9  1398/12/29 10:40   19.0   \n",
      "1645  1398/12/29 13:23  1398/12/29 14:15    52  1398/12/29 13:34   11.0   \n",
      "1646  1398/12/29 18:28  1398/12/29 19:07    39  1398/12/29 19:52   84.0   \n",
      "1647  1398/12/29 19:08  1398/12/29 19:10     2               NaN    NaN   \n",
      "1648  1398/12/29 22:20  1398/12/29 22:26     6  1398/12/29 22:41   21.0   \n",
      "\n",
      "          EENS  date begin time begin    date end time end  \n",
      "0     0.010946  1398/01/01      06:54  1398/01/01    06:59  \n",
      "1     0.003127  1398/01/01      07:15  1398/01/01    07:17  \n",
      "2     0.016419  1398/01/01      12:03  1398/01/01    12:45  \n",
      "3     0.039093  1398/01/02      01:20  1398/01/02    02:25  \n",
      "4     0.075059  1398/01/02      16:26  1398/01/02    16:50  \n",
      "...        ...         ...        ...         ...      ...  \n",
      "1644  0.017201  1398/12/29      10:21  1398/12/29    10:30  \n",
      "1645  0.025020  1398/12/29      13:23  1398/12/29    14:15  \n",
      "1646  0.193120  1398/12/29      18:28  1398/12/29    19:07  \n",
      "1647  0.006255  1398/12/29      19:08  1398/12/29    19:10  \n",
      "1648  0.013292  1398/12/29      22:20  1398/12/29    22:26  \n",
      "\n",
      "[1649 rows x 21 columns]\n"
     ]
    }
   ],
   "source": [
    "data[['date begin','time begin']] = data.DFB.str.split(\" \",expand=True,)\n",
    "data[['date end','time end']] = data.CFB.str.split(\" \",expand=True,)\n",
    "print(data)\n"
   ]
  },
  {
   "cell_type": "code",
   "execution_count": 114,
   "metadata": {},
   "outputs": [
    {
     "data": {
      "text/html": [
       "<div>\n",
       "<style scoped>\n",
       "    .dataframe tbody tr th:only-of-type {\n",
       "        vertical-align: middle;\n",
       "    }\n",
       "\n",
       "    .dataframe tbody tr th {\n",
       "        vertical-align: top;\n",
       "    }\n",
       "\n",
       "    .dataframe thead th {\n",
       "        text-align: right;\n",
       "    }\n",
       "</style>\n",
       "<table border=\"1\" class=\"dataframe\">\n",
       "  <thead>\n",
       "    <tr style=\"text-align: right;\">\n",
       "      <th></th>\n",
       "      <th>BN</th>\n",
       "      <th>TOF</th>\n",
       "      <th>AF</th>\n",
       "      <th>DS</th>\n",
       "      <th>feeder</th>\n",
       "      <th>RC</th>\n",
       "      <th>TOP</th>\n",
       "      <th>Relay</th>\n",
       "      <th>COB</th>\n",
       "      <th>PD</th>\n",
       "      <th>...</th>\n",
       "      <th>PS</th>\n",
       "      <th>STOLP</th>\n",
       "      <th>EENS</th>\n",
       "      <th>date begin</th>\n",
       "      <th>time begin</th>\n",
       "      <th>date end</th>\n",
       "      <th>time end</th>\n",
       "      <th>year</th>\n",
       "      <th>month</th>\n",
       "      <th>day</th>\n",
       "    </tr>\n",
       "  </thead>\n",
       "  <tbody>\n",
       "    <tr>\n",
       "      <th>0</th>\n",
       "      <td>88644</td>\n",
       "      <td>A</td>\n",
       "      <td>A</td>\n",
       "      <td>A</td>\n",
       "      <td>A</td>\n",
       "      <td>0.177419</td>\n",
       "      <td>A</td>\n",
       "      <td>A</td>\n",
       "      <td>A</td>\n",
       "      <td>NaN</td>\n",
       "      <td>...</td>\n",
       "      <td>NaN</td>\n",
       "      <td>NaN</td>\n",
       "      <td>0.010946</td>\n",
       "      <td>1398/01/01</td>\n",
       "      <td>06:54</td>\n",
       "      <td>1398/01/01</td>\n",
       "      <td>06:59</td>\n",
       "      <td>1398</td>\n",
       "      <td>01</td>\n",
       "      <td>01 06:54</td>\n",
       "    </tr>\n",
       "    <tr>\n",
       "      <th>1</th>\n",
       "      <td>88645</td>\n",
       "      <td>A</td>\n",
       "      <td>B</td>\n",
       "      <td>B</td>\n",
       "      <td>B</td>\n",
       "      <td>0.145161</td>\n",
       "      <td>A</td>\n",
       "      <td>A</td>\n",
       "      <td>B</td>\n",
       "      <td>B</td>\n",
       "      <td>...</td>\n",
       "      <td>NaN</td>\n",
       "      <td>NaN</td>\n",
       "      <td>0.003127</td>\n",
       "      <td>1398/01/01</td>\n",
       "      <td>07:15</td>\n",
       "      <td>1398/01/01</td>\n",
       "      <td>07:17</td>\n",
       "      <td>1398</td>\n",
       "      <td>01</td>\n",
       "      <td>01 07:15</td>\n",
       "    </tr>\n",
       "    <tr>\n",
       "      <th>2</th>\n",
       "      <td>88648</td>\n",
       "      <td>A</td>\n",
       "      <td>A</td>\n",
       "      <td>C</td>\n",
       "      <td>C</td>\n",
       "      <td>0.032258</td>\n",
       "      <td>A</td>\n",
       "      <td>A</td>\n",
       "      <td>C</td>\n",
       "      <td>NaN</td>\n",
       "      <td>...</td>\n",
       "      <td>NaN</td>\n",
       "      <td>NaN</td>\n",
       "      <td>0.016419</td>\n",
       "      <td>1398/01/01</td>\n",
       "      <td>12:03</td>\n",
       "      <td>1398/01/01</td>\n",
       "      <td>12:45</td>\n",
       "      <td>1398</td>\n",
       "      <td>01</td>\n",
       "      <td>01 12:03</td>\n",
       "    </tr>\n",
       "    <tr>\n",
       "      <th>3</th>\n",
       "      <td>88657</td>\n",
       "      <td>A</td>\n",
       "      <td>A</td>\n",
       "      <td>A</td>\n",
       "      <td>D</td>\n",
       "      <td>0.048387</td>\n",
       "      <td>A</td>\n",
       "      <td>A</td>\n",
       "      <td>D</td>\n",
       "      <td>C</td>\n",
       "      <td>...</td>\n",
       "      <td>1398/01/02 08:15</td>\n",
       "      <td>415.0</td>\n",
       "      <td>0.039093</td>\n",
       "      <td>1398/01/02</td>\n",
       "      <td>01:20</td>\n",
       "      <td>1398/01/02</td>\n",
       "      <td>02:25</td>\n",
       "      <td>1398</td>\n",
       "      <td>01</td>\n",
       "      <td>02 01:20</td>\n",
       "    </tr>\n",
       "    <tr>\n",
       "      <th>4</th>\n",
       "      <td>88664</td>\n",
       "      <td>A</td>\n",
       "      <td>C</td>\n",
       "      <td>D</td>\n",
       "      <td>A</td>\n",
       "      <td>0.161290</td>\n",
       "      <td>A</td>\n",
       "      <td>B</td>\n",
       "      <td>E</td>\n",
       "      <td>D</td>\n",
       "      <td>...</td>\n",
       "      <td>1398/01/02 22:00</td>\n",
       "      <td>334.0</td>\n",
       "      <td>0.075059</td>\n",
       "      <td>1398/01/02</td>\n",
       "      <td>16:26</td>\n",
       "      <td>1398/01/02</td>\n",
       "      <td>16:50</td>\n",
       "      <td>1398</td>\n",
       "      <td>01</td>\n",
       "      <td>02 16:26</td>\n",
       "    </tr>\n",
       "  </tbody>\n",
       "</table>\n",
       "<p>5 rows × 24 columns</p>\n",
       "</div>"
      ],
      "text/plain": [
       "      BN TOF AF DS feeder        RC TOP Relay COB   PD  ...                PS  \\\n",
       "0  88644   A  A  A      A  0.177419   A     A   A  NaN  ...               NaN   \n",
       "1  88645   A  B  B      B  0.145161   A     A   B    B  ...               NaN   \n",
       "2  88648   A  A  C      C  0.032258   A     A   C  NaN  ...               NaN   \n",
       "3  88657   A  A  A      D  0.048387   A     A   D    C  ...  1398/01/02 08:15   \n",
       "4  88664   A  C  D      A  0.161290   A     B   E    D  ...  1398/01/02 22:00   \n",
       "\n",
       "   STOLP      EENS  date begin time begin    date end  time end  year month  \\\n",
       "0    NaN  0.010946  1398/01/01      06:54  1398/01/01     06:59  1398    01   \n",
       "1    NaN  0.003127  1398/01/01      07:15  1398/01/01     07:17  1398    01   \n",
       "2    NaN  0.016419  1398/01/01      12:03  1398/01/01     12:45  1398    01   \n",
       "3  415.0  0.039093  1398/01/02      01:20  1398/01/02     02:25  1398    01   \n",
       "4  334.0  0.075059  1398/01/02      16:26  1398/01/02     16:50  1398    01   \n",
       "\n",
       "        day  \n",
       "0  01 06:54  \n",
       "1  01 07:15  \n",
       "2  01 12:03  \n",
       "3  02 01:20  \n",
       "4  02 16:26  \n",
       "\n",
       "[5 rows x 24 columns]"
      ]
     },
     "execution_count": 114,
     "metadata": {},
     "output_type": "execute_result"
    }
   ],
   "source": [
    "data[['year','month','day']] = data.DFB.str.split(\"/\",expand=True,)\n",
    "data.head()"
   ]
  },
  {
   "cell_type": "markdown",
   "metadata": {},
   "source": [
    "# choose columns we need"
   ]
  },
  {
   "cell_type": "code",
   "execution_count": 115,
   "metadata": {},
   "outputs": [
    {
     "name": "stdout",
     "output_type": "stream",
     "text": [
      "     AF COB  DOFDB  date begin    date end feeder month\n",
      "0     A   A      5  1398/01/01  1398/01/01      A    01\n",
      "1     B   B      2  1398/01/01  1398/01/01      B    01\n",
      "2     A   C     42  1398/01/01  1398/01/01      C    01\n",
      "3     A   D     65  1398/01/02  1398/01/02      D    01\n",
      "4     C   E     24  1398/01/02  1398/01/02      A    01\n",
      "...  ..  ..    ...         ...         ...    ...   ...\n",
      "1644  L   F      9  1398/12/29  1398/12/29      G    12\n",
      "1645  C   I     52  1398/12/29  1398/12/29      C    12\n",
      "1646  H   R     39  1398/12/29  1398/12/29      E    12\n",
      "1647  H   X      2  1398/12/29  1398/12/29      C    12\n",
      "1648  D   D      6  1398/12/29  1398/12/29      H    12\n",
      "\n",
      "[1649 rows x 7 columns]\n"
     ]
    }
   ],
   "source": [
    "dataset=data[data.columns.difference(['time end','time begin','EENS','STOLP','PS','CFB','DFB','PD','Relay','TOP','RC','DS','TOF','BN','COP','year','day'])]\n",
    "print(dataset)"
   ]
  },
  {
   "cell_type": "markdown",
   "metadata": {},
   "source": [
    "# Removin empty values"
   ]
  },
  {
   "cell_type": "code",
   "execution_count": 116,
   "metadata": {},
   "outputs": [
    {
     "data": {
      "text/plain": [
       "AF            False\n",
       "COB           False\n",
       "DOFDB         False\n",
       "date begin    False\n",
       "date end       True\n",
       "feeder        False\n",
       "month         False\n",
       "dtype: bool"
      ]
     },
     "execution_count": 116,
     "metadata": {},
     "output_type": "execute_result"
    }
   ],
   "source": [
    "dataset.isnull().any()"
   ]
  },
  {
   "cell_type": "code",
   "execution_count": 117,
   "metadata": {},
   "outputs": [
    {
     "name": "stdout",
     "output_type": "stream",
     "text": [
      " * AF : 0\n",
      " * COB : 0\n",
      " * DOFDB : 0\n",
      " * date begin : 0\n",
      " * date end : 3\n",
      " * feeder : 0\n",
      " * month : 0\n"
     ]
    }
   ],
   "source": [
    "for column in dataset.columns:\n",
    "    print(\" * \" + column + \" : \"+ str(dataset[column].isnull().sum()))"
   ]
  },
  {
   "cell_type": "code",
   "execution_count": 118,
   "metadata": {},
   "outputs": [
    {
     "name": "stdout",
     "output_type": "stream",
     "text": [
      " * AF : 0\n",
      " * COB : 0\n",
      " * DOFDB : 0\n",
      " * date begin : 0\n",
      " * date end : 0\n",
      " * feeder : 0\n",
      " * month : 0\n"
     ]
    }
   ],
   "source": [
    "dataset = dataset.dropna()\n",
    "for column in dataset.columns:\n",
    "    print(\" * \" + column + \" : \"+ str(dataset[column].isnull().sum()))"
   ]
  },
  {
   "cell_type": "code",
   "execution_count": 119,
   "metadata": {},
   "outputs": [
    {
     "data": {
      "text/html": [
       "<div>\n",
       "<style scoped>\n",
       "    .dataframe tbody tr th:only-of-type {\n",
       "        vertical-align: middle;\n",
       "    }\n",
       "\n",
       "    .dataframe tbody tr th {\n",
       "        vertical-align: top;\n",
       "    }\n",
       "\n",
       "    .dataframe thead th {\n",
       "        text-align: right;\n",
       "    }\n",
       "</style>\n",
       "<table border=\"1\" class=\"dataframe\">\n",
       "  <thead>\n",
       "    <tr style=\"text-align: right;\">\n",
       "      <th></th>\n",
       "      <th>AF</th>\n",
       "      <th>COB</th>\n",
       "      <th>DOFDB</th>\n",
       "      <th>date begin</th>\n",
       "      <th>date end</th>\n",
       "      <th>feeder</th>\n",
       "      <th>month</th>\n",
       "    </tr>\n",
       "  </thead>\n",
       "  <tbody>\n",
       "    <tr>\n",
       "      <th>0</th>\n",
       "      <td>A</td>\n",
       "      <td>A</td>\n",
       "      <td>5</td>\n",
       "      <td>1398/01/01</td>\n",
       "      <td>1398/01/01</td>\n",
       "      <td>A</td>\n",
       "      <td>01</td>\n",
       "    </tr>\n",
       "    <tr>\n",
       "      <th>1</th>\n",
       "      <td>B</td>\n",
       "      <td>B</td>\n",
       "      <td>2</td>\n",
       "      <td>1398/01/01</td>\n",
       "      <td>1398/01/01</td>\n",
       "      <td>B</td>\n",
       "      <td>01</td>\n",
       "    </tr>\n",
       "    <tr>\n",
       "      <th>2</th>\n",
       "      <td>A</td>\n",
       "      <td>C</td>\n",
       "      <td>42</td>\n",
       "      <td>1398/01/01</td>\n",
       "      <td>1398/01/01</td>\n",
       "      <td>C</td>\n",
       "      <td>01</td>\n",
       "    </tr>\n",
       "    <tr>\n",
       "      <th>3</th>\n",
       "      <td>A</td>\n",
       "      <td>D</td>\n",
       "      <td>65</td>\n",
       "      <td>1398/01/02</td>\n",
       "      <td>1398/01/02</td>\n",
       "      <td>D</td>\n",
       "      <td>01</td>\n",
       "    </tr>\n",
       "    <tr>\n",
       "      <th>4</th>\n",
       "      <td>C</td>\n",
       "      <td>E</td>\n",
       "      <td>24</td>\n",
       "      <td>1398/01/02</td>\n",
       "      <td>1398/01/02</td>\n",
       "      <td>A</td>\n",
       "      <td>01</td>\n",
       "    </tr>\n",
       "  </tbody>\n",
       "</table>\n",
       "</div>"
      ],
      "text/plain": [
       "  AF COB  DOFDB  date begin    date end feeder month\n",
       "0  A   A      5  1398/01/01  1398/01/01      A    01\n",
       "1  B   B      2  1398/01/01  1398/01/01      B    01\n",
       "2  A   C     42  1398/01/01  1398/01/01      C    01\n",
       "3  A   D     65  1398/01/02  1398/01/02      D    01\n",
       "4  C   E     24  1398/01/02  1398/01/02      A    01"
      ]
     },
     "execution_count": 119,
     "metadata": {},
     "output_type": "execute_result"
    }
   ],
   "source": [
    "dataset.reset_index()\n",
    "dataset.head()"
   ]
  },
  {
   "cell_type": "code",
   "execution_count": 120,
   "metadata": {},
   "outputs": [
    {
     "data": {
      "text/plain": [
       "AF                     I\n",
       "COB                    D\n",
       "DOFDB              47961\n",
       "date begin    1398/01/06\n",
       "date end      1398/02/08\n",
       "feeder                 I\n",
       "month                 01\n",
       "Name: 26, dtype: object"
      ]
     },
     "execution_count": 120,
     "metadata": {},
     "output_type": "execute_result"
    }
   ],
   "source": [
    "dataset.loc[dataset['DOFDB'].idxmax()]"
   ]
  },
  {
   "cell_type": "markdown",
   "metadata": {},
   "source": [
    "# categorical encoding(one hot encoding)"
   ]
  },
  {
   "cell_type": "code",
   "execution_count": 121,
   "metadata": {},
   "outputs": [
    {
     "name": "stdout",
     "output_type": "stream",
     "text": [
      "['A' 'B' 'C' 'D' 'E' 'F' 'G' 'H' 'I' 'J' 'K' 'L' 'M' 'N' 'O']\n",
      "Index(['A', 'B', 'C', 'D', 'E', 'F', 'G', 'H', 'I', 'J', 'K', 'L', 'M', 'N',\n",
      "       'O'],\n",
      "      dtype='object')\n"
     ]
    },
    {
     "data": {
      "text/html": [
       "<div>\n",
       "<style scoped>\n",
       "    .dataframe tbody tr th:only-of-type {\n",
       "        vertical-align: middle;\n",
       "    }\n",
       "\n",
       "    .dataframe tbody tr th {\n",
       "        vertical-align: top;\n",
       "    }\n",
       "\n",
       "    .dataframe thead th {\n",
       "        text-align: right;\n",
       "    }\n",
       "</style>\n",
       "<table border=\"1\" class=\"dataframe\">\n",
       "  <thead>\n",
       "    <tr style=\"text-align: right;\">\n",
       "      <th></th>\n",
       "      <th>AF</th>\n",
       "      <th>COB</th>\n",
       "      <th>DOFDB</th>\n",
       "      <th>date begin</th>\n",
       "      <th>date end</th>\n",
       "      <th>feeder</th>\n",
       "      <th>month</th>\n",
       "      <th>A</th>\n",
       "      <th>B</th>\n",
       "      <th>C</th>\n",
       "      <th>...</th>\n",
       "      <th>F</th>\n",
       "      <th>G</th>\n",
       "      <th>H</th>\n",
       "      <th>I</th>\n",
       "      <th>J</th>\n",
       "      <th>K</th>\n",
       "      <th>L</th>\n",
       "      <th>M</th>\n",
       "      <th>N</th>\n",
       "      <th>O</th>\n",
       "    </tr>\n",
       "  </thead>\n",
       "  <tbody>\n",
       "    <tr>\n",
       "      <th>0</th>\n",
       "      <td>A</td>\n",
       "      <td>A</td>\n",
       "      <td>5</td>\n",
       "      <td>1398/01/01</td>\n",
       "      <td>1398/01/01</td>\n",
       "      <td>A</td>\n",
       "      <td>01</td>\n",
       "      <td>1</td>\n",
       "      <td>0</td>\n",
       "      <td>0</td>\n",
       "      <td>...</td>\n",
       "      <td>0</td>\n",
       "      <td>0</td>\n",
       "      <td>0</td>\n",
       "      <td>0</td>\n",
       "      <td>0</td>\n",
       "      <td>0</td>\n",
       "      <td>0</td>\n",
       "      <td>0</td>\n",
       "      <td>0</td>\n",
       "      <td>0</td>\n",
       "    </tr>\n",
       "    <tr>\n",
       "      <th>1</th>\n",
       "      <td>B</td>\n",
       "      <td>B</td>\n",
       "      <td>2</td>\n",
       "      <td>1398/01/01</td>\n",
       "      <td>1398/01/01</td>\n",
       "      <td>B</td>\n",
       "      <td>01</td>\n",
       "      <td>0</td>\n",
       "      <td>1</td>\n",
       "      <td>0</td>\n",
       "      <td>...</td>\n",
       "      <td>0</td>\n",
       "      <td>0</td>\n",
       "      <td>0</td>\n",
       "      <td>0</td>\n",
       "      <td>0</td>\n",
       "      <td>0</td>\n",
       "      <td>0</td>\n",
       "      <td>0</td>\n",
       "      <td>0</td>\n",
       "      <td>0</td>\n",
       "    </tr>\n",
       "    <tr>\n",
       "      <th>2</th>\n",
       "      <td>A</td>\n",
       "      <td>C</td>\n",
       "      <td>42</td>\n",
       "      <td>1398/01/01</td>\n",
       "      <td>1398/01/01</td>\n",
       "      <td>C</td>\n",
       "      <td>01</td>\n",
       "      <td>0</td>\n",
       "      <td>0</td>\n",
       "      <td>1</td>\n",
       "      <td>...</td>\n",
       "      <td>0</td>\n",
       "      <td>0</td>\n",
       "      <td>0</td>\n",
       "      <td>0</td>\n",
       "      <td>0</td>\n",
       "      <td>0</td>\n",
       "      <td>0</td>\n",
       "      <td>0</td>\n",
       "      <td>0</td>\n",
       "      <td>0</td>\n",
       "    </tr>\n",
       "    <tr>\n",
       "      <th>3</th>\n",
       "      <td>A</td>\n",
       "      <td>D</td>\n",
       "      <td>65</td>\n",
       "      <td>1398/01/02</td>\n",
       "      <td>1398/01/02</td>\n",
       "      <td>D</td>\n",
       "      <td>01</td>\n",
       "      <td>0</td>\n",
       "      <td>0</td>\n",
       "      <td>0</td>\n",
       "      <td>...</td>\n",
       "      <td>0</td>\n",
       "      <td>0</td>\n",
       "      <td>0</td>\n",
       "      <td>0</td>\n",
       "      <td>0</td>\n",
       "      <td>0</td>\n",
       "      <td>0</td>\n",
       "      <td>0</td>\n",
       "      <td>0</td>\n",
       "      <td>0</td>\n",
       "    </tr>\n",
       "    <tr>\n",
       "      <th>4</th>\n",
       "      <td>C</td>\n",
       "      <td>E</td>\n",
       "      <td>24</td>\n",
       "      <td>1398/01/02</td>\n",
       "      <td>1398/01/02</td>\n",
       "      <td>A</td>\n",
       "      <td>01</td>\n",
       "      <td>1</td>\n",
       "      <td>0</td>\n",
       "      <td>0</td>\n",
       "      <td>...</td>\n",
       "      <td>0</td>\n",
       "      <td>0</td>\n",
       "      <td>0</td>\n",
       "      <td>0</td>\n",
       "      <td>0</td>\n",
       "      <td>0</td>\n",
       "      <td>0</td>\n",
       "      <td>0</td>\n",
       "      <td>0</td>\n",
       "      <td>0</td>\n",
       "    </tr>\n",
       "  </tbody>\n",
       "</table>\n",
       "<p>5 rows × 79 columns</p>\n",
       "</div>"
      ],
      "text/plain": [
       "  AF COB  DOFDB  date begin    date end feeder month  A  B  C  ...  F  G  H  \\\n",
       "0  A   A      5  1398/01/01  1398/01/01      A    01  1  0  0  ...  0  0  0   \n",
       "1  B   B      2  1398/01/01  1398/01/01      B    01  0  1  0  ...  0  0  0   \n",
       "2  A   C     42  1398/01/01  1398/01/01      C    01  0  0  1  ...  0  0  0   \n",
       "3  A   D     65  1398/01/02  1398/01/02      D    01  0  0  0  ...  0  0  0   \n",
       "4  C   E     24  1398/01/02  1398/01/02      A    01  1  0  0  ...  0  0  0   \n",
       "\n",
       "   I  J  K  L  M  N  O  \n",
       "0  0  0  0  0  0  0  0  \n",
       "1  0  0  0  0  0  0  0  \n",
       "2  0  0  0  0  0  0  0  \n",
       "3  0  0  0  0  0  0  0  \n",
       "4  0  0  0  0  0  0  0  \n",
       "\n",
       "[5 rows x 79 columns]"
      ]
     },
     "execution_count": 121,
     "metadata": {},
     "output_type": "execute_result"
    }
   ],
   "source": [
    "Feeder = dataset['feeder'].unique()\n",
    "print(Feeder)\n",
    "Feeder = pd.get_dummies(dataset['feeder'],drop_first=False)\n",
    "print(Feeder.columns)\n",
    "\n",
    "COB = dataset['COB'].unique()\n",
    "COB = pd.get_dummies(dataset['COB'],drop_first=False)\n",
    "AF = dataset['AF'].unique()\n",
    "AF = pd.get_dummies(dataset['AF'],drop_first=False)\n",
    "\n",
    "dataset = pd.concat([dataset,Feeder], axis =1)\n",
    "dataset = pd.concat([dataset,COB], axis =1)\n",
    "dataset = pd.concat([dataset,AF], axis =1)\n",
    "dataset.head()\n"
   ]
  },
  {
   "cell_type": "markdown",
   "metadata": {},
   "source": [
    "# Data Analysis"
   ]
  },
  {
   "cell_type": "code",
   "execution_count": 122,
   "metadata": {},
   "outputs": [
    {
     "data": {
      "text/plain": [
       "<AxesSubplot:xlabel='month', ylabel='count'>"
      ]
     },
     "execution_count": 122,
     "metadata": {},
     "output_type": "execute_result"
    },
    {
     "data": {
      "image/png": "[encoded data removed]",
      "text/plain": [
       "<Figure size 1080x720 with 1 Axes>"
      ]
     },
     "metadata": {
      "needs_background": "light"
     },
     "output_type": "display_data"
    }
   ],
   "source": [
    "######### Events Per Month\n",
    "dim=(15,10)\n",
    "fig,ax = plt.subplots(figsize=dim)\n",
    "sns.countplot(x='month', ax=ax, data=dataset)"
   ]
  },
  {
   "cell_type": "code",
   "execution_count": 154,
   "metadata": {},
   "outputs": [
    {
     "data": {
      "image/png": "[encoded data removed]",
      "text/plain": [
       "<Figure size 1440x720 with 1 Axes>"
      ]
     },
     "metadata": {
      "needs_background": "light"
     },
     "output_type": "display_data"
    }
   ],
   "source": [
    "######## Outage duration per feeder\n",
    "fig,ax = plt.subplots(figsize=dim)\n",
    "demand_plot = sns.boxplot(x=\"feeder\",y=\"DOFDB\",ax=ax, data=dataset)\n",
    "\n",
    "for item in demand_plot.get_xticklabels():\n",
    "    item.set_rotation(45)\n"
   ]
  },
  {
   "cell_type": "code",
   "execution_count": 112,
   "metadata": {
    "scrolled": true
   },
   "outputs": [
    {
     "data": {
      "image/png": "[encoded data removed]",
      "text/plain": [
       "<Figure size 1080x936 with 2 Axes>"
      ]
     },
     "metadata": {
      "needs_background": "light"
     },
     "output_type": "display_data"
    }
   ],
   "source": [
    "\n",
    "import matplotlib.pyplot as plt\n",
    "import seaborn as sns\n",
    "corrmat = dataset.corr()\n",
    "f,ax = plt.subplots(figsize=(15,13))\n",
    "sns.heatmap(corrmat,vmax=.8,square=True);"
   ]
  },
  {
   "cell_type": "markdown",
   "metadata": {},
   "source": [
    "# Data preparation"
   ]
  },
  {
   "cell_type": "code",
   "execution_count": 127,
   "metadata": {},
   "outputs": [
    {
     "data": {
      "text/plain": [
       "0     5\n",
       "1     2\n",
       "2    42\n",
       "3    65\n",
       "4    24\n",
       "Name: DOFDB, dtype: int64"
      ]
     },
     "execution_count": 127,
     "metadata": {},
     "output_type": "execute_result"
    }
   ],
   "source": [
    "output = dataset.iloc[:,2]\n",
    "features = dataset[dataset.columns.difference(['DOFDB','date begin','date end','month','AF','COB','feeder'])]\n",
    "\n",
    "features.head()\n",
    "output.head()"
   ]
  },
  {
   "cell_type": "code",
   "execution_count": 130,
   "metadata": {},
   "outputs": [],
   "source": [
    "from sklearn.model_selection import train_test_split\n",
    "features_train,features_test,duration_train,duration_test = train_test_split(features,output,test_size = 0.3, random_state =0)"
   ]
  },
  {
   "cell_type": "markdown",
   "metadata": {},
   "source": [
    "# SVR"
   ]
  },
  {
   "cell_type": "code",
   "execution_count": 143,
   "metadata": {},
   "outputs": [],
   "source": [
    "def fit_and_pred_grid_classifier(regressor, param_grid, X_train, X_test,y_train,y_test, folds=5):\n",
    "    grid_search = GridSearchCV(estimator = regressor, param_grid = param_grid,cv=folds, n_jobs = -1, verbose =0)\n",
    "    grid_search.fit(X_train,y_train)\n",
    "    best_accuracy = grid_search.best_score_\n",
    "    best_parameters = grid_search.best_params_\n",
    "    \n",
    "    grid_search_pred = grid_search.predict(X_test)\n",
    "    \n",
    "    \n",
    "    print(\"MSE:\" + str(mean_squared_error(y_test,grid_search_pred)))\n",
    "    print(\"R2:\" + str(r2_score(y_test,grid_search_pred)))\n",
    "    print(\"best parameter combination:\" + str(best_parameters))  \n",
    "    return grid_search_pred"
   ]
  },
  {
   "cell_type": "code",
   "execution_count": 152,
   "metadata": {},
   "outputs": [
    {
     "name": "stdout",
     "output_type": "stream",
     "text": [
      "MSE:153172.1607927058\n",
      "R2:-0.010922469740002105\n",
      "best parameter combination:{'C': 20, 'epsilon': 10, 'gamma': 0.5, 'kernel': 'rbf'}\n"
     ]
    }
   ],
   "source": [
    "from sklearn.svm import SVR\n",
    "from sklearn.model_selection import GridSearchCV\n",
    "from sklearn.metrics import accuracy_score, confusion_matrix, r2_score, mean_squared_error\n",
    "regressor = SVR(kernel = 'rbf', C=10,gamma=0.1)\n",
    "param_grid= [\n",
    "    {\n",
    "        'C': [400, 450, 500, 550, 600],\n",
    "             'kernel': ['linear'],\n",
    "             'epsilon': [550, 600, 650, 700, 750],},\n",
    "             {\n",
    "                 'C': [12,13,14,15,20],\n",
    "                 'kernel': ['rbf','sigmoid'],\n",
    "                 'gamma': [0.3, 0.4, 0.5, 1],\n",
    "                 'epsilon': [10 ,100 , 500, 750, 1000],\n",
    "             },\n",
    "            ]\n",
    "             \n",
    "pred = fit_and_pred_grid_classifier(regressor,param_grid,features_train,features_test,duration_train,duration_test)"
   ]
  },
  {
   "cell_type": "code",
   "execution_count": 153,
   "metadata": {},
   "outputs": [
    {
     "ename": "ValueError",
     "evalue": "Grouper and axis must be same length",
     "output_type": "error",
     "traceback": [
      "\u001b[1;31m---------------------------------------------------------------------------\u001b[0m",
      "\u001b[1;31mValueError\u001b[0m                                Traceback (most recent call last)",
      "\u001b[1;32m<ipython-input-153-44f69baa5e3c>\u001b[0m in \u001b[0;36m<module>\u001b[1;34m\u001b[0m\n\u001b[0;32m      5\u001b[0m \u001b[0mfig\u001b[0m\u001b[1;33m,\u001b[0m \u001b[0max\u001b[0m \u001b[1;33m=\u001b[0m \u001b[0mplt\u001b[0m\u001b[1;33m.\u001b[0m\u001b[0msubplots\u001b[0m\u001b[1;33m(\u001b[0m\u001b[0mfigsize\u001b[0m\u001b[1;33m=\u001b[0m\u001b[0mdim\u001b[0m\u001b[1;33m)\u001b[0m\u001b[1;33m\u001b[0m\u001b[1;33m\u001b[0m\u001b[0m\n\u001b[0;32m      6\u001b[0m \u001b[0max\u001b[0m\u001b[1;33m.\u001b[0m\u001b[0mset_xticks\u001b[0m\u001b[1;33m(\u001b[0m\u001b[1;33m[\u001b[0m\u001b[1;33m]\u001b[0m\u001b[1;33m)\u001b[0m\u001b[1;33m\u001b[0m\u001b[1;33m\u001b[0m\u001b[0m\n\u001b[1;32m----> 7\u001b[1;33m \u001b[0mplot_1\u001b[0m \u001b[1;33m=\u001b[0m \u001b[0msns\u001b[0m\u001b[1;33m.\u001b[0m\u001b[0mswarmplot\u001b[0m\u001b[1;33m(\u001b[0m\u001b[0mx\u001b[0m\u001b[1;33m=\u001b[0m\u001b[0mX_grid\u001b[0m\u001b[1;33m,\u001b[0m \u001b[0my\u001b[0m\u001b[1;33m=\u001b[0m\u001b[0mduration_test\u001b[0m\u001b[1;33m,\u001b[0m\u001b[0mcolor\u001b[0m\u001b[1;33m=\u001b[0m\u001b[1;34m'green'\u001b[0m\u001b[1;33m)\u001b[0m\u001b[1;33m\u001b[0m\u001b[1;33m\u001b[0m\u001b[0m\n\u001b[0m\u001b[0;32m      8\u001b[0m \u001b[0mplot_2\u001b[0m\u001b[1;33m=\u001b[0m \u001b[0msns\u001b[0m\u001b[1;33m.\u001b[0m\u001b[0mswarmplot\u001b[0m\u001b[1;33m(\u001b[0m\u001b[0mx\u001b[0m\u001b[1;33m=\u001b[0m\u001b[0mX_grid\u001b[0m\u001b[1;33m,\u001b[0m \u001b[0my\u001b[0m\u001b[1;33m=\u001b[0m\u001b[0mpred\u001b[0m\u001b[1;33m,\u001b[0m\u001b[0mcolor\u001b[0m\u001b[1;33m=\u001b[0m\u001b[1;34m'red'\u001b[0m\u001b[1;33m)\u001b[0m\u001b[1;33m\u001b[0m\u001b[1;33m\u001b[0m\u001b[0m\n\u001b[0;32m      9\u001b[0m \u001b[0msns\u001b[0m\u001b[1;33m.\u001b[0m\u001b[0mset_context\u001b[0m\u001b[1;33m(\u001b[0m\u001b[1;34m\"notebook\"\u001b[0m\u001b[1;33m,\u001b[0m\u001b[0mfont_scale\u001b[0m\u001b[1;33m=\u001b[0m\u001b[1;36m1.5\u001b[0m\u001b[1;33m,\u001b[0m \u001b[0mrc\u001b[0m\u001b[1;33m=\u001b[0m\u001b[1;33m{\u001b[0m\u001b[1;34m\"lines.linewidth\"\u001b[0m\u001b[1;33m:\u001b[0m\u001b[1;36m2.5\u001b[0m\u001b[1;33m}\u001b[0m\u001b[1;33m)\u001b[0m\u001b[1;33m\u001b[0m\u001b[1;33m\u001b[0m\u001b[0m\n",
      "\u001b[1;32m~\\anaconda3\\lib\\site-packages\\seaborn\\_decorators.py\u001b[0m in \u001b[0;36minner_f\u001b[1;34m(*args, **kwargs)\u001b[0m\n\u001b[0;32m     44\u001b[0m             )\n\u001b[0;32m     45\u001b[0m         \u001b[0mkwargs\u001b[0m\u001b[1;33m.\u001b[0m\u001b[0mupdate\u001b[0m\u001b[1;33m(\u001b[0m\u001b[1;33m{\u001b[0m\u001b[0mk\u001b[0m\u001b[1;33m:\u001b[0m \u001b[0marg\u001b[0m \u001b[1;32mfor\u001b[0m \u001b[0mk\u001b[0m\u001b[1;33m,\u001b[0m \u001b[0marg\u001b[0m \u001b[1;32min\u001b[0m \u001b[0mzip\u001b[0m\u001b[1;33m(\u001b[0m\u001b[0msig\u001b[0m\u001b[1;33m.\u001b[0m\u001b[0mparameters\u001b[0m\u001b[1;33m,\u001b[0m \u001b[0margs\u001b[0m\u001b[1;33m)\u001b[0m\u001b[1;33m}\u001b[0m\u001b[1;33m)\u001b[0m\u001b[1;33m\u001b[0m\u001b[1;33m\u001b[0m\u001b[0m\n\u001b[1;32m---> 46\u001b[1;33m         \u001b[1;32mreturn\u001b[0m \u001b[0mf\u001b[0m\u001b[1;33m(\u001b[0m\u001b[1;33m**\u001b[0m\u001b[0mkwargs\u001b[0m\u001b[1;33m)\u001b[0m\u001b[1;33m\u001b[0m\u001b[1;33m\u001b[0m\u001b[0m\n\u001b[0m\u001b[0;32m     47\u001b[0m     \u001b[1;32mreturn\u001b[0m \u001b[0minner_f\u001b[0m\u001b[1;33m\u001b[0m\u001b[1;33m\u001b[0m\u001b[0m\n\u001b[0;32m     48\u001b[0m \u001b[1;33m\u001b[0m\u001b[0m\n",
      "\u001b[1;32m~\\anaconda3\\lib\\site-packages\\seaborn\\categorical.py\u001b[0m in \u001b[0;36mswarmplot\u001b[1;34m(x, y, hue, data, order, hue_order, dodge, orient, color, palette, size, edgecolor, linewidth, ax, **kwargs)\u001b[0m\n\u001b[0;32m   2989\u001b[0m         \u001b[0mwarnings\u001b[0m\u001b[1;33m.\u001b[0m\u001b[0mwarn\u001b[0m\u001b[1;33m(\u001b[0m\u001b[0mmsg\u001b[0m\u001b[1;33m,\u001b[0m \u001b[0mUserWarning\u001b[0m\u001b[1;33m)\u001b[0m\u001b[1;33m\u001b[0m\u001b[1;33m\u001b[0m\u001b[0m\n\u001b[0;32m   2990\u001b[0m \u001b[1;33m\u001b[0m\u001b[0m\n\u001b[1;32m-> 2991\u001b[1;33m     plotter = _SwarmPlotter(x, y, hue, data, order, hue_order,\n\u001b[0m\u001b[0;32m   2992\u001b[0m                             dodge, orient, color, palette)\n\u001b[0;32m   2993\u001b[0m     \u001b[1;32mif\u001b[0m \u001b[0max\u001b[0m \u001b[1;32mis\u001b[0m \u001b[1;32mNone\u001b[0m\u001b[1;33m:\u001b[0m\u001b[1;33m\u001b[0m\u001b[1;33m\u001b[0m\u001b[0m\n",
      "\u001b[1;32m~\\anaconda3\\lib\\site-packages\\seaborn\\categorical.py\u001b[0m in \u001b[0;36m__init__\u001b[1;34m(self, x, y, hue, data, order, hue_order, dodge, orient, color, palette)\u001b[0m\n\u001b[0;32m   1170\u001b[0m                  dodge, orient, color, palette):\n\u001b[0;32m   1171\u001b[0m         \u001b[1;34m\"\"\"Initialize the plotter.\"\"\"\u001b[0m\u001b[1;33m\u001b[0m\u001b[1;33m\u001b[0m\u001b[0m\n\u001b[1;32m-> 1172\u001b[1;33m         \u001b[0mself\u001b[0m\u001b[1;33m.\u001b[0m\u001b[0mestablish_variables\u001b[0m\u001b[1;33m(\u001b[0m\u001b[0mx\u001b[0m\u001b[1;33m,\u001b[0m \u001b[0my\u001b[0m\u001b[1;33m,\u001b[0m \u001b[0mhue\u001b[0m\u001b[1;33m,\u001b[0m \u001b[0mdata\u001b[0m\u001b[1;33m,\u001b[0m \u001b[0morient\u001b[0m\u001b[1;33m,\u001b[0m \u001b[0morder\u001b[0m\u001b[1;33m,\u001b[0m \u001b[0mhue_order\u001b[0m\u001b[1;33m)\u001b[0m\u001b[1;33m\u001b[0m\u001b[1;33m\u001b[0m\u001b[0m\n\u001b[0m\u001b[0;32m   1173\u001b[0m         \u001b[0mself\u001b[0m\u001b[1;33m.\u001b[0m\u001b[0mestablish_colors\u001b[0m\u001b[1;33m(\u001b[0m\u001b[0mcolor\u001b[0m\u001b[1;33m,\u001b[0m \u001b[0mpalette\u001b[0m\u001b[1;33m,\u001b[0m \u001b[1;36m1\u001b[0m\u001b[1;33m)\u001b[0m\u001b[1;33m\u001b[0m\u001b[1;33m\u001b[0m\u001b[0m\n\u001b[0;32m   1174\u001b[0m \u001b[1;33m\u001b[0m\u001b[0m\n",
      "\u001b[1;32m~\\anaconda3\\lib\\site-packages\\seaborn\\categorical.py\u001b[0m in \u001b[0;36mestablish_variables\u001b[1;34m(self, x, y, hue, data, orient, order, hue_order, units)\u001b[0m\n\u001b[0;32m    204\u001b[0m \u001b[1;33m\u001b[0m\u001b[0m\n\u001b[0;32m    205\u001b[0m                 \u001b[1;31m# Group the numeric data\u001b[0m\u001b[1;33m\u001b[0m\u001b[1;33m\u001b[0m\u001b[1;33m\u001b[0m\u001b[0m\n\u001b[1;32m--> 206\u001b[1;33m                 plot_data, value_label = self._group_longform(vals, groups,\n\u001b[0m\u001b[0;32m    207\u001b[0m                                                               group_names)\n\u001b[0;32m    208\u001b[0m \u001b[1;33m\u001b[0m\u001b[0m\n",
      "\u001b[1;32m~\\anaconda3\\lib\\site-packages\\seaborn\\categorical.py\u001b[0m in \u001b[0;36m_group_longform\u001b[1;34m(self, vals, grouper, order)\u001b[0m\n\u001b[0;32m    251\u001b[0m \u001b[1;33m\u001b[0m\u001b[0m\n\u001b[0;32m    252\u001b[0m         \u001b[1;31m# Group the val data\u001b[0m\u001b[1;33m\u001b[0m\u001b[1;33m\u001b[0m\u001b[1;33m\u001b[0m\u001b[0m\n\u001b[1;32m--> 253\u001b[1;33m         \u001b[0mgrouped_vals\u001b[0m \u001b[1;33m=\u001b[0m \u001b[0mvals\u001b[0m\u001b[1;33m.\u001b[0m\u001b[0mgroupby\u001b[0m\u001b[1;33m(\u001b[0m\u001b[0mgrouper\u001b[0m\u001b[1;33m)\u001b[0m\u001b[1;33m\u001b[0m\u001b[1;33m\u001b[0m\u001b[0m\n\u001b[0m\u001b[0;32m    254\u001b[0m         \u001b[0mout_data\u001b[0m \u001b[1;33m=\u001b[0m \u001b[1;33m[\u001b[0m\u001b[1;33m]\u001b[0m\u001b[1;33m\u001b[0m\u001b[1;33m\u001b[0m\u001b[0m\n\u001b[0;32m    255\u001b[0m         \u001b[1;32mfor\u001b[0m \u001b[0mg\u001b[0m \u001b[1;32min\u001b[0m \u001b[0morder\u001b[0m\u001b[1;33m:\u001b[0m\u001b[1;33m\u001b[0m\u001b[1;33m\u001b[0m\u001b[0m\n",
      "\u001b[1;32m~\\anaconda3\\lib\\site-packages\\pandas\\core\\series.py\u001b[0m in \u001b[0;36mgroupby\u001b[1;34m(self, by, axis, level, as_index, sort, group_keys, squeeze, observed, dropna)\u001b[0m\n\u001b[0;32m   1721\u001b[0m         \u001b[0maxis\u001b[0m \u001b[1;33m=\u001b[0m \u001b[0mself\u001b[0m\u001b[1;33m.\u001b[0m\u001b[0m_get_axis_number\u001b[0m\u001b[1;33m(\u001b[0m\u001b[0maxis\u001b[0m\u001b[1;33m)\u001b[0m\u001b[1;33m\u001b[0m\u001b[1;33m\u001b[0m\u001b[0m\n\u001b[0;32m   1722\u001b[0m \u001b[1;33m\u001b[0m\u001b[0m\n\u001b[1;32m-> 1723\u001b[1;33m         return SeriesGroupBy(\n\u001b[0m\u001b[0;32m   1724\u001b[0m             \u001b[0mobj\u001b[0m\u001b[1;33m=\u001b[0m\u001b[0mself\u001b[0m\u001b[1;33m,\u001b[0m\u001b[1;33m\u001b[0m\u001b[1;33m\u001b[0m\u001b[0m\n\u001b[0;32m   1725\u001b[0m             \u001b[0mkeys\u001b[0m\u001b[1;33m=\u001b[0m\u001b[0mby\u001b[0m\u001b[1;33m,\u001b[0m\u001b[1;33m\u001b[0m\u001b[1;33m\u001b[0m\u001b[0m\n",
      "\u001b[1;32m~\\anaconda3\\lib\\site-packages\\pandas\\core\\groupby\\groupby.py\u001b[0m in \u001b[0;36m__init__\u001b[1;34m(self, obj, keys, axis, level, grouper, exclusions, selection, as_index, sort, group_keys, squeeze, observed, mutated, dropna)\u001b[0m\n\u001b[0;32m    523\u001b[0m             \u001b[1;32mfrom\u001b[0m \u001b[0mpandas\u001b[0m\u001b[1;33m.\u001b[0m\u001b[0mcore\u001b[0m\u001b[1;33m.\u001b[0m\u001b[0mgroupby\u001b[0m\u001b[1;33m.\u001b[0m\u001b[0mgrouper\u001b[0m \u001b[1;32mimport\u001b[0m \u001b[0mget_grouper\u001b[0m\u001b[1;33m\u001b[0m\u001b[1;33m\u001b[0m\u001b[0m\n\u001b[0;32m    524\u001b[0m \u001b[1;33m\u001b[0m\u001b[0m\n\u001b[1;32m--> 525\u001b[1;33m             grouper, exclusions, obj = get_grouper(\n\u001b[0m\u001b[0;32m    526\u001b[0m                 \u001b[0mobj\u001b[0m\u001b[1;33m,\u001b[0m\u001b[1;33m\u001b[0m\u001b[1;33m\u001b[0m\u001b[0m\n\u001b[0;32m    527\u001b[0m                 \u001b[0mkeys\u001b[0m\u001b[1;33m,\u001b[0m\u001b[1;33m\u001b[0m\u001b[1;33m\u001b[0m\u001b[0m\n",
      "\u001b[1;32m~\\anaconda3\\lib\\site-packages\\pandas\\core\\groupby\\grouper.py\u001b[0m in \u001b[0;36mget_grouper\u001b[1;34m(obj, key, axis, level, sort, observed, mutated, validate, dropna)\u001b[0m\n\u001b[0;32m    796\u001b[0m         \u001b[1;31m# allow us to passing the actual Grouping as the gpr\u001b[0m\u001b[1;33m\u001b[0m\u001b[1;33m\u001b[0m\u001b[1;33m\u001b[0m\u001b[0m\n\u001b[0;32m    797\u001b[0m         ping = (\n\u001b[1;32m--> 798\u001b[1;33m             Grouping(\n\u001b[0m\u001b[0;32m    799\u001b[0m                 \u001b[0mgroup_axis\u001b[0m\u001b[1;33m,\u001b[0m\u001b[1;33m\u001b[0m\u001b[1;33m\u001b[0m\u001b[0m\n\u001b[0;32m    800\u001b[0m                 \u001b[0mgpr\u001b[0m\u001b[1;33m,\u001b[0m\u001b[1;33m\u001b[0m\u001b[1;33m\u001b[0m\u001b[0m\n",
      "\u001b[1;32m~\\anaconda3\\lib\\site-packages\\pandas\\core\\groupby\\grouper.py\u001b[0m in \u001b[0;36m__init__\u001b[1;34m(self, index, grouper, obj, name, level, sort, observed, in_axis, dropna)\u001b[0m\n\u001b[0;32m    425\u001b[0m         \u001b[0mself\u001b[0m\u001b[1;33m.\u001b[0m\u001b[0mname\u001b[0m \u001b[1;33m=\u001b[0m \u001b[0mname\u001b[0m\u001b[1;33m\u001b[0m\u001b[1;33m\u001b[0m\u001b[0m\n\u001b[0;32m    426\u001b[0m         \u001b[0mself\u001b[0m\u001b[1;33m.\u001b[0m\u001b[0mlevel\u001b[0m \u001b[1;33m=\u001b[0m \u001b[0mlevel\u001b[0m\u001b[1;33m\u001b[0m\u001b[1;33m\u001b[0m\u001b[0m\n\u001b[1;32m--> 427\u001b[1;33m         \u001b[0mself\u001b[0m\u001b[1;33m.\u001b[0m\u001b[0mgrouper\u001b[0m \u001b[1;33m=\u001b[0m \u001b[0m_convert_grouper\u001b[0m\u001b[1;33m(\u001b[0m\u001b[0mindex\u001b[0m\u001b[1;33m,\u001b[0m \u001b[0mgrouper\u001b[0m\u001b[1;33m)\u001b[0m\u001b[1;33m\u001b[0m\u001b[1;33m\u001b[0m\u001b[0m\n\u001b[0m\u001b[0;32m    428\u001b[0m         \u001b[0mself\u001b[0m\u001b[1;33m.\u001b[0m\u001b[0mall_grouper\u001b[0m \u001b[1;33m=\u001b[0m \u001b[1;32mNone\u001b[0m\u001b[1;33m\u001b[0m\u001b[1;33m\u001b[0m\u001b[0m\n\u001b[0;32m    429\u001b[0m         \u001b[0mself\u001b[0m\u001b[1;33m.\u001b[0m\u001b[0mindex\u001b[0m \u001b[1;33m=\u001b[0m \u001b[0mindex\u001b[0m\u001b[1;33m\u001b[0m\u001b[1;33m\u001b[0m\u001b[0m\n",
      "\u001b[1;32m~\\anaconda3\\lib\\site-packages\\pandas\\core\\groupby\\grouper.py\u001b[0m in \u001b[0;36m_convert_grouper\u001b[1;34m(axis, grouper)\u001b[0m\n\u001b[0;32m    837\u001b[0m     \u001b[1;32melif\u001b[0m \u001b[0misinstance\u001b[0m\u001b[1;33m(\u001b[0m\u001b[0mgrouper\u001b[0m\u001b[1;33m,\u001b[0m \u001b[1;33m(\u001b[0m\u001b[0mlist\u001b[0m\u001b[1;33m,\u001b[0m \u001b[0mSeries\u001b[0m\u001b[1;33m,\u001b[0m \u001b[0mIndex\u001b[0m\u001b[1;33m,\u001b[0m \u001b[0mnp\u001b[0m\u001b[1;33m.\u001b[0m\u001b[0mndarray\u001b[0m\u001b[1;33m)\u001b[0m\u001b[1;33m)\u001b[0m\u001b[1;33m:\u001b[0m\u001b[1;33m\u001b[0m\u001b[1;33m\u001b[0m\u001b[0m\n\u001b[0;32m    838\u001b[0m         \u001b[1;32mif\u001b[0m \u001b[0mlen\u001b[0m\u001b[1;33m(\u001b[0m\u001b[0mgrouper\u001b[0m\u001b[1;33m)\u001b[0m \u001b[1;33m!=\u001b[0m \u001b[0mlen\u001b[0m\u001b[1;33m(\u001b[0m\u001b[0maxis\u001b[0m\u001b[1;33m)\u001b[0m\u001b[1;33m:\u001b[0m\u001b[1;33m\u001b[0m\u001b[1;33m\u001b[0m\u001b[0m\n\u001b[1;32m--> 839\u001b[1;33m             \u001b[1;32mraise\u001b[0m \u001b[0mValueError\u001b[0m\u001b[1;33m(\u001b[0m\u001b[1;34m\"Grouper and axis must be same length\"\u001b[0m\u001b[1;33m)\u001b[0m\u001b[1;33m\u001b[0m\u001b[1;33m\u001b[0m\u001b[0m\n\u001b[0m\u001b[0;32m    840\u001b[0m         \u001b[1;32mreturn\u001b[0m \u001b[0mgrouper\u001b[0m\u001b[1;33m\u001b[0m\u001b[1;33m\u001b[0m\u001b[0m\n\u001b[0;32m    841\u001b[0m     \u001b[1;32melse\u001b[0m\u001b[1;33m:\u001b[0m\u001b[1;33m\u001b[0m\u001b[1;33m\u001b[0m\u001b[0m\n",
      "\u001b[1;31mValueError\u001b[0m: Grouper and axis must be same length"
     ]
    },
    {
     "data": {
      "image/png": "[encoded data removed]",
      "text/plain": [
       "<Figure size 1440x720 with 1 Axes>"
      ]
     },
     "metadata": {
      "needs_background": "light"
     },
     "output_type": "display_data"
    }
   ],
   "source": [
    "import numpy as np\n",
    "X_grid = np.arange(1,367)\n",
    "\n",
    "dim = (20,10)\n",
    "fig, ax = plt.subplots(figsize=dim)\n",
    "ax.set_xticks([])\n",
    "plot_1 = sns.swarmplot(x=X_grid, y=duration_test,color='green')\n",
    "plot_2= sns.swarmplot(x=X_grid, y=pred,color='red')\n",
    "sns.set_context(\"notebook\",font_scale=1.5, rc={\"lines.linewidth\":2.5})\n",
    "\n",
    "for item in plot_1.get_xticklabels():\n",
    "    item.set_visible(False)\n",
    "for item in plot_2.get_xticklabels():\n",
    "    item.set_visible(False)    "
   ]
  },
  {
   "cell_type": "code",
   "execution_count": null,
   "metadata": {},
   "outputs": [],
   "source": []
  }
 ],
 "metadata": {
  "kernelspec": {
   "display_name": "Python 3",
   "language": "python",
   "name": "python3"
  },
  "language_info": {
   "codemirror_mode": {
    "name": "ipython",
    "version": 3
   },
   "file_extension": ".py",
   "mimetype": "text/x-python",
   "name": "python",
   "nbconvert_exporter": "python",
   "pygments_lexer": "ipython3",
   "version": "3.8.5"
  }
 },
 "nbformat": 4,
 "nbformat_minor": 4
}
