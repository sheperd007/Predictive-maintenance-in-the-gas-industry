{
 "cells": [
  {
   "cell_type": "code",
   "execution_count": 1,
   "id": "acknowledged-breakdown",
   "metadata": {},
   "outputs": [],
   "source": [
    "import pandas as pd\n",
    "#from pandas_profiling import ProfileReport\n",
    "from persiantools.jdatetime import JalaliDate\n",
    "from persiantools.jdatetime import JalaliDateTime\n",
    "import matplotlib.pyplot as plt\n",
    "from matplotlib import pyplot\n",
    "%matplotlib inline\n",
    "import seaborn as sns\n",
    "import datetime, pytz\n",
    "import math\n",
    "import numpy as np"
   ]
  },
  {
   "cell_type": "code",
   "execution_count": 2,
   "id": "endless-polish",
   "metadata": {},
   "outputs": [],
   "source": [
    "Data=pd.read_excel(\"/media/sda6/Projects/Data Mining on gas Network/output.xls\",dtype={'TOF':\"category\", 'AF':\"category\",\n",
    "       'DS':\"category\", 'feeder':\"category\",'TOP':\"category\", 'Relay':\"category\", 'COB':\"category\", 'PD':\"category\",\n",
    "       'COP':\"category\",\"DOFDB\":\"float64\"})"
   ]
  },
  {
   "cell_type": "code",
   "execution_count": 3,
   "id": "foreign-chest",
   "metadata": {},
   "outputs": [],
   "source": [
    "time=list()\n",
    "for i in Data['DFB']:\n",
    "    i=i.split()\n",
    "    yeardaymonth=i[0].split(\"/\")\n",
    "    hourandminute=i[1].split(\":\")\n",
    "    time.append(JalaliDateTime(int(yeardaymonth[0]),int(yeardaymonth[1]),int(yeardaymonth[2]),int(hourandminute[0]),int(hourandminute[1])).to_gregorian())\n",
    "Data['DFB']=time"
   ]
  },
  {
   "cell_type": "code",
   "execution_count": 4,
   "id": "another-founder",
   "metadata": {},
   "outputs": [],
   "source": [
    "time=list()\n",
    "for i in Data['CFB']:\n",
    "    try:\n",
    "        i=i.split()\n",
    "        yeardaymonth=i[0].split(\"/\")\n",
    "        hourandminute=i[1].split(\":\")\n",
    "        time.append(JalaliDateTime(int(yeardaymonth[0]),int(yeardaymonth[1]),int(yeardaymonth[2]),int(hourandminute[0]),int(hourandminute[1])).to_gregorian())\n",
    "    except:\n",
    "        time.append(float(\"NaN\"))\n",
    "Data['CFB']=time"
   ]
  },
  {
   "cell_type": "code",
   "execution_count": 5,
   "id": "remarkable-witness",
   "metadata": {},
   "outputs": [],
   "source": [
    "time=list()\n",
    "for i in Data['PS']:\n",
    "    try:\n",
    "        i=i.split()\n",
    "        yeardaymonth=i[0].split(\"/\")\n",
    "        hourandminute=i[1].split(\":\")\n",
    "        time.append(JalaliDateTime(int(yeardaymonth[0]),int(yeardaymonth[1]),int(yeardaymonth[2]),int(hourandminute[0]),int(hourandminute[1])).to_gregorian())\n",
    "    except:\n",
    "        time.append(float(\"NaN\"))\n",
    "Data['PS']=time"
   ]
  },
  {
   "cell_type": "code",
   "execution_count": 6,
   "id": "owned-greensboro",
   "metadata": {},
   "outputs": [
    {
     "name": "stdout",
     "output_type": "stream",
     "text": [
      "<class 'pandas.core.frame.DataFrame'>\n",
      "RangeIndex: 1649 entries, 0 to 1648\n",
      "Data columns (total 17 columns):\n",
      " #   Column  Non-Null Count  Dtype         \n",
      "---  ------  --------------  -----         \n",
      " 0   BN      1649 non-null   int64         \n",
      " 1   TOF     1649 non-null   category      \n",
      " 2   AF      1649 non-null   category      \n",
      " 3   DS      1649 non-null   category      \n",
      " 4   feeder  1649 non-null   category      \n",
      " 5   RC      1649 non-null   float64       \n",
      " 6   TOP     1649 non-null   category      \n",
      " 7   Relay   1649 non-null   category      \n",
      " 8   COB     1649 non-null   category      \n",
      " 9   PD      858 non-null    category      \n",
      " 10  COP     807 non-null    category      \n",
      " 11  DFB     1649 non-null   datetime64[ns]\n",
      " 12  CFB     1646 non-null   datetime64[ns]\n",
      " 13  DOFDB   1649 non-null   float64       \n",
      " 14  PS      812 non-null    datetime64[ns]\n",
      " 15  STOLP   813 non-null    float64       \n",
      " 16  EENS    1649 non-null   float64       \n",
      "dtypes: category(9), datetime64[ns](3), float64(4), int64(1)\n",
      "memory usage: 125.9 KB\n",
      "None\n"
     ]
    }
   ],
   "source": [
    "print(Data.info())"
   ]
  },
  {
   "cell_type": "code",
   "execution_count": 7,
   "id": "whole-niagara",
   "metadata": {},
   "outputs": [],
   "source": [
    "Data=Data.sort_values(\"DFB\",ignore_index=True)"
   ]
  },
  {
   "cell_type": "code",
   "execution_count": 13,
   "id": "placed-latin",
   "metadata": {},
   "outputs": [
    {
     "data": {
      "text/html": [
       "<div>\n",
       "<style scoped>\n",
       "    .dataframe tbody tr th:only-of-type {\n",
       "        vertical-align: middle;\n",
       "    }\n",
       "\n",
       "    .dataframe tbody tr th {\n",
       "        vertical-align: top;\n",
       "    }\n",
       "\n",
       "    .dataframe thead th {\n",
       "        text-align: right;\n",
       "    }\n",
       "</style>\n",
       "<table border=\"1\" class=\"dataframe\">\n",
       "  <thead>\n",
       "    <tr style=\"text-align: right;\">\n",
       "      <th></th>\n",
       "      <th>feeder</th>\n",
       "      <th>DFB</th>\n",
       "    </tr>\n",
       "  </thead>\n",
       "  <tbody>\n",
       "    <tr>\n",
       "      <th>0</th>\n",
       "      <td>A</td>\n",
       "      <td>2019-03-21 06:54:00</td>\n",
       "    </tr>\n",
       "    <tr>\n",
       "      <th>1</th>\n",
       "      <td>A</td>\n",
       "      <td>2019-03-22 16:26:00</td>\n",
       "    </tr>\n",
       "    <tr>\n",
       "      <th>2</th>\n",
       "      <td>A</td>\n",
       "      <td>2019-03-25 17:54:00</td>\n",
       "    </tr>\n",
       "    <tr>\n",
       "      <th>3</th>\n",
       "      <td>A</td>\n",
       "      <td>2019-03-26 00:57:00</td>\n",
       "    </tr>\n",
       "    <tr>\n",
       "      <th>4</th>\n",
       "      <td>A</td>\n",
       "      <td>2019-03-29 00:42:00</td>\n",
       "    </tr>\n",
       "    <tr>\n",
       "      <th>...</th>\n",
       "      <td>...</td>\n",
       "      <td>...</td>\n",
       "    </tr>\n",
       "    <tr>\n",
       "      <th>183</th>\n",
       "      <td>A</td>\n",
       "      <td>2020-03-11 09:54:00</td>\n",
       "    </tr>\n",
       "    <tr>\n",
       "      <th>184</th>\n",
       "      <td>A</td>\n",
       "      <td>2020-03-14 09:23:00</td>\n",
       "    </tr>\n",
       "    <tr>\n",
       "      <th>185</th>\n",
       "      <td>A</td>\n",
       "      <td>2020-03-18 02:24:00</td>\n",
       "    </tr>\n",
       "    <tr>\n",
       "      <th>186</th>\n",
       "      <td>A</td>\n",
       "      <td>2020-03-19 02:55:00</td>\n",
       "    </tr>\n",
       "    <tr>\n",
       "      <th>187</th>\n",
       "      <td>A</td>\n",
       "      <td>2020-03-19 04:25:00</td>\n",
       "    </tr>\n",
       "  </tbody>\n",
       "</table>\n",
       "<p>188 rows × 2 columns</p>\n",
       "</div>"
      ],
      "text/plain": [
       "    feeder                 DFB\n",
       "0        A 2019-03-21 06:54:00\n",
       "1        A 2019-03-22 16:26:00\n",
       "2        A 2019-03-25 17:54:00\n",
       "3        A 2019-03-26 00:57:00\n",
       "4        A 2019-03-29 00:42:00\n",
       "..     ...                 ...\n",
       "183      A 2020-03-11 09:54:00\n",
       "184      A 2020-03-14 09:23:00\n",
       "185      A 2020-03-18 02:24:00\n",
       "186      A 2020-03-19 02:55:00\n",
       "187      A 2020-03-19 04:25:00\n",
       "\n",
       "[188 rows x 2 columns]"
      ]
     },
     "execution_count": 13,
     "metadata": {},
     "output_type": "execute_result"
    }
   ],
   "source": [
    "Data[Data.feeder==\"A\"].reset_index().sort_values(\"DFB\",ignore_index=True)[[\"feeder\",\"DFB\"]]"
   ]
  },
  {
   "cell_type": "code",
   "execution_count": 9,
   "id": "addressed-zimbabwe",
   "metadata": {},
   "outputs": [],
   "source": [
    "def diff(FEEDER,DATA):\n",
    "    DATA=DATA[DATA.feeder==FEEDER].reset_index().sort_values(\"DFB\",ignore_index=True)\n",
    "    pois=list()\n",
    "    for i in range(DATA.shape[0]-1):\n",
    "        pois.append((DATA.DFB[i+1]-DATA.DFB[i]).days)\n",
    "    return pois"
   ]
  },
  {
   "cell_type": "code",
   "execution_count": 10,
   "id": "starting-mustang",
   "metadata": {},
   "outputs": [
    {
     "name": "stdout",
     "output_type": "stream",
     "text": [
      "A :  1.4919786096256684\n",
      "B :  6.037735849056604\n",
      "C :  1.6534090909090908\n",
      "D :  1.4947368421052631\n",
      "E :  3.2448979591836733\n",
      "F :  2.1956521739130435\n",
      "G :  2.393700787401575\n",
      "H :  2.4796747967479673\n",
      "I :  1.4375\n",
      "J :  2.6206896551724137\n",
      "K :  1.9337748344370862\n",
      "L :  6.113207547169812\n",
      "M :  18.470588235294116\n",
      "N :  40.57142857142857\n",
      "O :  47.166666666666664\n"
     ]
    }
   ],
   "source": [
    "for i in pd.unique(Data.feeder):\n",
    "    print(i,\": \",np.mean(diff(i,Data)))"
   ]
  },
  {
   "cell_type": "code",
   "execution_count": null,
   "id": "automotive-square",
   "metadata": {},
   "outputs": [],
   "source": []
  }
 ],
 "metadata": {
  "kernelspec": {
   "display_name": "Python 3",
   "language": "python",
   "name": "python3"
  },
  "language_info": {
   "codemirror_mode": {
    "name": "ipython",
    "version": 3
   },
   "file_extension": ".py",
   "mimetype": "text/x-python",
   "name": "python",
   "nbconvert_exporter": "python",
   "pygments_lexer": "ipython3",
   "version": "3.8.5"
  }
 },
 "nbformat": 4,
 "nbformat_minor": 5
}
