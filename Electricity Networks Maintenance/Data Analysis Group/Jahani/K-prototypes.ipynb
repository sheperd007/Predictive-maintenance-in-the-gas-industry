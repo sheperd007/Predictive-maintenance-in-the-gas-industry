{
 "cells": [
  {
   "cell_type": "markdown",
   "metadata": {},
   "source": [
    "# K-prototypes"
   ]
  },
  {
   "cell_type": "code",
   "execution_count": null,
   "metadata": {},
   "outputs": [],
   "source": [
    "pip install kmodes"
   ]
  },
  {
   "cell_type": "code",
   "execution_count": null,
   "metadata": {},
   "outputs": [],
   "source": [
    "pip install plotnine"
   ]
  },
  {
   "cell_type": "code",
   "execution_count": 17,
   "metadata": {},
   "outputs": [],
   "source": [
    "import pandas as pd\n",
    "import seaborn as sns\n",
    "import numpy as np\n",
    "import missingno as msno \n",
    "import matplotlib.pyplot as plt\n",
    "import matplotlib.dates as mdates\n",
    "from persiantools.jdatetime import JalaliDate\n",
    "from persiantools.jdatetime import JalaliDateTime\n",
    "import datetime, pytz\n",
    "import math\n",
    "from kmodes.kprototypes import KPrototypes\n",
    "\n",
    "# Import module for data manipulation\n",
    "import pandas as pd\n",
    "# Import module for linear algebra\n",
    "import numpy as np\n",
    "# Import module for data visualization\n",
    "from plotnine import *\n",
    "import plotnine\n"
   ]
  },
  {
   "cell_type": "markdown",
   "metadata": {},
   "source": [
    "# Reading the Data"
   ]
  },
  {
   "cell_type": "code",
   "execution_count": 18,
   "metadata": {},
   "outputs": [],
   "source": [
    "data = pd.read_excel(\"/media/sda6/Projects/Data Mining on gas Network/output.xls\",dtype={'TOF':\"category\", 'AF':\"category\",\n",
    "       'DS':\"category\", 'feeder':\"category\",'TOP':\"category\", 'Relay':\"category\", 'COB':\"category\", 'PD':\"category\",\n",
    "       'COP':\"category\",\"DOFDB\":\"float64\"}).drop('BN',axis=1)"
   ]
  },
  {
   "cell_type": "code",
   "execution_count": 19,
   "metadata": {},
   "outputs": [],
   "source": [
    "time=list()\n",
    "for i in data['DFB']:\n",
    "    i=i.split()\n",
    "    yeardaymonth=i[0].split(\"/\")\n",
    "    hourandminute=i[1].split(\":\")\n",
    "    time.append(JalaliDateTime(int(yeardaymonth[0]),int(yeardaymonth[1]),int(yeardaymonth[2]),int(hourandminute[0]),int(hourandminute[1])).to_gregorian())\n",
    "data['DFB']=time"
   ]
  },
  {
   "cell_type": "code",
   "execution_count": 20,
   "metadata": {},
   "outputs": [],
   "source": [
    "time=list()\n",
    "for i in data['CFB']:\n",
    "    try:\n",
    "        i=i.split()\n",
    "        yeardaymonth=i[0].split(\"/\")\n",
    "        hourandminute=i[1].split(\":\")\n",
    "        time.append(JalaliDateTime(int(yeardaymonth[0]),int(yeardaymonth[1]),int(yeardaymonth[2]),int(hourandminute[0]),int(hourandminute[1])).to_gregorian())\n",
    "    except:\n",
    "        time.append(float(\"NaN\"))\n",
    "data['CFB']=time"
   ]
  },
  {
   "cell_type": "code",
   "execution_count": 21,
   "metadata": {},
   "outputs": [],
   "source": [
    "time=list()\n",
    "for i in data['PS']:\n",
    "    try:\n",
    "        i=i.split()\n",
    "        yeardaymonth=i[0].split(\"/\")\n",
    "        hourandminute=i[1].split(\":\")\n",
    "        time.append(JalaliDateTime(int(yeardaymonth[0]),int(yeardaymonth[1]),int(yeardaymonth[2]),int(hourandminute[0]),int(hourandminute[1])).to_gregorian())\n",
    "    except:\n",
    "        time.append(float(\"NaN\"))\n",
    "data['PS']=time"
   ]
  },
  {
   "cell_type": "code",
   "execution_count": 22,
   "metadata": {},
   "outputs": [],
   "source": [
    "data=data[['feeder','DOFDB','EENS','RC','COB']]"
   ]
  },
  {
   "cell_type": "code",
   "execution_count": 23,
   "metadata": {},
   "outputs": [
    {
     "name": "stdout",
     "output_type": "stream",
     "text": [
      "<class 'pandas.core.frame.DataFrame'>\n",
      "RangeIndex: 1649 entries, 0 to 1648\n",
      "Data columns (total 5 columns):\n",
      " #   Column  Non-Null Count  Dtype   \n",
      "---  ------  --------------  -----   \n",
      " 0   feeder  1649 non-null   category\n",
      " 1   DOFDB   1649 non-null   float64 \n",
      " 2   EENS    1649 non-null   float64 \n",
      " 3   RC      1649 non-null   float64 \n",
      " 4   COB     1649 non-null   category\n",
      "dtypes: category(2), float64(3)\n",
      "memory usage: 43.5 KB\n"
     ]
    }
   ],
   "source": [
    "data.info()"
   ]
  },
  {
   "cell_type": "code",
   "execution_count": 24,
   "metadata": {},
   "outputs": [
    {
     "data": {
      "text/plain": [
       "feeder    0\n",
       "DOFDB     0\n",
       "EENS      0\n",
       "RC        0\n",
       "COB       0\n",
       "dtype: int64"
      ]
     },
     "execution_count": 24,
     "metadata": {},
     "output_type": "execute_result"
    }
   ],
   "source": [
    "data.isna().sum()"
   ]
  },
  {
   "cell_type": "code",
   "execution_count": 25,
   "metadata": {},
   "outputs": [
    {
     "name": "stdout",
     "output_type": "stream",
     "text": [
      "Categorical columns           : ['feeder', 'COB']\n",
      "Categorical columns position  : [0, 4]\n"
     ]
    }
   ],
   "source": [
    "# Get the position of categorical columns\n",
    "catColumnsPos = [data.columns.get_loc(col) for col in list(data.select_dtypes('category').columns)]\n",
    "print('Categorical columns           : {}'.format(list(data.select_dtypes('category').columns)))\n",
    "print('Categorical columns position  : {}'.format(catColumnsPos))"
   ]
  },
  {
   "cell_type": "code",
   "execution_count": 26,
   "metadata": {},
   "outputs": [
    {
     "name": "stdout",
     "output_type": "stream",
     "text": [
      "Cluster initiation: 1\n",
      "Cluster initiation: 2\n",
      "Cluster initiation: 3\n",
      "Cluster initiation: 4\n",
      "Cluster initiation: 5\n",
      "Cluster initiation: 6\n"
     ]
    },
    {
     "data": {
      "image/png": "[encoded data removed]",
      "text/plain": [
       "<Figure size 800x480 with 1 Axes>"
      ]
     },
     "metadata": {
      "needs_background": "light"
     },
     "output_type": "display_data"
    },
    {
     "data": {
      "text/plain": [
       "<ggplot: (8733513236456)>"
      ]
     },
     "execution_count": 26,
     "metadata": {},
     "output_type": "execute_result"
    }
   ],
   "source": [
    "# Choose optimal K using Elbow method\n",
    "cost = []\n",
    "for cluster in range(1, 10):\n",
    "    try:\n",
    "        kprototype = KPrototypes(n_jobs = -1, n_clusters = cluster, init = 'Huang')\n",
    "        kprototype.fit_predict(data, categorical = catColumnsPos)\n",
    "        cost.append(kprototype.cost_)\n",
    "        print('Cluster initiation: {}'.format(cluster))\n",
    "    except:\n",
    "        break\n",
    "# Converting the results into a dataframe and plotting them\n",
    "df_cost = pd.DataFrame({'Cluster':range(1, len(cost)+1), 'Cost':cost})\n",
    "# Data viz\n",
    "plotnine.options.figure_size = (8, 4.8)\n",
    "(\n",
    "    ggplot(data = df_cost)+\n",
    "    geom_line(aes(x = 'Cluster',\n",
    "                  y = 'Cost'))+\n",
    "    geom_point(aes(x = 'Cluster',\n",
    "                   y = 'Cost'))+\n",
    "    geom_label(aes(x = 'Cluster',\n",
    "                   y = 'Cost',\n",
    "                   label = 'Cluster'),\n",
    "               size = 10,\n",
    "               nudge_y = 1000) +\n",
    "    labs(title = 'Optimal number of cluster with Elbow Method')+\n",
    "    xlab('Number of Clusters k')+\n",
    "    ylab('Cost')+\n",
    "    theme_minimal()\n",
    ")"
   ]
  },
  {
   "cell_type": "code",
   "execution_count": 27,
   "metadata": {},
   "outputs": [
    {
     "data": {
      "text/plain": [
       "array([1, 1, 1, ..., 1, 1, 1], dtype=uint16)"
      ]
     },
     "execution_count": 27,
     "metadata": {},
     "output_type": "execute_result"
    }
   ],
   "source": [
    "kprototype = KPrototypes(n_jobs = -1, n_clusters = 3, init = 'Huang')\n",
    "kprototype.fit_predict(data, categorical = catColumnsPos)"
   ]
  },
  {
   "cell_type": "code",
   "execution_count": 28,
   "metadata": {},
   "outputs": [
    {
     "data": {
      "text/plain": [
       "array([['36174.0', '0.01172791243158712', '0.01774193548387043', 'H',\n",
       "        'D'],\n",
       "       ['41.31771150334753', '0.05744464277811383',\n",
       "        '0.25117521057075026', 'D', 'A'],\n",
       "       ['4238.25', '0.2165754495699768', '0.34274193548386994', 'I', 'D']],\n",
       "      dtype='<U32')"
      ]
     },
     "execution_count": 28,
     "metadata": {},
     "output_type": "execute_result"
    }
   ],
   "source": [
    "kprototype.cluster_centroids_"
   ]
  },
  {
   "cell_type": "code",
   "execution_count": 29,
   "metadata": {},
   "outputs": [],
   "source": [
    "# Add the cluster to the dataframe\n",
    "data['Cluster Labels'] = kprototype.labels_\n",
    "data['Segment'] = data['Cluster Labels'].map({0:'First', 1:'Second',2:'Third'})\n",
    "# Order the cluster\n",
    "data['Segment'] = data['Segment'].astype('category')\n",
    "data['Segment'] = data['Segment'].cat.reorder_categories(['First','Second','Third'])"
   ]
  },
  {
   "cell_type": "code",
   "execution_count": 30,
   "metadata": {},
   "outputs": [
    {
     "data": {
      "text/html": [
       "<div>\n",
       "<style scoped>\n",
       "    .dataframe tbody tr th:only-of-type {\n",
       "        vertical-align: middle;\n",
       "    }\n",
       "\n",
       "    .dataframe tbody tr th {\n",
       "        vertical-align: top;\n",
       "    }\n",
       "\n",
       "    .dataframe thead th {\n",
       "        text-align: right;\n",
       "    }\n",
       "</style>\n",
       "<table border=\"1\" class=\"dataframe\">\n",
       "  <thead>\n",
       "    <tr style=\"text-align: right;\">\n",
       "      <th></th>\n",
       "      <th>Segment</th>\n",
       "      <th>Total</th>\n",
       "      <th>feeder</th>\n",
       "      <th>COB</th>\n",
       "      <th>DOFDB</th>\n",
       "      <th>EENS</th>\n",
       "      <th>RC</th>\n",
       "    </tr>\n",
       "  </thead>\n",
       "  <tbody>\n",
       "    <tr>\n",
       "      <th>0</th>\n",
       "      <td>First</td>\n",
       "      <td>2</td>\n",
       "      <td>H</td>\n",
       "      <td>W</td>\n",
       "      <td>36174.000000</td>\n",
       "      <td>0.011728</td>\n",
       "      <td>0.017742</td>\n",
       "    </tr>\n",
       "    <tr>\n",
       "      <th>1</th>\n",
       "      <td>Second</td>\n",
       "      <td>1643</td>\n",
       "      <td>D</td>\n",
       "      <td>A</td>\n",
       "      <td>41.317712</td>\n",
       "      <td>0.057445</td>\n",
       "      <td>0.251175</td>\n",
       "    </tr>\n",
       "    <tr>\n",
       "      <th>2</th>\n",
       "      <td>Third</td>\n",
       "      <td>4</td>\n",
       "      <td>I</td>\n",
       "      <td>D</td>\n",
       "      <td>4238.250000</td>\n",
       "      <td>0.216575</td>\n",
       "      <td>0.342742</td>\n",
       "    </tr>\n",
       "  </tbody>\n",
       "</table>\n",
       "</div>"
      ],
      "text/plain": [
       "  Segment  Total feeder COB         DOFDB      EENS        RC\n",
       "0   First      2      H   W  36174.000000  0.011728  0.017742\n",
       "1  Second   1643      D   A     41.317712  0.057445  0.251175\n",
       "2   Third      4      I   D   4238.250000  0.216575  0.342742"
      ]
     },
     "execution_count": 30,
     "metadata": {},
     "output_type": "execute_result"
    }
   ],
   "source": [
    "# Cluster interpretation\n",
    "'feeder','DOFDB','EENS','RC','COB'\n",
    "data.rename(columns = {'Cluster Labels':'Total'}, inplace = True)\n",
    "data.groupby('Segment').agg(\n",
    "    {\n",
    "        'Total':'count',\n",
    "        'feeder': lambda x: x.value_counts().index[0],\n",
    "        'COB': lambda x: x.value_counts().index[0],\n",
    "        'DOFDB': 'mean',\n",
    "        'EENS': 'mean',\n",
    "        'RC': 'mean'\n",
    "    }\n",
    ").reset_index()"
   ]
  }
 ],
 "metadata": {
  "kernelspec": {
   "display_name": "Python 3",
   "language": "python",
   "name": "python3"
  },
  "language_info": {
   "codemirror_mode": {
    "name": "ipython",
    "version": 3
   },
   "file_extension": ".py",
   "mimetype": "text/x-python",
   "name": "python",
   "nbconvert_exporter": "python",
   "pygments_lexer": "ipython3",
   "version": "3.8.5"
  }
 },
 "nbformat": 4,
 "nbformat_minor": 4
}
